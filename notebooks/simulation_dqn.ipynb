{
 "cells": [
  {
   "cell_type": "code",
   "execution_count": 1,
   "id": "initial_id",
   "metadata": {
    "collapsed": true,
    "ExecuteTime": {
     "end_time": "2024-04-02T00:13:36.071363Z",
     "start_time": "2024-04-02T00:13:33.638035Z"
    }
   },
   "outputs": [],
   "source": [
    "from src.main import train_dqn\n",
    "from src.visualization import plot_rewards, plot_q, plot_all_rewards"
   ]
  },
  {
   "cell_type": "code",
   "outputs": [
    {
     "name": "stderr",
     "output_type": "stream",
     "text": [
      "A.L.E: Arcade Learning Environment (version 0.8.1+53f58b7)\n",
      "[Powered by Stella]\n",
      "2024-04-02 01:13:36.135076: I metal_plugin/src/device/metal_device.cc:1154] Metal device set to: Apple M2 Max\n",
      "2024-04-02 01:13:36.135094: I metal_plugin/src/device/metal_device.cc:296] systemMemory: 32.00 GB\n",
      "2024-04-02 01:13:36.135098: I metal_plugin/src/device/metal_device.cc:313] maxCacheSize: 10.67 GB\n",
      "2024-04-02 01:13:36.135119: I tensorflow/core/common_runtime/pluggable_device/pluggable_device_factory.cc:305] Could not identify NUMA node of platform GPU ID 0, defaulting to 0. Your kernel may not have been built with NUMA support.\n",
      "2024-04-02 01:13:36.135128: I tensorflow/core/common_runtime/pluggable_device/pluggable_device_factory.cc:271] Created TensorFlow device (/job:localhost/replica:0/task:0/device:GPU:0 with 0 MB memory) -> physical PluggableDevice (device: 0, name: METAL, pci bus id: <undefined>)\n"
     ]
    },
    {
     "name": "stdout",
     "output_type": "stream",
     "text": [
      "Episode: 1, Steps: 445, eps: 1.000, total rewards: 135.0\n",
      "Episode: 2, Steps: 500, eps: 0.999, total rewards: 90.0\n",
      "Episode: 3, Steps: 520, eps: 0.999, total rewards: 100.0\n"
     ]
    },
    {
     "name": "stderr",
     "output_type": "stream",
     "text": [
      "2024-04-02 01:13:36.832497: I tensorflow/core/grappler/optimizers/custom_graph_optimizer_registry.cc:117] Plugin optimizer for device_type GPU is enabled.\n"
     ]
    },
    {
     "name": "stdout",
     "output_type": "stream",
     "text": [
      "Episode: 4, Steps: 364, eps: 0.998, total rewards: 110.0\n",
      "Episode: 5, Steps: 464, eps: 0.998, total rewards: 75.0\n",
      "Episode: 6, Steps: 511, eps: 0.997, total rewards: 35.0\n",
      "Episode: 7, Steps: 490, eps: 0.997, total rewards: 155.0\n",
      "Episode: 8, Steps: 1149, eps: 0.996, total rewards: 240.0\n",
      "Episode: 9, Steps: 367, eps: 0.996, total rewards: 65.0\n",
      "Episode: 10, Steps: 600, eps: 0.995, total rewards: 155.0\n",
      "Episode: 11, Steps: 460, eps: 0.994, total rewards: 60.0\n",
      "Episode: 12, Steps: 309, eps: 0.994, total rewards: 65.0\n",
      "Episode: 13, Steps: 730, eps: 0.993, total rewards: 200.0\n",
      "Episode: 14, Steps: 897, eps: 0.993, total rewards: 225.0\n",
      "Episode: 15, Steps: 307, eps: 0.992, total rewards: 35.0\n",
      "Episode: 16, Steps: 555, eps: 0.992, total rewards: 120.0\n",
      "Episode: 17, Steps: 385, eps: 0.991, total rewards: 125.0\n"
     ]
    }
   ],
   "source": [
    "spaceinvaders_rewards, spaceinvaders_max_episodes, spaceinvaders_q_values, spaceinvaders_model = train_dqn(\"ALE/SpaceInvaders-v5\", method=\"dqn\")"
   ],
   "metadata": {
    "collapsed": false,
    "is_executing": true,
    "ExecuteTime": {
     "start_time": "2024-04-02T00:13:36.072448Z"
    }
   },
   "id": "c46b64e827b718ac",
   "execution_count": null
  },
  {
   "cell_type": "code",
   "outputs": [],
   "source": [
    "plot_rewards(spaceinvaders_rewards, title='SpaceInvaders Rewards Over Episodes')"
   ],
   "metadata": {
    "collapsed": false,
    "is_executing": true
   },
   "id": "c26e6ff8f46ed62a",
   "execution_count": null
  },
  {
   "cell_type": "code",
   "outputs": [],
   "source": [
    "plot_q(spaceinvaders_q_values, title='SpaceInvaders Q Values Over Episodes')"
   ],
   "metadata": {
    "collapsed": false,
    "is_executing": true
   },
   "id": "15b04636cf37c2e1",
   "execution_count": null
  },
  {
   "cell_type": "code",
   "outputs": [],
   "source": [
    "breakout_rewards, breakout_max_episodes, breakout_q_values, breakout_model = train_dqn(\"ALE/Breakout-v5\", method=\"dqn\")"
   ],
   "metadata": {
    "collapsed": false,
    "is_executing": true
   },
   "id": "f82aa173445d6d66",
   "execution_count": null
  },
  {
   "cell_type": "code",
   "outputs": [],
   "source": [
    "plot_rewards(breakout_rewards, title='Breakout Rewards Over Episodes')"
   ],
   "metadata": {
    "collapsed": false,
    "is_executing": true
   },
   "id": "45dcd49a235a6154",
   "execution_count": null
  },
  {
   "cell_type": "code",
   "outputs": [],
   "source": [
    "plot_q(breakout_q_values, title='Breakout Q Values Over Episodes')"
   ],
   "metadata": {
    "collapsed": false,
    "is_executing": true
   },
   "id": "78854389b773bbb3"
  },
  {
   "cell_type": "code",
   "outputs": [],
   "source": [
    "seaquest_rewards, saaquest_max_episodes, saaquest_q_values, seaquest_model = train_dqn(\"ALE/Seaquest-v5\", method=\"dqn\")"
   ],
   "metadata": {
    "collapsed": false,
    "is_executing": true
   },
   "id": "f57d8cef77736078",
   "execution_count": null
  },
  {
   "cell_type": "code",
   "outputs": [],
   "source": [
    "plot_rewards(seaquest_rewards, title='SeaQuest Rewards Over Episodes')"
   ],
   "metadata": {
    "collapsed": false,
    "is_executing": true
   },
   "id": "8ee1de41cf3df084"
  },
  {
   "cell_type": "code",
   "outputs": [],
   "source": [
    "plot_q(seaquest_rewards, title='SeaQuest Q Values Over Episodes')"
   ],
   "metadata": {
    "collapsed": false,
    "is_executing": true
   },
   "id": "ce310f77f13f3ef6"
  },
  {
   "cell_type": "code",
   "outputs": [],
   "source": [
    "pong_rewards, pong_max_episodes, pong_q_values, pong_model = train_dqn(\"ALE/Pong-v5\", method=\"dqn\")"
   ],
   "metadata": {
    "collapsed": false,
    "is_executing": true
   },
   "id": "86db89be87f0aa1"
  },
  {
   "cell_type": "code",
   "outputs": [],
   "source": [
    "plot_rewards(pong_rewards, title='Pong Rewards Over Episodes')"
   ],
   "metadata": {
    "collapsed": false,
    "is_executing": true
   },
   "id": "1a581f9736e76fe2"
  },
  {
   "cell_type": "code",
   "outputs": [],
   "source": [
    "plot_q(pong_rewards, title='Pong Q Values Over Episodes')"
   ],
   "metadata": {
    "collapsed": false,
    "is_executing": true
   },
   "id": "8b31c86b506cc235"
  },
  {
   "cell_type": "code",
   "outputs": [],
   "source": [
    "plot_all_rewards(spaceinvaders_rewards, breakout_rewards, pong_rewards, seaquest_rewards)"
   ],
   "metadata": {
    "collapsed": false,
    "is_executing": true
   },
   "id": "1422dbeb693e441b"
  },
  {
   "cell_type": "code",
   "outputs": [],
   "source": [],
   "metadata": {
    "collapsed": false,
    "is_executing": true
   },
   "id": "6ea3e38895176ae5"
  }
 ],
 "metadata": {
  "kernelspec": {
   "display_name": "Python 3",
   "language": "python",
   "name": "python3"
  },
  "language_info": {
   "codemirror_mode": {
    "name": "ipython",
    "version": 2
   },
   "file_extension": ".py",
   "mimetype": "text/x-python",
   "name": "python",
   "nbconvert_exporter": "python",
   "pygments_lexer": "ipython2",
   "version": "2.7.6"
  }
 },
 "nbformat": 4,
 "nbformat_minor": 5
}
