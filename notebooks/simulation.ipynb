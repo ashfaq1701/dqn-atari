{
 "cells": [
  {
   "cell_type": "code",
   "execution_count": 1,
   "id": "initial_id",
   "metadata": {
    "collapsed": true,
    "ExecuteTime": {
     "end_time": "2024-03-30T02:45:05.505145Z",
     "start_time": "2024-03-30T02:44:59.946951Z"
    }
   },
   "outputs": [],
   "source": [
    "from src.main import train_dqn"
   ]
  },
  {
   "cell_type": "code",
   "outputs": [],
   "source": [
    "seaquest_rewards, seaquest_model = train_dqn(\"ALE/Seaquest-v5\", learning_rate=1e-3)"
   ],
   "metadata": {
    "collapsed": false
   },
   "id": "f57d8cef77736078",
   "execution_count": null
  },
  {
   "cell_type": "code",
   "outputs": [],
   "source": [
    "pong_rewards, pong_model = train_dqn(\"ALE/Pong-v5\", learning_rate=1e-3)"
   ],
   "metadata": {
    "collapsed": false,
    "is_executing": true
   },
   "id": "86db89be87f0aa1"
  },
  {
   "cell_type": "code",
   "outputs": [],
   "source": [
    "breakout_rewards, breakout_model = train_dqn(\"ALE/Breakout-v5\", learning_rate=1e-3)"
   ],
   "metadata": {
    "collapsed": false
   },
   "id": "be90d49962a9fc20"
  },
  {
   "cell_type": "code",
   "outputs": [],
   "source": [
    "spaceinvaders_rewards, spaceinvaders_model = train_dqn(\"ALE/SpaceInvaders-v5\", learning_rate=1e-3)"
   ],
   "metadata": {
    "collapsed": false
   },
   "id": "452e8e49d7284c66"
  }
 ],
 "metadata": {
  "kernelspec": {
   "display_name": "Python 3",
   "language": "python",
   "name": "python3"
  },
  "language_info": {
   "codemirror_mode": {
    "name": "ipython",
    "version": 2
   },
   "file_extension": ".py",
   "mimetype": "text/x-python",
   "name": "python",
   "nbconvert_exporter": "python",
   "pygments_lexer": "ipython2",
   "version": "2.7.6"
  }
 },
 "nbformat": 4,
 "nbformat_minor": 5
}
