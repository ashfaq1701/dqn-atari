{
 "cells": [
  {
   "cell_type": "code",
   "execution_count": 1,
   "id": "initial_id",
   "metadata": {
    "collapsed": true,
    "ExecuteTime": {
     "end_time": "2024-03-31T16:24:55.499975Z",
     "start_time": "2024-03-31T16:24:53.399651Z"
    }
   },
   "outputs": [],
   "source": [
    "from src.main import train_dqn"
   ]
  },
  {
   "cell_type": "code",
   "outputs": [
    {
     "name": "stderr",
     "output_type": "stream",
     "text": [
      "A.L.E: Arcade Learning Environment (version 0.8.1+53f58b7)\n",
      "[Powered by Stella]\n",
      "2024-03-31 17:24:55.562302: I metal_plugin/src/device/metal_device.cc:1154] Metal device set to: Apple M2 Max\n",
      "2024-03-31 17:24:55.562322: I metal_plugin/src/device/metal_device.cc:296] systemMemory: 32.00 GB\n",
      "2024-03-31 17:24:55.562325: I metal_plugin/src/device/metal_device.cc:313] maxCacheSize: 10.67 GB\n",
      "2024-03-31 17:24:55.562343: I tensorflow/core/common_runtime/pluggable_device/pluggable_device_factory.cc:305] Could not identify NUMA node of platform GPU ID 0, defaulting to 0. Your kernel may not have been built with NUMA support.\n",
      "2024-03-31 17:24:55.562352: I tensorflow/core/common_runtime/pluggable_device/pluggable_device_factory.cc:271] Created TensorFlow device (/job:localhost/replica:0/task:0/device:GPU:0 with 0 MB memory) -> physical PluggableDevice (device: 0, name: METAL, pci bus id: <undefined>)\n"
     ]
    },
    {
     "name": "stdout",
     "output_type": "stream",
     "text": [
      "Episode: 1, Steps: 446, eps: 1.000, total rewards: 100.0\n",
      "Episode: 2, Steps: 550, eps: 0.999, total rewards: 80.0\n"
     ]
    },
    {
     "name": "stderr",
     "output_type": "stream",
     "text": [
      "2024-03-31 17:24:56.201992: I tensorflow/core/grappler/optimizers/custom_graph_optimizer_registry.cc:117] Plugin optimizer for device_type GPU is enabled.\n"
     ]
    },
    {
     "name": "stdout",
     "output_type": "stream",
     "text": [
      "Episode: 3, Steps: 446, eps: 0.998, total rewards: 60.0\n",
      "Episode: 4, Steps: 461, eps: 0.997, total rewards: 20.0\n",
      "Episode: 5, Steps: 358, eps: 0.996, total rewards: 60.0\n",
      "Episode: 6, Steps: 464, eps: 0.995, total rewards: 100.0\n",
      "Episode: 7, Steps: 570, eps: 0.994, total rewards: 100.0\n",
      "Episode: 8, Steps: 414, eps: 0.993, total rewards: 80.0\n",
      "Episode: 9, Steps: 358, eps: 0.992, total rewards: 20.0\n",
      "Episode: 10, Steps: 556, eps: 0.991, total rewards: 100.0\n",
      "Episode: 11, Steps: 662, eps: 0.990, total rewards: 140.0\n",
      "Episode: 12, Steps: 472, eps: 0.989, total rewards: 60.0\n",
      "Episode: 13, Steps: 327, eps: 0.988, total rewards: 0.0\n",
      "Episode: 14, Steps: 444, eps: 0.987, total rewards: 80.0\n",
      "Episode: 15, Steps: 541, eps: 0.986, total rewards: 60.0\n",
      "Episode: 16, Steps: 471, eps: 0.985, total rewards: 60.0\n",
      "Episode: 17, Steps: 771, eps: 0.984, total rewards: 100.0\n",
      "Episode: 18, Steps: 347, eps: 0.983, total rewards: 0.0\n",
      "Episode: 19, Steps: 486, eps: 0.982, total rewards: 80.0\n",
      "Episode: 20, Steps: 475, eps: 0.981, total rewards: 60.0\n",
      "Episode: 21, Steps: 442, eps: 0.980, total rewards: 40.0\n",
      "Episode: 22, Steps: 370, eps: 0.979, total rewards: 40.0\n",
      "Episode: 23, Steps: 431, eps: 0.978, total rewards: 20.0\n",
      "Episode: 24, Steps: 411, eps: 0.977, total rewards: 40.0\n",
      "Episode: 25, Steps: 578, eps: 0.976, total rewards: 120.0\n",
      "Episode: 26, Steps: 424, eps: 0.975, total rewards: 20.0\n",
      "Episode: 27, Steps: 605, eps: 0.974, total rewards: 120.0\n",
      "Episode: 28, Steps: 586, eps: 0.973, total rewards: 100.0\n",
      "Episode: 29, Steps: 610, eps: 0.972, total rewards: 120.0\n",
      "Episode: 30, Steps: 593, eps: 0.971, total rewards: 100.0\n",
      "Episode: 31, Steps: 419, eps: 0.970, total rewards: 40.0\n",
      "Episode: 32, Steps: 518, eps: 0.969, total rewards: 100.0\n",
      "Episode: 33, Steps: 604, eps: 0.968, total rewards: 160.0\n",
      "Episode: 34, Steps: 532, eps: 0.967, total rewards: 60.0\n",
      "Episode: 35, Steps: 539, eps: 0.966, total rewards: 40.0\n",
      "Episode: 36, Steps: 617, eps: 0.965, total rewards: 80.0\n",
      "Episode: 37, Steps: 448, eps: 0.964, total rewards: 40.0\n",
      "Episode: 38, Steps: 518, eps: 0.963, total rewards: 100.0\n",
      "Episode: 39, Steps: 513, eps: 0.962, total rewards: 80.0\n",
      "Episode: 40, Steps: 451, eps: 0.961, total rewards: 40.0\n",
      "Episode: 41, Steps: 709, eps: 0.960, total rewards: 80.0\n",
      "Episode: 42, Steps: 506, eps: 0.959, total rewards: 60.0\n",
      "Episode: 43, Steps: 403, eps: 0.958, total rewards: 40.0\n",
      "Episode: 44, Steps: 612, eps: 0.957, total rewards: 100.0\n",
      "Episode: 45, Steps: 703, eps: 0.956, total rewards: 100.0\n",
      "Episode: 46, Steps: 636, eps: 0.955, total rewards: 80.0\n",
      "Episode: 47, Steps: 421, eps: 0.954, total rewards: 60.0\n",
      "Episode: 48, Steps: 390, eps: 0.953, total rewards: 40.0\n",
      "Episode: 49, Steps: 790, eps: 0.952, total rewards: 100.0\n",
      "Episode: 50, Steps: 495, eps: 0.951, total rewards: 60.0\n",
      "Episode: 51, Steps: 364, eps: 0.950, total rewards: 20.0\n",
      "Episode: 52, Steps: 699, eps: 0.949, total rewards: 140.0\n",
      "Episode: 53, Steps: 960, eps: 0.948, total rewards: 280.0\n",
      "Episode: 54, Steps: 465, eps: 0.947, total rewards: 80.0\n",
      "Episode: 55, Steps: 463, eps: 0.946, total rewards: 40.0\n",
      "Episode: 56, Steps: 378, eps: 0.945, total rewards: 20.0\n",
      "Episode: 57, Steps: 539, eps: 0.944, total rewards: 100.0\n",
      "Episode: 58, Steps: 373, eps: 0.943, total rewards: 0.0\n",
      "Episode: 59, Steps: 392, eps: 0.942, total rewards: 20.0\n",
      "Episode: 60, Steps: 632, eps: 0.941, total rewards: 100.0\n",
      "Episode: 61, Steps: 552, eps: 0.940, total rewards: 80.0\n",
      "Episode: 62, Steps: 385, eps: 0.939, total rewards: 20.0\n",
      "Episode: 63, Steps: 474, eps: 0.938, total rewards: 60.0\n",
      "Episode: 64, Steps: 904, eps: 0.937, total rewards: 320.0\n",
      "Episode: 65, Steps: 465, eps: 0.936, total rewards: 20.0\n",
      "Episode: 66, Steps: 337, eps: 0.935, total rewards: 0.0\n",
      "Episode: 67, Steps: 379, eps: 0.934, total rewards: 20.0\n",
      "Episode: 68, Steps: 342, eps: 0.933, total rewards: 0.0\n",
      "Episode: 69, Steps: 336, eps: 0.932, total rewards: 0.0\n",
      "Episode: 70, Steps: 579, eps: 0.931, total rewards: 80.0\n",
      "Episode: 71, Steps: 882, eps: 0.930, total rewards: 200.0\n",
      "Episode: 72, Steps: 450, eps: 0.929, total rewards: 60.0\n",
      "Episode: 73, Steps: 483, eps: 0.928, total rewards: 100.0\n",
      "Episode: 74, Steps: 776, eps: 0.927, total rewards: 200.0\n",
      "Episode: 75, Steps: 489, eps: 0.926, total rewards: 40.0\n",
      "Episode: 76, Steps: 389, eps: 0.925, total rewards: 20.0\n",
      "Episode: 77, Steps: 378, eps: 0.924, total rewards: 20.0\n",
      "Episode: 78, Steps: 450, eps: 0.923, total rewards: 40.0\n",
      "Episode: 79, Steps: 388, eps: 0.922, total rewards: 40.0\n",
      "Episode: 80, Steps: 554, eps: 0.921, total rewards: 100.0\n",
      "Episode: 81, Steps: 532, eps: 0.920, total rewards: 120.0\n"
     ]
    }
   ],
   "source": [
    "seaquest_rewards, saaquest_max_episodes, seaquest_model = train_dqn(\"ALE/Seaquest-v5\")"
   ],
   "metadata": {
    "collapsed": false,
    "is_executing": true,
    "ExecuteTime": {
     "start_time": "2024-03-31T16:24:55.501020Z"
    }
   },
   "id": "f57d8cef77736078",
   "execution_count": null
  },
  {
   "cell_type": "code",
   "outputs": [],
   "source": [
    "pong_rewards, pong_max_episodes, pong_model = train_dqn(\"ALE/Pong-v5\")"
   ],
   "metadata": {
    "collapsed": false,
    "is_executing": true
   },
   "id": "86db89be87f0aa1"
  },
  {
   "cell_type": "code",
   "outputs": [],
   "source": [
    "breakout_rewards, breakout_max_episodes, breakout_model = train_dqn(\"ALE/Breakout-v5\")"
   ],
   "metadata": {
    "collapsed": false,
    "is_executing": true
   },
   "id": "be90d49962a9fc20"
  },
  {
   "cell_type": "code",
   "outputs": [],
   "source": [
    "spaceinvaders_rewards, spaceinvaders_max_episodes, spaceinvaders_model = train_dqn(\"ALE/SpaceInvaders-v5\")"
   ],
   "metadata": {
    "collapsed": false,
    "is_executing": true
   },
   "id": "452e8e49d7284c66"
  },
  {
   "cell_type": "code",
   "outputs": [],
   "source": [
    "import numpy as np\n",
    "import matplotlib.pyplot as plt\n",
    "\n",
    "N_EPISODES = 1000\n",
    "x = range(1, N_EPISODES + 1)\n",
    "\n",
    "fig, axs = plt.subplots(4)\n",
    "\n",
    "axs[0].plot(x, seaquest_rewards)\n",
    "axs[0].set_title('SeaQuest Rewards')\n",
    "axs[0].set_xlabel('Episode')\n",
    "axs[0].set_ylabel('Total Rewards')\n",
    "\n",
    "axs[1].plot(x, pong_rewards)\n",
    "axs[1].set_title('Pong Rewards')\n",
    "axs[1].set_xlabel('Episode')\n",
    "axs[1].set_ylabel('Total Rewards')\n",
    "\n",
    "axs[2].plot(x, breakout_rewards)\n",
    "axs[2].set_title('Breakout Rewards')\n",
    "axs[2].set_xlabel('Episode')\n",
    "axs[2].set_ylabel('Total Rewards')\n",
    "\n",
    "axs[3].plot(x, spaceinvaders_rewards)\n",
    "axs[3].set_title('SpaceInvaders Rewards')\n",
    "axs[3].set_xlabel('Episode')\n",
    "axs[3].set_ylabel('Total Rewards')\n",
    "\n",
    "plt.tight_layout()\n",
    "\n",
    "plt.show()"
   ],
   "metadata": {
    "collapsed": false,
    "is_executing": true
   },
   "id": "1422dbeb693e441b"
  }
 ],
 "metadata": {
  "kernelspec": {
   "display_name": "Python 3",
   "language": "python",
   "name": "python3"
  },
  "language_info": {
   "codemirror_mode": {
    "name": "ipython",
    "version": 2
   },
   "file_extension": ".py",
   "mimetype": "text/x-python",
   "name": "python",
   "nbconvert_exporter": "python",
   "pygments_lexer": "ipython2",
   "version": "2.7.6"
  }
 },
 "nbformat": 4,
 "nbformat_minor": 5
}
