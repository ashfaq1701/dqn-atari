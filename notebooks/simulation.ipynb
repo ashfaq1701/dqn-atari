{
 "cells": [
  {
   "cell_type": "code",
   "execution_count": 3,
   "id": "initial_id",
   "metadata": {
    "collapsed": true,
    "ExecuteTime": {
     "end_time": "2024-04-02T00:11:12.928860Z",
     "start_time": "2024-04-02T00:11:12.925418Z"
    }
   },
   "outputs": [],
   "source": [
    "from src.main import train_dqn\n",
    "from src.visualization import plot_rewards, plot_q, plot_all_rewards"
   ]
  },
  {
   "cell_type": "code",
   "outputs": [
    {
     "name": "stderr",
     "output_type": "stream",
     "text": [
      "A.L.E: Arcade Learning Environment (version 0.8.1+53f58b7)\n",
      "[Powered by Stella]\n",
      "2024-04-02 01:11:13.015066: I metal_plugin/src/device/metal_device.cc:1154] Metal device set to: Apple M2 Max\n",
      "2024-04-02 01:11:13.015089: I metal_plugin/src/device/metal_device.cc:296] systemMemory: 32.00 GB\n",
      "2024-04-02 01:11:13.015092: I metal_plugin/src/device/metal_device.cc:313] maxCacheSize: 10.67 GB\n",
      "2024-04-02 01:11:13.015111: I tensorflow/core/common_runtime/pluggable_device/pluggable_device_factory.cc:305] Could not identify NUMA node of platform GPU ID 0, defaulting to 0. Your kernel may not have been built with NUMA support.\n",
      "2024-04-02 01:11:13.015124: I tensorflow/core/common_runtime/pluggable_device/pluggable_device_factory.cc:271] Created TensorFlow device (/job:localhost/replica:0/task:0/device:GPU:0 with 0 MB memory) -> physical PluggableDevice (device: 0, name: METAL, pci bus id: <undefined>)\n"
     ]
    },
    {
     "name": "stdout",
     "output_type": "stream",
     "text": [
      "Episode: 1, Steps: 857, eps: 1.000, total rewards: 430.0\n",
      "Episode: 2, Steps: 700, eps: 0.999, total rewards: 180.0\n"
     ]
    },
    {
     "name": "stderr",
     "output_type": "stream",
     "text": [
      "2024-04-02 01:11:13.752325: I tensorflow/core/grappler/optimizers/custom_graph_optimizer_registry.cc:117] Plugin optimizer for device_type GPU is enabled.\n"
     ]
    },
    {
     "name": "stdout",
     "output_type": "stream",
     "text": [
      "Episode: 3, Steps: 549, eps: 0.999, total rewards: 155.0\n",
      "Episode: 4, Steps: 490, eps: 0.998, total rewards: 60.0\n",
      "Episode: 5, Steps: 516, eps: 0.998, total rewards: 105.0\n",
      "Episode: 6, Steps: 377, eps: 0.997, total rewards: 105.0\n",
      "Episode: 7, Steps: 443, eps: 0.997, total rewards: 120.0\n",
      "Episode: 8, Steps: 496, eps: 0.996, total rewards: 135.0\n",
      "Episode: 9, Steps: 489, eps: 0.996, total rewards: 120.0\n",
      "Episode: 10, Steps: 496, eps: 0.995, total rewards: 155.0\n",
      "Episode: 11, Steps: 824, eps: 0.994, total rewards: 470.0\n",
      "Episode: 12, Steps: 507, eps: 0.994, total rewards: 180.0\n",
      "Episode: 13, Steps: 295, eps: 0.993, total rewards: 65.0\n",
      "Episode: 14, Steps: 581, eps: 0.993, total rewards: 185.0\n",
      "Episode: 15, Steps: 496, eps: 0.992, total rewards: 85.0\n",
      "Episode: 16, Steps: 414, eps: 0.992, total rewards: 80.0\n",
      "Episode: 17, Steps: 618, eps: 0.991, total rewards: 230.0\n",
      "Episode: 18, Steps: 846, eps: 0.991, total rewards: 160.0\n",
      "Episode: 19, Steps: 505, eps: 0.990, total rewards: 105.0\n",
      "Episode: 20, Steps: 948, eps: 0.989, total rewards: 335.0\n",
      "Episode: 21, Steps: 554, eps: 0.989, total rewards: 120.0\n",
      "Episode: 22, Steps: 389, eps: 0.988, total rewards: 120.0\n",
      "Episode: 23, Steps: 444, eps: 0.988, total rewards: 120.0\n",
      "Episode: 24, Steps: 408, eps: 0.987, total rewards: 110.0\n"
     ]
    }
   ],
   "source": [
    "spaceinvaders_rewards, spaceinvaders_max_episodes, spaceinvaders_q_values, spaceinvaders_model = train_dqn(\"ALE/SpaceInvaders-v5\", method=\"dqn\")"
   ],
   "metadata": {
    "collapsed": false,
    "is_executing": true,
    "ExecuteTime": {
     "start_time": "2024-04-02T00:11:12.935779Z"
    }
   },
   "id": "c46b64e827b718ac",
   "execution_count": null
  },
  {
   "cell_type": "code",
   "outputs": [],
   "source": [
    "plot_rewards(spaceinvaders_rewards, title='SpaceInvaders Rewards Over Episodes')"
   ],
   "metadata": {
    "collapsed": false,
    "is_executing": true
   },
   "id": "c26e6ff8f46ed62a",
   "execution_count": null
  },
  {
   "cell_type": "code",
   "outputs": [],
   "source": [
    "plot_q(spaceinvaders_q_values, title='SpaceInvaders Q Values Over Episodes')"
   ],
   "metadata": {
    "collapsed": false,
    "is_executing": true
   },
   "id": "15b04636cf37c2e1",
   "execution_count": null
  },
  {
   "cell_type": "code",
   "outputs": [],
   "source": [
    "breakout_rewards, breakout_max_episodes, breakout_q_values, breakout_model = train_dqn(\"ALE/Breakout-v5\", method=\"dqn\")"
   ],
   "metadata": {
    "collapsed": false,
    "is_executing": true
   },
   "id": "f82aa173445d6d66",
   "execution_count": null
  },
  {
   "cell_type": "code",
   "outputs": [],
   "source": [
    "plot_rewards(breakout_rewards, title='Breakout Rewards Over Episodes')"
   ],
   "metadata": {
    "collapsed": false,
    "is_executing": true
   },
   "id": "45dcd49a235a6154",
   "execution_count": null
  },
  {
   "cell_type": "code",
   "outputs": [],
   "source": [
    "plot_q(breakout_q_values, title='Breakout Q Values Over Episodes')"
   ],
   "metadata": {
    "collapsed": false,
    "is_executing": true
   },
   "id": "78854389b773bbb3"
  },
  {
   "cell_type": "code",
   "outputs": [],
   "source": [
    "seaquest_rewards, saaquest_max_episodes, saaquest_q_values, seaquest_model = train_dqn(\"ALE/Seaquest-v5\", method=\"dqn\")"
   ],
   "metadata": {
    "collapsed": false,
    "is_executing": true
   },
   "id": "f57d8cef77736078",
   "execution_count": null
  },
  {
   "cell_type": "code",
   "outputs": [],
   "source": [
    "plot_rewards(seaquest_rewards, title='SeaQuest Rewards Over Episodes')"
   ],
   "metadata": {
    "collapsed": false,
    "is_executing": true
   },
   "id": "8ee1de41cf3df084"
  },
  {
   "cell_type": "code",
   "outputs": [],
   "source": [
    "plot_q(seaquest_rewards, title='SeaQuest Q Values Over Episodes')"
   ],
   "metadata": {
    "collapsed": false,
    "is_executing": true
   },
   "id": "ce310f77f13f3ef6"
  },
  {
   "cell_type": "code",
   "outputs": [],
   "source": [
    "pong_rewards, pong_max_episodes, pong_q_values, pong_model = train_dqn(\"ALE/Pong-v5\", method=\"dqn\")"
   ],
   "metadata": {
    "collapsed": false,
    "is_executing": true
   },
   "id": "86db89be87f0aa1"
  },
  {
   "cell_type": "code",
   "outputs": [],
   "source": [
    "plot_rewards(pong_rewards, title='Pong Rewards Over Episodes')"
   ],
   "metadata": {
    "collapsed": false,
    "is_executing": true
   },
   "id": "1a581f9736e76fe2"
  },
  {
   "cell_type": "code",
   "outputs": [],
   "source": [
    "plot_q(pong_rewards, title='Pong Q Values Over Episodes')"
   ],
   "metadata": {
    "collapsed": false,
    "is_executing": true
   },
   "id": "8b31c86b506cc235"
  },
  {
   "cell_type": "code",
   "outputs": [],
   "source": [
    "plot_all_rewards(spaceinvaders_rewards, breakout_rewards, pong_rewards, seaquest_rewards)"
   ],
   "metadata": {
    "collapsed": false,
    "is_executing": true
   },
   "id": "1422dbeb693e441b"
  },
  {
   "cell_type": "code",
   "outputs": [],
   "source": [],
   "metadata": {
    "collapsed": false,
    "is_executing": true
   },
   "id": "6ea3e38895176ae5"
  }
 ],
 "metadata": {
  "kernelspec": {
   "display_name": "Python 3",
   "language": "python",
   "name": "python3"
  },
  "language_info": {
   "codemirror_mode": {
    "name": "ipython",
    "version": 2
   },
   "file_extension": ".py",
   "mimetype": "text/x-python",
   "name": "python",
   "nbconvert_exporter": "python",
   "pygments_lexer": "ipython2",
   "version": "2.7.6"
  }
 },
 "nbformat": 4,
 "nbformat_minor": 5
}
