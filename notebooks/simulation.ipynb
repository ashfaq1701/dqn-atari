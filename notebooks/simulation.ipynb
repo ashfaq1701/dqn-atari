{
 "cells": [
  {
   "cell_type": "code",
   "execution_count": 1,
   "id": "initial_id",
   "metadata": {
    "collapsed": true,
    "ExecuteTime": {
     "end_time": "2024-04-01T21:38:49.412886Z",
     "start_time": "2024-04-01T21:38:47.257871Z"
    }
   },
   "outputs": [],
   "source": [
    "from src.main import train_dqn"
   ]
  },
  {
   "cell_type": "code",
   "outputs": [],
   "source": [
    "import matplotlib.pyplot as plt\n",
    "\n",
    "def plot_rewards(rewards, title='Rewards', xlabel='Timestep', ylabel='Reward'):\n",
    "    timesteps = list(range(1, len(rewards) + 1))\n",
    "\n",
    "    plt.figure(figsize=(10, 6))  # Adjust the figure size as needed\n",
    "    plt.plot(timesteps, rewards, label='Rewards')\n",
    "\n",
    "    # Add labels and title\n",
    "    plt.xlabel(xlabel)\n",
    "    plt.ylabel(ylabel)\n",
    "    plt.title(title)\n",
    "\n",
    "    # Add legend\n",
    "    plt.legend()\n",
    "    plt.show()"
   ],
   "metadata": {
    "collapsed": false,
    "ExecuteTime": {
     "end_time": "2024-04-01T21:38:49.625649Z",
     "start_time": "2024-04-01T21:38:49.413882Z"
    }
   },
   "id": "258fffa282df525a",
   "execution_count": 2
  },
  {
   "cell_type": "code",
   "outputs": [],
   "source": [
    "def plot_q(q_values, title='Avg Max Q Values', xlabel='Timestep', ylabel='Q Value'):\n",
    "    timesteps = list(range(51, len(q_values) + 1))\n",
    "\n",
    "    plt.figure(figsize=(10, 6))  # Adjust the figure size as needed\n",
    "    plt.plot(timesteps, q_values[50:], label='Rewards')\n",
    "\n",
    "    # Add labels and title\n",
    "    plt.xlabel(xlabel)\n",
    "    plt.ylabel(ylabel)\n",
    "    plt.title(title)\n",
    "\n",
    "    # Add legend\n",
    "    plt.legend()\n",
    "    plt.show()"
   ],
   "metadata": {
    "collapsed": false,
    "ExecuteTime": {
     "end_time": "2024-04-01T21:38:49.628876Z",
     "start_time": "2024-04-01T21:38:49.626448Z"
    }
   },
   "id": "75b3246eedf812e1",
   "execution_count": 3
  },
  {
   "cell_type": "code",
   "outputs": [
    {
     "name": "stderr",
     "output_type": "stream",
     "text": [
      "A.L.E: Arcade Learning Environment (version 0.8.1+53f58b7)\n",
      "[Powered by Stella]\n",
      "2024-04-01 22:38:49.692150: I metal_plugin/src/device/metal_device.cc:1154] Metal device set to: Apple M2 Max\n",
      "2024-04-01 22:38:49.692170: I metal_plugin/src/device/metal_device.cc:296] systemMemory: 32.00 GB\n",
      "2024-04-01 22:38:49.692174: I metal_plugin/src/device/metal_device.cc:313] maxCacheSize: 10.67 GB\n",
      "2024-04-01 22:38:49.692193: I tensorflow/core/common_runtime/pluggable_device/pluggable_device_factory.cc:305] Could not identify NUMA node of platform GPU ID 0, defaulting to 0. Your kernel may not have been built with NUMA support.\n",
      "2024-04-01 22:38:49.692202: I tensorflow/core/common_runtime/pluggable_device/pluggable_device_factory.cc:271] Created TensorFlow device (/job:localhost/replica:0/task:0/device:GPU:0 with 0 MB memory) -> physical PluggableDevice (device: 0, name: METAL, pci bus id: <undefined>)\n"
     ]
    },
    {
     "name": "stdout",
     "output_type": "stream",
     "text": [
      "Episode: 1, Steps: 588, eps: 1.000, total rewards: 165.0\n",
      "Episode: 2, Steps: 580, eps: 0.999, total rewards: 135.0\n"
     ]
    },
    {
     "name": "stderr",
     "output_type": "stream",
     "text": [
      "2024-04-01 22:38:50.297965: I tensorflow/core/grappler/optimizers/custom_graph_optimizer_registry.cc:117] Plugin optimizer for device_type GPU is enabled.\n"
     ]
    },
    {
     "name": "stdout",
     "output_type": "stream",
     "text": [
      "Episode: 3, Steps: 470, eps: 0.999, total rewards: 120.0\n",
      "Episode: 4, Steps: 556, eps: 0.998, total rewards: 210.0\n",
      "Episode: 5, Steps: 476, eps: 0.998, total rewards: 125.0\n",
      "Episode: 6, Steps: 717, eps: 0.997, total rewards: 205.0\n",
      "Episode: 7, Steps: 873, eps: 0.997, total rewards: 410.0\n",
      "Episode: 8, Steps: 503, eps: 0.996, total rewards: 160.0\n",
      "Episode: 9, Steps: 551, eps: 0.996, total rewards: 190.0\n",
      "Episode: 10, Steps: 325, eps: 0.995, total rewards: 50.0\n",
      "Episode: 11, Steps: 545, eps: 0.994, total rewards: 120.0\n",
      "Episode: 12, Steps: 900, eps: 0.994, total rewards: 210.0\n",
      "Episode: 13, Steps: 300, eps: 0.993, total rewards: 45.0\n",
      "Episode: 14, Steps: 295, eps: 0.993, total rewards: 20.0\n",
      "Episode: 15, Steps: 412, eps: 0.992, total rewards: 65.0\n",
      "Episode: 16, Steps: 538, eps: 0.992, total rewards: 185.0\n",
      "Episode: 17, Steps: 445, eps: 0.991, total rewards: 75.0\n",
      "Episode: 18, Steps: 293, eps: 0.991, total rewards: 10.0\n",
      "Episode: 19, Steps: 604, eps: 0.990, total rewards: 120.0\n",
      "Episode: 20, Steps: 480, eps: 0.989, total rewards: 100.0\n",
      "Episode: 21, Steps: 576, eps: 0.989, total rewards: 180.0\n",
      "Episode: 22, Steps: 292, eps: 0.988, total rewards: 45.0\n",
      "Episode: 23, Steps: 696, eps: 0.988, total rewards: 210.0\n",
      "Episode: 24, Steps: 448, eps: 0.987, total rewards: 55.0\n",
      "Episode: 25, Steps: 436, eps: 0.987, total rewards: 90.0\n",
      "Episode: 26, Steps: 526, eps: 0.986, total rewards: 155.0\n",
      "Episode: 27, Steps: 488, eps: 0.986, total rewards: 110.0\n",
      "Episode: 28, Steps: 553, eps: 0.985, total rewards: 155.0\n",
      "Episode: 29, Steps: 256, eps: 0.984, total rewards: 15.0\n",
      "Episode: 30, Steps: 417, eps: 0.984, total rewards: 130.0\n",
      "Episode: 31, Steps: 526, eps: 0.983, total rewards: 275.0\n",
      "Episode: 32, Steps: 507, eps: 0.983, total rewards: 155.0\n",
      "Episode: 33, Steps: 344, eps: 0.982, total rewards: 35.0\n",
      "Episode: 34, Steps: 537, eps: 0.982, total rewards: 120.0\n"
     ]
    }
   ],
   "source": [
    "spaceinvaders_rewards, spaceinvaders_max_episodes, spaceinvaders_q_values, spaceinvaders_model = train_dqn(\"ALE/SpaceInvaders-v5\")"
   ],
   "metadata": {
    "collapsed": false,
    "is_executing": true,
    "ExecuteTime": {
     "start_time": "2024-04-01T21:38:49.629443Z"
    }
   },
   "id": "c46b64e827b718ac",
   "execution_count": null
  },
  {
   "cell_type": "code",
   "outputs": [],
   "source": [
    "plot_rewards(spaceinvaders_rewards, title='SpaceInvaders Rewards Over Episodes')"
   ],
   "metadata": {
    "collapsed": false,
    "is_executing": true
   },
   "id": "c26e6ff8f46ed62a",
   "execution_count": null
  },
  {
   "cell_type": "code",
   "outputs": [],
   "source": [
    "plot_q(spaceinvaders_q_values, title='SpaceInvaders Q Values Over Episodes')"
   ],
   "metadata": {
    "collapsed": false,
    "is_executing": true
   },
   "id": "15b04636cf37c2e1",
   "execution_count": null
  },
  {
   "cell_type": "code",
   "outputs": [],
   "source": [
    "breakout_rewards, breakout_max_episodes, breakout_q_values, breakout_model = train_dqn(\"ALE/Breakout-v5\")"
   ],
   "metadata": {
    "collapsed": false,
    "is_executing": true
   },
   "id": "f82aa173445d6d66",
   "execution_count": null
  },
  {
   "cell_type": "code",
   "outputs": [],
   "source": [
    "plot_rewards(breakout_rewards, title='Breakout Rewards Over Episodes')"
   ],
   "metadata": {
    "collapsed": false,
    "is_executing": true
   },
   "id": "45dcd49a235a6154",
   "execution_count": null
  },
  {
   "cell_type": "code",
   "outputs": [],
   "source": [
    "plot_q(breakout_q_values, title='Breakout Q Values Over Episodes')"
   ],
   "metadata": {
    "collapsed": false,
    "is_executing": true
   },
   "id": "78854389b773bbb3"
  },
  {
   "cell_type": "code",
   "outputs": [],
   "source": [
    "seaquest_rewards, saaquest_max_episodes, saaquest_q_values, seaquest_model = train_dqn(\"ALE/Seaquest-v5\")"
   ],
   "metadata": {
    "collapsed": false,
    "is_executing": true
   },
   "id": "f57d8cef77736078",
   "execution_count": null
  },
  {
   "cell_type": "code",
   "outputs": [],
   "source": [
    "plot_rewards(seaquest_rewards, title='SeaQuest Rewards Over Episodes')"
   ],
   "metadata": {
    "collapsed": false,
    "is_executing": true
   },
   "id": "8ee1de41cf3df084"
  },
  {
   "cell_type": "code",
   "outputs": [],
   "source": [
    "plot_q(seaquest_rewards, title='SeaQuest Q Values Over Episodes')"
   ],
   "metadata": {
    "collapsed": false,
    "is_executing": true
   },
   "id": "ce310f77f13f3ef6"
  },
  {
   "cell_type": "code",
   "outputs": [],
   "source": [
    "pong_rewards, pong_max_episodes, pong_q_values, pong_model = train_dqn(\"ALE/Pong-v5\")"
   ],
   "metadata": {
    "collapsed": false,
    "is_executing": true
   },
   "id": "86db89be87f0aa1"
  },
  {
   "cell_type": "code",
   "outputs": [],
   "source": [
    "plot_rewards(pong_rewards, title='Pong Rewards Over Episodes')"
   ],
   "metadata": {
    "collapsed": false,
    "is_executing": true
   },
   "id": "1a581f9736e76fe2"
  },
  {
   "cell_type": "code",
   "outputs": [],
   "source": [
    "plot_q(pong_rewards, title='Pong Q Values Over Episodes')"
   ],
   "metadata": {
    "collapsed": false,
    "is_executing": true
   },
   "id": "8b31c86b506cc235"
  },
  {
   "cell_type": "code",
   "outputs": [],
   "source": [
    "import matplotlib.pyplot as plt\n",
    "\n",
    "N_EPISODES = 2000\n",
    "x = range(1, N_EPISODES + 1)\n",
    "\n",
    "fig, axs = plt.subplots(4)\n",
    "\n",
    "axs[0].plot(x, seaquest_rewards)\n",
    "axs[0].set_title('SeaQuest Rewards')\n",
    "axs[0].set_xlabel('Episode')\n",
    "axs[0].set_ylabel('Total Rewards')\n",
    "\n",
    "axs[1].plot(x, pong_rewards)\n",
    "axs[1].set_title('Pong Rewards')\n",
    "axs[1].set_xlabel('Episode')\n",
    "axs[1].set_ylabel('Total Rewards')\n",
    "\n",
    "axs[2].plot(x, breakout_rewards)\n",
    "axs[2].set_title('Breakout Rewards')\n",
    "axs[2].set_xlabel('Episode')\n",
    "axs[2].set_ylabel('Total Rewards')\n",
    "\n",
    "axs[3].plot(x, spaceinvaders_rewards)\n",
    "axs[3].set_title('SpaceInvaders Rewards')\n",
    "axs[3].set_xlabel('Episode')\n",
    "axs[3].set_ylabel('Total Rewards')\n",
    "\n",
    "plt.tight_layout()\n",
    "\n",
    "plt.show()"
   ],
   "metadata": {
    "collapsed": false,
    "is_executing": true
   },
   "id": "1422dbeb693e441b"
  }
 ],
 "metadata": {
  "kernelspec": {
   "display_name": "Python 3",
   "language": "python",
   "name": "python3"
  },
  "language_info": {
   "codemirror_mode": {
    "name": "ipython",
    "version": 2
   },
   "file_extension": ".py",
   "mimetype": "text/x-python",
   "name": "python",
   "nbconvert_exporter": "python",
   "pygments_lexer": "ipython2",
   "version": "2.7.6"
  }
 },
 "nbformat": 4,
 "nbformat_minor": 5
}
