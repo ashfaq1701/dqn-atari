{
 "cells": [
  {
   "cell_type": "code",
   "execution_count": 1,
   "id": "initial_id",
   "metadata": {
    "collapsed": true,
    "ExecuteTime": {
     "end_time": "2024-04-08T23:44:45.975874Z",
     "start_time": "2024-04-08T23:44:43.523189Z"
    }
   },
   "outputs": [],
   "source": [
    "import numpy as np\n",
    "\n",
    "from src.main import train_dqn\n",
    "from src.visualization import plot_rewards, plot_q, plot_all_rewards"
   ]
  },
  {
   "cell_type": "code",
   "outputs": [
    {
     "name": "stderr",
     "output_type": "stream",
     "text": [
      "A.L.E: Arcade Learning Environment (version 0.8.1+53f58b7)\n",
      "[Powered by Stella]\n",
      "2024-04-09 00:44:46.038424: I metal_plugin/src/device/metal_device.cc:1154] Metal device set to: Apple M2 Max\n",
      "2024-04-09 00:44:46.038441: I metal_plugin/src/device/metal_device.cc:296] systemMemory: 32.00 GB\n",
      "2024-04-09 00:44:46.038445: I metal_plugin/src/device/metal_device.cc:313] maxCacheSize: 10.67 GB\n",
      "2024-04-09 00:44:46.038458: I tensorflow/core/common_runtime/pluggable_device/pluggable_device_factory.cc:305] Could not identify NUMA node of platform GPU ID 0, defaulting to 0. Your kernel may not have been built with NUMA support.\n",
      "2024-04-09 00:44:46.038468: I tensorflow/core/common_runtime/pluggable_device/pluggable_device_factory.cc:271] Created TensorFlow device (/job:localhost/replica:0/task:0/device:GPU:0 with 0 MB memory) -> physical PluggableDevice (device: 0, name: METAL, pci bus id: <undefined>)\n"
     ]
    },
    {
     "name": "stdout",
     "output_type": "stream",
     "text": [
      "Episode: 1, Steps: 517, eps: 1.000, total rewards: 120.0\n",
      "Episode: 2, Steps: 257, eps: 1.000, total rewards: 15.0\n",
      "Episode: 3, Steps: 399, eps: 1.000, total rewards: 75.0\n"
     ]
    },
    {
     "name": "stderr",
     "output_type": "stream",
     "text": [
      "2024-04-09 00:44:46.762110: I tensorflow/core/grappler/optimizers/custom_graph_optimizer_registry.cc:117] Plugin optimizer for device_type GPU is enabled.\n"
     ]
    },
    {
     "name": "stdout",
     "output_type": "stream",
     "text": [
      "Episode: 4, Steps: 487, eps: 0.999, total rewards: 165.0\n",
      "Episode: 5, Steps: 497, eps: 0.999, total rewards: 150.0\n",
      "Episode: 6, Steps: 415, eps: 0.999, total rewards: 110.0\n",
      "Episode: 7, Steps: 816, eps: 0.999, total rewards: 300.0\n",
      "Episode: 8, Steps: 382, eps: 0.999, total rewards: 155.0\n",
      "Episode: 9, Steps: 681, eps: 0.998, total rewards: 440.0\n",
      "Episode: 10, Steps: 852, eps: 0.998, total rewards: 250.0\n",
      "Episode: 11, Steps: 417, eps: 0.998, total rewards: 55.0\n",
      "Episode: 12, Steps: 628, eps: 0.998, total rewards: 185.0\n",
      "Episode: 13, Steps: 502, eps: 0.998, total rewards: 135.0\n",
      "Episode: 14, Steps: 379, eps: 0.997, total rewards: 75.0\n",
      "Episode: 15, Steps: 582, eps: 0.997, total rewards: 110.0\n",
      "Episode: 16, Steps: 418, eps: 0.997, total rewards: 105.0\n",
      "Episode: 17, Steps: 481, eps: 0.997, total rewards: 155.0\n",
      "Episode: 18, Steps: 486, eps: 0.997, total rewards: 135.0\n",
      "Episode: 19, Steps: 580, eps: 0.996, total rewards: 120.0\n",
      "Episode: 20, Steps: 709, eps: 0.996, total rewards: 225.0\n",
      "Episode: 21, Steps: 668, eps: 0.996, total rewards: 225.0\n",
      "Episode: 22, Steps: 408, eps: 0.996, total rewards: 65.0\n",
      "Episode: 23, Steps: 498, eps: 0.996, total rewards: 135.0\n",
      "Episode: 24, Steps: 391, eps: 0.995, total rewards: 55.0\n",
      "Episode: 25, Steps: 417, eps: 0.995, total rewards: 115.0\n",
      "Episode: 26, Steps: 526, eps: 0.995, total rewards: 120.0\n",
      "Episode: 27, Steps: 506, eps: 0.995, total rewards: 135.0\n",
      "Episode: 28, Steps: 445, eps: 0.995, total rewards: 130.0\n",
      "Episode: 29, Steps: 370, eps: 0.994, total rewards: 105.0\n",
      "Episode: 30, Steps: 524, eps: 0.994, total rewards: 185.0\n",
      "Episode: 31, Steps: 508, eps: 0.994, total rewards: 120.0\n",
      "Episode: 32, Steps: 688, eps: 0.994, total rewards: 300.0\n",
      "Episode: 33, Steps: 596, eps: 0.994, total rewards: 335.0\n",
      "Episode: 34, Steps: 664, eps: 0.993, total rewards: 275.0\n",
      "Episode: 35, Steps: 692, eps: 0.993, total rewards: 240.0\n",
      "Episode: 36, Steps: 535, eps: 0.993, total rewards: 320.0\n",
      "Episode: 37, Steps: 366, eps: 0.993, total rewards: 75.0\n",
      "Episode: 38, Steps: 1079, eps: 0.993, total rewards: 620.0\n",
      "Episode: 39, Steps: 802, eps: 0.992, total rewards: 350.0\n",
      "Episode: 40, Steps: 685, eps: 0.992, total rewards: 210.0\n",
      "Episode: 41, Steps: 523, eps: 0.992, total rewards: 105.0\n",
      "Episode: 42, Steps: 399, eps: 0.992, total rewards: 75.0\n",
      "Episode: 43, Steps: 579, eps: 0.992, total rewards: 140.0\n",
      "Episode: 44, Steps: 432, eps: 0.991, total rewards: 30.0\n",
      "Episode: 45, Steps: 408, eps: 0.991, total rewards: 80.0\n",
      "Episode: 46, Steps: 491, eps: 0.991, total rewards: 105.0\n",
      "Episode: 47, Steps: 651, eps: 0.991, total rewards: 240.0\n",
      "Episode: 48, Steps: 479, eps: 0.991, total rewards: 105.0\n",
      "Episode: 49, Steps: 572, eps: 0.990, total rewards: 170.0\n",
      "Episode: 50, Steps: 671, eps: 0.990, total rewards: 210.0\n",
      "Episode: 51, Steps: 456, eps: 0.990, total rewards: 110.0\n",
      "Episode: 52, Steps: 805, eps: 0.990, total rewards: 425.0\n",
      "Episode: 53, Steps: 591, eps: 0.990, total rewards: 150.0\n",
      "Episode: 54, Steps: 396, eps: 0.989, total rewards: 15.0\n",
      "Episode: 55, Steps: 354, eps: 0.989, total rewards: 90.0\n",
      "Episode: 56, Steps: 304, eps: 0.989, total rewards: 100.0\n",
      "Episode: 57, Steps: 652, eps: 0.989, total rewards: 185.0\n",
      "Episode: 58, Steps: 428, eps: 0.989, total rewards: 35.0\n",
      "Episode: 59, Steps: 298, eps: 0.988, total rewards: 45.0\n",
      "Episode: 60, Steps: 510, eps: 0.988, total rewards: 135.0\n",
      "Episode: 61, Steps: 737, eps: 0.988, total rewards: 230.0\n",
      "Episode: 62, Steps: 463, eps: 0.988, total rewards: 80.0\n",
      "Episode: 63, Steps: 689, eps: 0.988, total rewards: 230.0\n",
      "Episode: 64, Steps: 486, eps: 0.987, total rewards: 110.0\n",
      "Episode: 65, Steps: 615, eps: 0.987, total rewards: 190.0\n",
      "Episode: 66, Steps: 477, eps: 0.987, total rewards: 110.0\n",
      "Episode: 67, Steps: 270, eps: 0.987, total rewards: 45.0\n",
      "Episode: 68, Steps: 292, eps: 0.987, total rewards: 60.0\n",
      "Episode: 69, Steps: 565, eps: 0.986, total rewards: 120.0\n",
      "Episode: 70, Steps: 519, eps: 0.986, total rewards: 180.0\n",
      "Episode: 71, Steps: 562, eps: 0.986, total rewards: 210.0\n",
      "Episode: 72, Steps: 488, eps: 0.986, total rewards: 135.0\n",
      "Episode: 73, Steps: 491, eps: 0.986, total rewards: 155.0\n",
      "Episode: 74, Steps: 400, eps: 0.985, total rewards: 35.0\n",
      "Episode: 75, Steps: 451, eps: 0.985, total rewards: 155.0\n",
      "Episode: 76, Steps: 392, eps: 0.985, total rewards: 120.0\n",
      "Episode: 77, Steps: 439, eps: 0.985, total rewards: 40.0\n",
      "Episode: 78, Steps: 330, eps: 0.985, total rewards: 80.0\n",
      "Episode: 79, Steps: 462, eps: 0.984, total rewards: 135.0\n",
      "Episode: 80, Steps: 518, eps: 0.984, total rewards: 100.0\n",
      "Episode: 81, Steps: 574, eps: 0.984, total rewards: 135.0\n",
      "Episode: 82, Steps: 333, eps: 0.984, total rewards: 80.0\n",
      "Episode: 83, Steps: 589, eps: 0.984, total rewards: 80.0\n",
      "Episode: 84, Steps: 882, eps: 0.983, total rewards: 565.0\n",
      "Episode: 85, Steps: 425, eps: 0.983, total rewards: 95.0\n",
      "Episode: 86, Steps: 471, eps: 0.983, total rewards: 105.0\n",
      "Episode: 87, Steps: 364, eps: 0.983, total rewards: 110.0\n",
      "Episode: 88, Steps: 791, eps: 0.983, total rewards: 440.0\n",
      "Episode: 89, Steps: 480, eps: 0.982, total rewards: 120.0\n",
      "Episode: 90, Steps: 471, eps: 0.982, total rewards: 95.0\n",
      "Episode: 91, Steps: 274, eps: 0.982, total rewards: 55.0\n",
      "Episode: 92, Steps: 481, eps: 0.982, total rewards: 165.0\n"
     ]
    }
   ],
   "source": [
    "spaceinvaders_rewards, spaceinvaders_max_steps, spaceinvaders_q_values, spaceinvaders_model = train_dqn(\"ALE/SpaceInvaders-v5\", method=\"ddqn\")"
   ],
   "metadata": {
    "collapsed": false,
    "is_executing": true,
    "ExecuteTime": {
     "start_time": "2024-04-08T23:44:45.976811Z"
    }
   },
   "id": "c46b64e827b718ac",
   "execution_count": null
  },
  {
   "cell_type": "code",
   "outputs": [],
   "source": [
    "plot_rewards(spaceinvaders_rewards, title='SpaceInvaders Rewards Over Episodes')"
   ],
   "metadata": {
    "collapsed": false,
    "is_executing": true
   },
   "id": "c26e6ff8f46ed62a",
   "execution_count": null
  },
  {
   "cell_type": "code",
   "outputs": [],
   "source": [
    "plot_q(spaceinvaders_q_values, title='SpaceInvaders Q Values Over Episodes')"
   ],
   "metadata": {
    "collapsed": false,
    "is_executing": true
   },
   "id": "15b04636cf37c2e1",
   "execution_count": null
  },
  {
   "cell_type": "code",
   "outputs": [],
   "source": [
    "np.save(\"../data/save/spaceinvaders_rewards_ddqn.npy\", np.array(spaceinvaders_rewards))\n",
    "np.save(\"../data/save/spaceinvaders_max_steps_ddqn.npy\", np.array(spaceinvaders_max_steps))\n",
    "np.save(\"../data/save/spaceinvaders_q_values_ddqn.npy\", np.array(spaceinvaders_q_values))"
   ],
   "metadata": {
    "collapsed": false,
    "is_executing": true
   },
   "id": "f33d404abe907c6b",
   "execution_count": null
  },
  {
   "cell_type": "code",
   "outputs": [],
   "source": [
    "spaceinvaders_model.save(\"../data/saved_models/spaceinvaders_model_ddqn.keras\")"
   ],
   "metadata": {
    "collapsed": false,
    "is_executing": true
   },
   "id": "3195f5c736fee7d8",
   "execution_count": null
  },
  {
   "cell_type": "code",
   "outputs": [],
   "source": [
    "breakout_rewards, breakout_max_steps, breakout_q_values, breakout_model = train_dqn(\"ALE/Breakout-v5\", method=\"ddqn\")"
   ],
   "metadata": {
    "collapsed": false,
    "is_executing": true
   },
   "id": "f82aa173445d6d66",
   "execution_count": null
  },
  {
   "cell_type": "code",
   "outputs": [],
   "source": [
    "plot_rewards(breakout_rewards, title='Breakout Rewards Over Episodes')"
   ],
   "metadata": {
    "collapsed": false,
    "is_executing": true
   },
   "id": "45dcd49a235a6154",
   "execution_count": null
  },
  {
   "cell_type": "code",
   "outputs": [],
   "source": [
    "plot_q(breakout_q_values, title='Breakout Q Values Over Episodes')"
   ],
   "metadata": {
    "collapsed": false,
    "is_executing": true
   },
   "id": "78854389b773bbb3",
   "execution_count": null
  },
  {
   "cell_type": "code",
   "outputs": [],
   "source": [
    "np.save(\"../data/save/breakout_rewards_ddqn.npy\", np.array(breakout_rewards))\n",
    "np.save(\"../data/save/breakout_max_steps_ddqn.npy\", np.array(breakout_max_steps))\n",
    "np.save(\"../data/save/breakout_q_values_ddqn.npy\", np.array(breakout_q_values))"
   ],
   "metadata": {
    "collapsed": false,
    "is_executing": true
   },
   "id": "d545abdb6356adc0"
  },
  {
   "cell_type": "code",
   "outputs": [],
   "source": [
    "breakout_model.save(\"../saved_models/breakout_model_ddqn.keras\")"
   ],
   "metadata": {
    "collapsed": false,
    "is_executing": true
   },
   "id": "b388e7fced5c305b"
  },
  {
   "cell_type": "code",
   "outputs": [],
   "source": [
    "seaquest_rewards, seaquest_max_steps, seaquest_q_values, seaquest_model = train_dqn(\"ALE/Seaquest-v5\", method=\"ddqn\")"
   ],
   "metadata": {
    "collapsed": false,
    "is_executing": true
   },
   "id": "f57d8cef77736078",
   "execution_count": null
  },
  {
   "cell_type": "code",
   "outputs": [],
   "source": [
    "plot_rewards(seaquest_rewards, title='SeaQuest Rewards Over Episodes')"
   ],
   "metadata": {
    "collapsed": false,
    "is_executing": true
   },
   "id": "8ee1de41cf3df084"
  },
  {
   "cell_type": "code",
   "outputs": [],
   "source": [
    "plot_q(seaquest_rewards, title='SeaQuest Q Values Over Episodes')"
   ],
   "metadata": {
    "collapsed": false,
    "is_executing": true
   },
   "id": "ce310f77f13f3ef6"
  },
  {
   "cell_type": "code",
   "outputs": [],
   "source": [
    "np.save(\"../data/save/seaquest_rewards_ddqn.npy\", np.array(seaquest_rewards))\n",
    "np.save(\"../data/save/seaquest_max_steps_ddqn.npy\", np.array(seaquest_max_steps))\n",
    "np.save(\"../data/save/seaquest_q_values_ddqn.npy\", np.array(seaquest_q_values))"
   ],
   "metadata": {
    "collapsed": false,
    "is_executing": true
   },
   "id": "c1945ab336b329ee"
  },
  {
   "cell_type": "code",
   "outputs": [],
   "source": [
    "seaquest_model.save(\"../saved_models/seaquest_model_ddqn.keras\")"
   ],
   "metadata": {
    "collapsed": false,
    "is_executing": true
   },
   "id": "33e1c69a2a749554"
  },
  {
   "cell_type": "code",
   "outputs": [],
   "source": [
    "pong_rewards, pong_max_steps, pong_q_values, pong_model = train_dqn(\"ALE/Pong-v5\", method=\"ddqn\")"
   ],
   "metadata": {
    "collapsed": false,
    "is_executing": true
   },
   "id": "86db89be87f0aa1"
  },
  {
   "cell_type": "code",
   "outputs": [],
   "source": [
    "plot_rewards(pong_rewards, title='Pong Rewards Over Episodes')"
   ],
   "metadata": {
    "collapsed": false,
    "is_executing": true
   },
   "id": "1a581f9736e76fe2"
  },
  {
   "cell_type": "code",
   "outputs": [],
   "source": [
    "plot_q(pong_rewards, title='Pong Q Values Over Episodes')"
   ],
   "metadata": {
    "collapsed": false,
    "is_executing": true
   },
   "id": "8b31c86b506cc235"
  },
  {
   "cell_type": "code",
   "outputs": [],
   "source": [
    "np.save(\"../data/save/pong_rewards_ddqn.npy\", np.array(pong_rewards))\n",
    "np.save(\"../data/save/pong_max_steps_ddqn.npy\", np.array(pong_max_steps))\n",
    "np.save(\"../data/save/pong_q_values_ddqn.npy\", np.array(pong_q_values))"
   ],
   "metadata": {
    "collapsed": false,
    "is_executing": true
   },
   "id": "69e0d8f43a6620fd"
  },
  {
   "cell_type": "code",
   "outputs": [],
   "source": [
    "pong_model.save(\"../saved_models/pong_model_ddqn.keras\")"
   ],
   "metadata": {
    "collapsed": false,
    "is_executing": true
   },
   "id": "241341b8e1a21bdf"
  },
  {
   "cell_type": "code",
   "outputs": [],
   "source": [
    "plot_all_rewards(spaceinvaders_rewards, breakout_rewards, pong_rewards, seaquest_rewards, \"DQN\")"
   ],
   "metadata": {
    "collapsed": false,
    "is_executing": true
   },
   "id": "1422dbeb693e441b"
  },
  {
   "cell_type": "code",
   "outputs": [],
   "source": [],
   "metadata": {
    "collapsed": false,
    "is_executing": true
   },
   "id": "6ea3e38895176ae5"
  }
 ],
 "metadata": {
  "kernelspec": {
   "display_name": "Python 3",
   "language": "python",
   "name": "python3"
  },
  "language_info": {
   "codemirror_mode": {
    "name": "ipython",
    "version": 2
   },
   "file_extension": ".py",
   "mimetype": "text/x-python",
   "name": "python",
   "nbconvert_exporter": "python",
   "pygments_lexer": "ipython2",
   "version": "2.7.6"
  }
 },
 "nbformat": 4,
 "nbformat_minor": 5
}
