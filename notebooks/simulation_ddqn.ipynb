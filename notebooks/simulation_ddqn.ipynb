{
 "cells": [
  {
   "cell_type": "code",
   "execution_count": 1,
   "id": "initial_id",
   "metadata": {
    "collapsed": true,
    "ExecuteTime": {
     "end_time": "2024-04-08T23:44:45.975874Z",
     "start_time": "2024-04-08T23:44:43.523189Z"
    }
   },
   "outputs": [],
   "source": [
    "import numpy as np\n",
    "\n",
    "from src.main import train_dqn\n",
    "from src.visualization import plot_rewards, plot_q, plot_all_rewards"
   ]
  },
  {
   "cell_type": "code",
   "outputs": [
    {
     "name": "stderr",
     "output_type": "stream",
     "text": [
      "A.L.E: Arcade Learning Environment (version 0.8.1+53f58b7)\n",
      "[Powered by Stella]\n",
      "2024-04-09 00:44:46.038424: I metal_plugin/src/device/metal_device.cc:1154] Metal device set to: Apple M2 Max\n",
      "2024-04-09 00:44:46.038441: I metal_plugin/src/device/metal_device.cc:296] systemMemory: 32.00 GB\n",
      "2024-04-09 00:44:46.038445: I metal_plugin/src/device/metal_device.cc:313] maxCacheSize: 10.67 GB\n",
      "2024-04-09 00:44:46.038458: I tensorflow/core/common_runtime/pluggable_device/pluggable_device_factory.cc:305] Could not identify NUMA node of platform GPU ID 0, defaulting to 0. Your kernel may not have been built with NUMA support.\n",
      "2024-04-09 00:44:46.038468: I tensorflow/core/common_runtime/pluggable_device/pluggable_device_factory.cc:271] Created TensorFlow device (/job:localhost/replica:0/task:0/device:GPU:0 with 0 MB memory) -> physical PluggableDevice (device: 0, name: METAL, pci bus id: <undefined>)\n"
     ]
    },
    {
     "name": "stdout",
     "output_type": "stream",
     "text": [
      "Episode: 1, Steps: 517, eps: 1.000, total rewards: 120.0\n",
      "Episode: 2, Steps: 257, eps: 1.000, total rewards: 15.0\n",
      "Episode: 3, Steps: 399, eps: 1.000, total rewards: 75.0\n"
     ]
    },
    {
     "name": "stderr",
     "output_type": "stream",
     "text": [
      "2024-04-09 00:44:46.762110: I tensorflow/core/grappler/optimizers/custom_graph_optimizer_registry.cc:117] Plugin optimizer for device_type GPU is enabled.\n"
     ]
    },
    {
     "name": "stdout",
     "output_type": "stream",
     "text": [
      "Episode: 4, Steps: 487, eps: 0.999, total rewards: 165.0\n",
      "Episode: 5, Steps: 497, eps: 0.999, total rewards: 150.0\n",
      "Episode: 6, Steps: 415, eps: 0.999, total rewards: 110.0\n",
      "Episode: 7, Steps: 816, eps: 0.999, total rewards: 300.0\n",
      "Episode: 8, Steps: 382, eps: 0.999, total rewards: 155.0\n",
      "Episode: 9, Steps: 681, eps: 0.998, total rewards: 440.0\n",
      "Episode: 10, Steps: 852, eps: 0.998, total rewards: 250.0\n",
      "Episode: 11, Steps: 417, eps: 0.998, total rewards: 55.0\n",
      "Episode: 12, Steps: 628, eps: 0.998, total rewards: 185.0\n",
      "Episode: 13, Steps: 502, eps: 0.998, total rewards: 135.0\n",
      "Episode: 14, Steps: 379, eps: 0.997, total rewards: 75.0\n",
      "Episode: 15, Steps: 582, eps: 0.997, total rewards: 110.0\n",
      "Episode: 16, Steps: 418, eps: 0.997, total rewards: 105.0\n",
      "Episode: 17, Steps: 481, eps: 0.997, total rewards: 155.0\n",
      "Episode: 18, Steps: 486, eps: 0.997, total rewards: 135.0\n",
      "Episode: 19, Steps: 580, eps: 0.996, total rewards: 120.0\n",
      "Episode: 20, Steps: 709, eps: 0.996, total rewards: 225.0\n",
      "Episode: 21, Steps: 668, eps: 0.996, total rewards: 225.0\n",
      "Episode: 22, Steps: 408, eps: 0.996, total rewards: 65.0\n",
      "Episode: 23, Steps: 498, eps: 0.996, total rewards: 135.0\n",
      "Episode: 24, Steps: 391, eps: 0.995, total rewards: 55.0\n",
      "Episode: 25, Steps: 417, eps: 0.995, total rewards: 115.0\n",
      "Episode: 26, Steps: 526, eps: 0.995, total rewards: 120.0\n",
      "Episode: 27, Steps: 506, eps: 0.995, total rewards: 135.0\n",
      "Episode: 28, Steps: 445, eps: 0.995, total rewards: 130.0\n",
      "Episode: 29, Steps: 370, eps: 0.994, total rewards: 105.0\n",
      "Episode: 30, Steps: 524, eps: 0.994, total rewards: 185.0\n",
      "Episode: 31, Steps: 508, eps: 0.994, total rewards: 120.0\n",
      "Episode: 32, Steps: 688, eps: 0.994, total rewards: 300.0\n",
      "Episode: 33, Steps: 596, eps: 0.994, total rewards: 335.0\n",
      "Episode: 34, Steps: 664, eps: 0.993, total rewards: 275.0\n",
      "Episode: 35, Steps: 692, eps: 0.993, total rewards: 240.0\n",
      "Episode: 36, Steps: 535, eps: 0.993, total rewards: 320.0\n",
      "Episode: 37, Steps: 366, eps: 0.993, total rewards: 75.0\n",
      "Episode: 38, Steps: 1079, eps: 0.993, total rewards: 620.0\n",
      "Episode: 39, Steps: 802, eps: 0.992, total rewards: 350.0\n",
      "Episode: 40, Steps: 685, eps: 0.992, total rewards: 210.0\n",
      "Episode: 41, Steps: 523, eps: 0.992, total rewards: 105.0\n",
      "Episode: 42, Steps: 399, eps: 0.992, total rewards: 75.0\n",
      "Episode: 43, Steps: 579, eps: 0.992, total rewards: 140.0\n",
      "Episode: 44, Steps: 432, eps: 0.991, total rewards: 30.0\n",
      "Episode: 45, Steps: 408, eps: 0.991, total rewards: 80.0\n",
      "Episode: 46, Steps: 491, eps: 0.991, total rewards: 105.0\n",
      "Episode: 47, Steps: 651, eps: 0.991, total rewards: 240.0\n",
      "Episode: 48, Steps: 479, eps: 0.991, total rewards: 105.0\n",
      "Episode: 49, Steps: 572, eps: 0.990, total rewards: 170.0\n",
      "Episode: 50, Steps: 671, eps: 0.990, total rewards: 210.0\n",
      "Episode: 51, Steps: 456, eps: 0.990, total rewards: 110.0\n",
      "Episode: 52, Steps: 805, eps: 0.990, total rewards: 425.0\n",
      "Episode: 53, Steps: 591, eps: 0.990, total rewards: 150.0\n",
      "Episode: 54, Steps: 396, eps: 0.989, total rewards: 15.0\n",
      "Episode: 55, Steps: 354, eps: 0.989, total rewards: 90.0\n",
      "Episode: 56, Steps: 304, eps: 0.989, total rewards: 100.0\n",
      "Episode: 57, Steps: 652, eps: 0.989, total rewards: 185.0\n",
      "Episode: 58, Steps: 428, eps: 0.989, total rewards: 35.0\n",
      "Episode: 59, Steps: 298, eps: 0.988, total rewards: 45.0\n",
      "Episode: 60, Steps: 510, eps: 0.988, total rewards: 135.0\n",
      "Episode: 61, Steps: 737, eps: 0.988, total rewards: 230.0\n",
      "Episode: 62, Steps: 463, eps: 0.988, total rewards: 80.0\n",
      "Episode: 63, Steps: 689, eps: 0.988, total rewards: 230.0\n",
      "Episode: 64, Steps: 486, eps: 0.987, total rewards: 110.0\n",
      "Episode: 65, Steps: 615, eps: 0.987, total rewards: 190.0\n",
      "Episode: 66, Steps: 477, eps: 0.987, total rewards: 110.0\n",
      "Episode: 67, Steps: 270, eps: 0.987, total rewards: 45.0\n",
      "Episode: 68, Steps: 292, eps: 0.987, total rewards: 60.0\n",
      "Episode: 69, Steps: 565, eps: 0.986, total rewards: 120.0\n",
      "Episode: 70, Steps: 519, eps: 0.986, total rewards: 180.0\n",
      "Episode: 71, Steps: 562, eps: 0.986, total rewards: 210.0\n",
      "Episode: 72, Steps: 488, eps: 0.986, total rewards: 135.0\n",
      "Episode: 73, Steps: 491, eps: 0.986, total rewards: 155.0\n",
      "Episode: 74, Steps: 400, eps: 0.985, total rewards: 35.0\n",
      "Episode: 75, Steps: 451, eps: 0.985, total rewards: 155.0\n",
      "Episode: 76, Steps: 392, eps: 0.985, total rewards: 120.0\n",
      "Episode: 77, Steps: 439, eps: 0.985, total rewards: 40.0\n",
      "Episode: 78, Steps: 330, eps: 0.985, total rewards: 80.0\n",
      "Episode: 79, Steps: 462, eps: 0.984, total rewards: 135.0\n",
      "Episode: 80, Steps: 518, eps: 0.984, total rewards: 100.0\n",
      "Episode: 81, Steps: 574, eps: 0.984, total rewards: 135.0\n",
      "Episode: 82, Steps: 333, eps: 0.984, total rewards: 80.0\n",
      "Episode: 83, Steps: 589, eps: 0.984, total rewards: 80.0\n",
      "Episode: 84, Steps: 882, eps: 0.983, total rewards: 565.0\n",
      "Episode: 85, Steps: 425, eps: 0.983, total rewards: 95.0\n",
      "Episode: 86, Steps: 471, eps: 0.983, total rewards: 105.0\n",
      "Episode: 87, Steps: 364, eps: 0.983, total rewards: 110.0\n",
      "Episode: 88, Steps: 791, eps: 0.983, total rewards: 440.0\n",
      "Episode: 89, Steps: 480, eps: 0.982, total rewards: 120.0\n",
      "Episode: 90, Steps: 471, eps: 0.982, total rewards: 95.0\n",
      "Episode: 91, Steps: 274, eps: 0.982, total rewards: 55.0\n",
      "Episode: 92, Steps: 481, eps: 0.982, total rewards: 165.0\n",
      "Episode: 93, Steps: 411, eps: 0.982, total rewards: 135.0\n",
      "Episode: 94, Steps: 642, eps: 0.981, total rewards: 210.0\n",
      "Episode: 95, Steps: 368, eps: 0.981, total rewards: 95.0\n",
      "Episode: 96, Steps: 674, eps: 0.981, total rewards: 220.0\n",
      "Episode: 97, Steps: 841, eps: 0.981, total rewards: 540.0\n",
      "Episode: 98, Steps: 325, eps: 0.981, total rewards: 25.0\n",
      "Episode: 99, Steps: 752, eps: 0.980, total rewards: 210.0\n",
      "Episode: 100, Steps: 876, eps: 0.980, total rewards: 225.0\n",
      "Episode: 101, Steps: 397, eps: 0.980, total rewards: 75.0\n",
      "Episode: 102, Steps: 476, eps: 0.980, total rewards: 155.0\n",
      "Episode: 103, Steps: 562, eps: 0.980, total rewards: 100.0\n",
      "Episode: 104, Steps: 523, eps: 0.979, total rewards: 130.0\n",
      "Episode: 105, Steps: 628, eps: 0.979, total rewards: 210.0\n",
      "Episode: 106, Steps: 513, eps: 0.979, total rewards: 100.0\n",
      "Episode: 107, Steps: 481, eps: 0.979, total rewards: 120.0\n",
      "Episode: 108, Steps: 519, eps: 0.979, total rewards: 155.0\n",
      "Episode: 109, Steps: 362, eps: 0.978, total rewards: 75.0\n",
      "Episode: 110, Steps: 698, eps: 0.978, total rewards: 205.0\n",
      "Episode: 111, Steps: 395, eps: 0.978, total rewards: 120.0\n",
      "Episode: 112, Steps: 301, eps: 0.978, total rewards: 50.0\n",
      "Episode: 113, Steps: 706, eps: 0.978, total rewards: 240.0\n",
      "Episode: 114, Steps: 303, eps: 0.977, total rewards: 35.0\n",
      "Episode: 115, Steps: 538, eps: 0.977, total rewards: 155.0\n",
      "Episode: 116, Steps: 376, eps: 0.977, total rewards: 20.0\n",
      "Episode: 117, Steps: 381, eps: 0.977, total rewards: 60.0\n",
      "Episode: 118, Steps: 291, eps: 0.977, total rewards: 60.0\n",
      "Episode: 119, Steps: 1009, eps: 0.976, total rewards: 485.0\n",
      "Episode: 120, Steps: 465, eps: 0.976, total rewards: 105.0\n",
      "Episode: 121, Steps: 291, eps: 0.976, total rewards: 105.0\n",
      "Episode: 122, Steps: 628, eps: 0.976, total rewards: 260.0\n",
      "Episode: 123, Steps: 656, eps: 0.976, total rewards: 215.0\n",
      "Episode: 124, Steps: 564, eps: 0.975, total rewards: 110.0\n",
      "Episode: 125, Steps: 1003, eps: 0.975, total rewards: 595.0\n",
      "Episode: 126, Steps: 478, eps: 0.975, total rewards: 180.0\n",
      "Episode: 127, Steps: 491, eps: 0.975, total rewards: 110.0\n",
      "Episode: 128, Steps: 623, eps: 0.975, total rewards: 215.0\n",
      "Episode: 129, Steps: 416, eps: 0.974, total rewards: 90.0\n",
      "Episode: 130, Steps: 312, eps: 0.974, total rewards: 110.0\n",
      "Episode: 131, Steps: 660, eps: 0.974, total rewards: 185.0\n",
      "Episode: 132, Steps: 615, eps: 0.974, total rewards: 210.0\n",
      "Episode: 133, Steps: 753, eps: 0.974, total rewards: 490.0\n",
      "Episode: 134, Steps: 482, eps: 0.973, total rewards: 180.0\n",
      "Episode: 135, Steps: 703, eps: 0.973, total rewards: 225.0\n",
      "Episode: 136, Steps: 775, eps: 0.973, total rewards: 410.0\n",
      "Episode: 137, Steps: 313, eps: 0.973, total rewards: 85.0\n",
      "Episode: 138, Steps: 412, eps: 0.973, total rewards: 135.0\n",
      "Episode: 139, Steps: 621, eps: 0.972, total rewards: 180.0\n",
      "Episode: 140, Steps: 475, eps: 0.972, total rewards: 45.0\n",
      "Episode: 141, Steps: 402, eps: 0.972, total rewards: 25.0\n",
      "Episode: 142, Steps: 488, eps: 0.972, total rewards: 140.0\n",
      "Episode: 143, Steps: 532, eps: 0.972, total rewards: 135.0\n",
      "Episode: 144, Steps: 429, eps: 0.971, total rewards: 135.0\n",
      "Episode: 145, Steps: 620, eps: 0.971, total rewards: 170.0\n",
      "Episode: 146, Steps: 619, eps: 0.971, total rewards: 215.0\n",
      "Episode: 147, Steps: 529, eps: 0.971, total rewards: 135.0\n",
      "Episode: 148, Steps: 612, eps: 0.971, total rewards: 145.0\n",
      "Episode: 149, Steps: 436, eps: 0.970, total rewards: 50.0\n",
      "Episode: 150, Steps: 595, eps: 0.970, total rewards: 155.0\n",
      "Episode: 151, Steps: 538, eps: 0.970, total rewards: 210.0\n",
      "Episode: 152, Steps: 451, eps: 0.970, total rewards: 120.0\n",
      "Episode: 153, Steps: 518, eps: 0.970, total rewards: 210.0\n",
      "Episode: 154, Steps: 466, eps: 0.969, total rewards: 90.0\n",
      "Episode: 155, Steps: 306, eps: 0.969, total rewards: 45.0\n",
      "Episode: 156, Steps: 271, eps: 0.969, total rewards: 45.0\n",
      "Episode: 157, Steps: 521, eps: 0.969, total rewards: 115.0\n",
      "Episode: 158, Steps: 423, eps: 0.969, total rewards: 60.0\n",
      "Episode: 159, Steps: 488, eps: 0.968, total rewards: 125.0\n",
      "Episode: 160, Steps: 370, eps: 0.968, total rewards: 110.0\n",
      "Episode: 161, Steps: 475, eps: 0.968, total rewards: 110.0\n",
      "Episode: 162, Steps: 610, eps: 0.968, total rewards: 250.0\n",
      "Episode: 163, Steps: 628, eps: 0.968, total rewards: 225.0\n",
      "Episode: 164, Steps: 396, eps: 0.967, total rewards: 50.0\n",
      "Episode: 165, Steps: 558, eps: 0.967, total rewards: 205.0\n",
      "Episode: 166, Steps: 592, eps: 0.967, total rewards: 195.0\n",
      "Episode: 167, Steps: 561, eps: 0.967, total rewards: 95.0\n",
      "Episode: 168, Steps: 494, eps: 0.967, total rewards: 40.0\n",
      "Episode: 169, Steps: 574, eps: 0.966, total rewards: 180.0\n",
      "Episode: 170, Steps: 528, eps: 0.966, total rewards: 210.0\n",
      "Episode: 171, Steps: 932, eps: 0.966, total rewards: 315.0\n",
      "Episode: 172, Steps: 403, eps: 0.966, total rewards: 80.0\n",
      "Episode: 173, Steps: 498, eps: 0.966, total rewards: 100.0\n",
      "Episode: 174, Steps: 526, eps: 0.965, total rewards: 180.0\n",
      "Episode: 175, Steps: 645, eps: 0.965, total rewards: 425.0\n",
      "Episode: 176, Steps: 318, eps: 0.965, total rewards: 65.0\n",
      "Episode: 177, Steps: 823, eps: 0.965, total rewards: 310.0\n",
      "Episode: 178, Steps: 427, eps: 0.965, total rewards: 65.0\n",
      "Episode: 179, Steps: 301, eps: 0.964, total rewards: 50.0\n",
      "Episode: 180, Steps: 382, eps: 0.964, total rewards: 65.0\n",
      "Episode: 181, Steps: 459, eps: 0.964, total rewards: 80.0\n",
      "Episode: 182, Steps: 415, eps: 0.964, total rewards: 125.0\n",
      "Episode: 183, Steps: 369, eps: 0.964, total rewards: 115.0\n",
      "Episode: 184, Steps: 282, eps: 0.963, total rewards: 50.0\n",
      "Episode: 185, Steps: 338, eps: 0.963, total rewards: 65.0\n",
      "Episode: 186, Steps: 843, eps: 0.963, total rewards: 330.0\n",
      "Episode: 187, Steps: 635, eps: 0.963, total rewards: 205.0\n",
      "Episode: 188, Steps: 615, eps: 0.963, total rewards: 145.0\n",
      "Episode: 189, Steps: 546, eps: 0.962, total rewards: 180.0\n",
      "Episode: 190, Steps: 370, eps: 0.962, total rewards: 80.0\n",
      "Episode: 191, Steps: 290, eps: 0.962, total rewards: 80.0\n",
      "Episode: 192, Steps: 490, eps: 0.962, total rewards: 125.0\n",
      "Episode: 193, Steps: 287, eps: 0.962, total rewards: 30.0\n",
      "Episode: 194, Steps: 370, eps: 0.961, total rewards: 15.0\n",
      "Episode: 195, Steps: 1165, eps: 0.961, total rewards: 345.0\n",
      "Episode: 196, Steps: 300, eps: 0.961, total rewards: 60.0\n",
      "Episode: 197, Steps: 543, eps: 0.961, total rewards: 120.0\n",
      "Episode: 198, Steps: 294, eps: 0.961, total rewards: 55.0\n",
      "Episode: 199, Steps: 485, eps: 0.960, total rewards: 120.0\n",
      "Episode: 200, Steps: 499, eps: 0.960, total rewards: 85.0\n",
      "Episode: 201, Steps: 648, eps: 0.960, total rewards: 230.0\n",
      "Episode: 202, Steps: 475, eps: 0.960, total rewards: 180.0\n",
      "Episode: 203, Steps: 634, eps: 0.960, total rewards: 225.0\n",
      "Episode: 204, Steps: 563, eps: 0.959, total rewards: 165.0\n",
      "Episode: 205, Steps: 351, eps: 0.959, total rewards: 20.0\n",
      "Episode: 206, Steps: 430, eps: 0.959, total rewards: 155.0\n",
      "Episode: 207, Steps: 697, eps: 0.959, total rewards: 210.0\n",
      "Episode: 208, Steps: 380, eps: 0.959, total rewards: 105.0\n",
      "Episode: 209, Steps: 374, eps: 0.958, total rewards: 45.0\n",
      "Episode: 210, Steps: 585, eps: 0.958, total rewards: 265.0\n",
      "Episode: 211, Steps: 485, eps: 0.958, total rewards: 40.0\n",
      "Episode: 212, Steps: 408, eps: 0.958, total rewards: 130.0\n",
      "Episode: 213, Steps: 501, eps: 0.958, total rewards: 90.0\n",
      "Episode: 214, Steps: 396, eps: 0.957, total rewards: 160.0\n",
      "Episode: 215, Steps: 829, eps: 0.957, total rewards: 230.0\n",
      "Episode: 216, Steps: 623, eps: 0.957, total rewards: 270.0\n",
      "Episode: 217, Steps: 467, eps: 0.957, total rewards: 100.0\n",
      "Episode: 218, Steps: 508, eps: 0.957, total rewards: 125.0\n",
      "Episode: 219, Steps: 398, eps: 0.956, total rewards: 90.0\n",
      "Episode: 220, Steps: 497, eps: 0.956, total rewards: 110.0\n",
      "Episode: 221, Steps: 385, eps: 0.956, total rewards: 50.0\n",
      "Episode: 222, Steps: 398, eps: 0.956, total rewards: 90.0\n",
      "Episode: 223, Steps: 332, eps: 0.956, total rewards: 55.0\n",
      "Episode: 224, Steps: 343, eps: 0.955, total rewards: 120.0\n",
      "Episode: 225, Steps: 513, eps: 0.955, total rewards: 210.0\n",
      "Episode: 226, Steps: 416, eps: 0.955, total rewards: 20.0\n",
      "Episode: 227, Steps: 473, eps: 0.955, total rewards: 170.0\n",
      "Episode: 228, Steps: 521, eps: 0.955, total rewards: 135.0\n",
      "Episode: 229, Steps: 779, eps: 0.954, total rewards: 510.0\n",
      "Episode: 230, Steps: 695, eps: 0.954, total rewards: 210.0\n",
      "Episode: 231, Steps: 393, eps: 0.954, total rewards: 75.0\n",
      "Episode: 232, Steps: 592, eps: 0.954, total rewards: 155.0\n",
      "Episode: 233, Steps: 562, eps: 0.954, total rewards: 155.0\n",
      "Episode: 234, Steps: 291, eps: 0.953, total rewards: 45.0\n",
      "Episode: 235, Steps: 667, eps: 0.953, total rewards: 290.0\n",
      "Episode: 236, Steps: 376, eps: 0.953, total rewards: 65.0\n",
      "Episode: 237, Steps: 584, eps: 0.953, total rewards: 155.0\n",
      "Episode: 238, Steps: 538, eps: 0.953, total rewards: 120.0\n",
      "Episode: 239, Steps: 482, eps: 0.952, total rewards: 180.0\n",
      "Episode: 240, Steps: 383, eps: 0.952, total rewards: 80.0\n",
      "Episode: 241, Steps: 474, eps: 0.952, total rewards: 180.0\n",
      "Episode: 242, Steps: 608, eps: 0.952, total rewards: 205.0\n",
      "Episode: 243, Steps: 541, eps: 0.952, total rewards: 180.0\n",
      "Episode: 244, Steps: 545, eps: 0.951, total rewards: 135.0\n",
      "Episode: 245, Steps: 579, eps: 0.951, total rewards: 180.0\n",
      "Episode: 246, Steps: 718, eps: 0.951, total rewards: 250.0\n",
      "Episode: 247, Steps: 534, eps: 0.951, total rewards: 180.0\n",
      "Episode: 248, Steps: 515, eps: 0.951, total rewards: 380.0\n",
      "Episode: 249, Steps: 672, eps: 0.950, total rewards: 165.0\n",
      "Episode: 250, Steps: 655, eps: 0.950, total rewards: 225.0\n",
      "Episode: 251, Steps: 465, eps: 0.950, total rewards: 105.0\n",
      "Episode: 252, Steps: 287, eps: 0.950, total rewards: 80.0\n",
      "Episode: 253, Steps: 306, eps: 0.950, total rewards: 55.0\n",
      "Episode: 254, Steps: 438, eps: 0.949, total rewards: 70.0\n",
      "Episode: 255, Steps: 484, eps: 0.949, total rewards: 105.0\n",
      "Episode: 256, Steps: 388, eps: 0.949, total rewards: 90.0\n",
      "Episode: 257, Steps: 503, eps: 0.949, total rewards: 80.0\n",
      "Episode: 258, Steps: 405, eps: 0.949, total rewards: 155.0\n",
      "Episode: 259, Steps: 294, eps: 0.948, total rewards: 45.0\n",
      "Episode: 260, Steps: 560, eps: 0.948, total rewards: 175.0\n",
      "Episode: 261, Steps: 287, eps: 0.948, total rewards: 55.0\n",
      "Episode: 262, Steps: 422, eps: 0.948, total rewards: 65.0\n",
      "Episode: 263, Steps: 431, eps: 0.948, total rewards: 140.0\n",
      "Episode: 264, Steps: 300, eps: 0.947, total rewards: 15.0\n",
      "Episode: 265, Steps: 364, eps: 0.947, total rewards: 45.0\n",
      "Episode: 266, Steps: 537, eps: 0.947, total rewards: 210.0\n",
      "Episode: 267, Steps: 430, eps: 0.947, total rewards: 185.0\n",
      "Episode: 268, Steps: 572, eps: 0.947, total rewards: 110.0\n",
      "Episode: 269, Steps: 501, eps: 0.946, total rewards: 60.0\n",
      "Episode: 270, Steps: 808, eps: 0.946, total rewards: 260.0\n",
      "Episode: 271, Steps: 291, eps: 0.946, total rewards: 60.0\n",
      "Episode: 272, Steps: 551, eps: 0.946, total rewards: 135.0\n",
      "Episode: 273, Steps: 244, eps: 0.946, total rewards: 15.0\n",
      "Episode: 274, Steps: 388, eps: 0.945, total rewards: 65.0\n",
      "Episode: 275, Steps: 296, eps: 0.945, total rewards: 30.0\n",
      "Episode: 276, Steps: 683, eps: 0.945, total rewards: 240.0\n",
      "Episode: 277, Steps: 285, eps: 0.945, total rewards: 60.0\n",
      "Episode: 278, Steps: 398, eps: 0.945, total rewards: 15.0\n",
      "Episode: 279, Steps: 433, eps: 0.944, total rewards: 140.0\n",
      "Episode: 280, Steps: 410, eps: 0.944, total rewards: 70.0\n",
      "Episode: 281, Steps: 503, eps: 0.944, total rewards: 155.0\n",
      "Episode: 282, Steps: 688, eps: 0.944, total rewards: 290.0\n",
      "Episode: 283, Steps: 523, eps: 0.944, total rewards: 150.0\n",
      "Episode: 284, Steps: 571, eps: 0.943, total rewards: 130.0\n",
      "Episode: 285, Steps: 308, eps: 0.943, total rewards: 80.0\n",
      "Episode: 286, Steps: 854, eps: 0.943, total rewards: 265.0\n",
      "Episode: 287, Steps: 342, eps: 0.943, total rewards: 30.0\n",
      "Episode: 288, Steps: 400, eps: 0.943, total rewards: 80.0\n",
      "Episode: 289, Steps: 397, eps: 0.942, total rewards: 35.0\n",
      "Episode: 290, Steps: 541, eps: 0.942, total rewards: 135.0\n",
      "Episode: 291, Steps: 608, eps: 0.942, total rewards: 140.0\n",
      "Episode: 292, Steps: 610, eps: 0.942, total rewards: 410.0\n",
      "Episode: 293, Steps: 528, eps: 0.942, total rewards: 135.0\n",
      "Episode: 294, Steps: 518, eps: 0.941, total rewards: 125.0\n",
      "Episode: 295, Steps: 742, eps: 0.941, total rewards: 265.0\n",
      "Episode: 296, Steps: 470, eps: 0.941, total rewards: 125.0\n",
      "Episode: 297, Steps: 514, eps: 0.941, total rewards: 130.0\n",
      "Episode: 298, Steps: 613, eps: 0.941, total rewards: 210.0\n",
      "Episode: 299, Steps: 452, eps: 0.940, total rewards: 95.0\n",
      "Episode: 300, Steps: 554, eps: 0.940, total rewards: 215.0\n",
      "Episode: 301, Steps: 691, eps: 0.940, total rewards: 240.0\n",
      "Episode: 302, Steps: 379, eps: 0.940, total rewards: 55.0\n",
      "Episode: 303, Steps: 470, eps: 0.940, total rewards: 60.0\n",
      "Episode: 304, Steps: 480, eps: 0.939, total rewards: 135.0\n",
      "Episode: 305, Steps: 712, eps: 0.939, total rewards: 445.0\n",
      "Episode: 306, Steps: 712, eps: 0.939, total rewards: 455.0\n",
      "Episode: 307, Steps: 599, eps: 0.939, total rewards: 380.0\n",
      "Episode: 308, Steps: 356, eps: 0.939, total rewards: 75.0\n",
      "Episode: 309, Steps: 342, eps: 0.938, total rewards: 80.0\n",
      "Episode: 310, Steps: 652, eps: 0.938, total rewards: 210.0\n",
      "Episode: 311, Steps: 303, eps: 0.938, total rewards: 30.0\n",
      "Episode: 312, Steps: 348, eps: 0.938, total rewards: 80.0\n",
      "Episode: 313, Steps: 416, eps: 0.938, total rewards: 140.0\n",
      "Episode: 314, Steps: 640, eps: 0.937, total rewards: 315.0\n",
      "Episode: 315, Steps: 316, eps: 0.937, total rewards: 40.0\n",
      "Episode: 316, Steps: 511, eps: 0.937, total rewards: 230.0\n",
      "Episode: 317, Steps: 673, eps: 0.937, total rewards: 215.0\n",
      "Episode: 318, Steps: 394, eps: 0.937, total rewards: 65.0\n",
      "Episode: 319, Steps: 808, eps: 0.936, total rewards: 175.0\n",
      "Episode: 320, Steps: 492, eps: 0.936, total rewards: 105.0\n",
      "Episode: 321, Steps: 349, eps: 0.936, total rewards: 100.0\n",
      "Episode: 322, Steps: 373, eps: 0.936, total rewards: 120.0\n",
      "Episode: 323, Steps: 643, eps: 0.936, total rewards: 400.0\n",
      "Episode: 324, Steps: 564, eps: 0.935, total rewards: 155.0\n",
      "Episode: 325, Steps: 380, eps: 0.935, total rewards: 80.0\n",
      "Episode: 326, Steps: 645, eps: 0.935, total rewards: 365.0\n",
      "Episode: 327, Steps: 367, eps: 0.935, total rewards: 120.0\n",
      "Episode: 328, Steps: 299, eps: 0.935, total rewards: 45.0\n",
      "Episode: 329, Steps: 600, eps: 0.934, total rewards: 165.0\n",
      "Episode: 330, Steps: 751, eps: 0.934, total rewards: 310.0\n",
      "Episode: 331, Steps: 812, eps: 0.934, total rewards: 315.0\n",
      "Episode: 332, Steps: 494, eps: 0.934, total rewards: 210.0\n",
      "Episode: 333, Steps: 833, eps: 0.934, total rewards: 260.0\n",
      "Episode: 334, Steps: 411, eps: 0.933, total rewards: 80.0\n",
      "Episode: 335, Steps: 599, eps: 0.933, total rewards: 165.0\n",
      "Episode: 336, Steps: 562, eps: 0.933, total rewards: 120.0\n",
      "Episode: 337, Steps: 383, eps: 0.933, total rewards: 15.0\n",
      "Episode: 338, Steps: 498, eps: 0.933, total rewards: 180.0\n",
      "Episode: 339, Steps: 494, eps: 0.932, total rewards: 110.0\n",
      "Episode: 340, Steps: 475, eps: 0.932, total rewards: 105.0\n",
      "Episode: 341, Steps: 413, eps: 0.932, total rewards: 105.0\n",
      "Episode: 342, Steps: 637, eps: 0.932, total rewards: 210.0\n",
      "Episode: 343, Steps: 442, eps: 0.932, total rewards: 75.0\n",
      "Episode: 344, Steps: 569, eps: 0.931, total rewards: 120.0\n",
      "Episode: 345, Steps: 566, eps: 0.931, total rewards: 155.0\n",
      "Episode: 346, Steps: 312, eps: 0.931, total rewards: 65.0\n",
      "Episode: 347, Steps: 289, eps: 0.931, total rewards: 55.0\n",
      "Episode: 348, Steps: 404, eps: 0.931, total rewards: 20.0\n",
      "Episode: 349, Steps: 502, eps: 0.930, total rewards: 180.0\n",
      "Episode: 350, Steps: 526, eps: 0.930, total rewards: 180.0\n",
      "Episode: 351, Steps: 741, eps: 0.930, total rewards: 230.0\n",
      "Episode: 352, Steps: 536, eps: 0.930, total rewards: 110.0\n",
      "Episode: 353, Steps: 614, eps: 0.930, total rewards: 285.0\n",
      "Episode: 354, Steps: 387, eps: 0.929, total rewards: 80.0\n",
      "Episode: 355, Steps: 402, eps: 0.929, total rewards: 50.0\n",
      "Episode: 356, Steps: 586, eps: 0.929, total rewards: 155.0\n",
      "Episode: 357, Steps: 486, eps: 0.929, total rewards: 100.0\n",
      "Episode: 358, Steps: 382, eps: 0.929, total rewards: 65.0\n",
      "Episode: 359, Steps: 817, eps: 0.928, total rewards: 455.0\n",
      "Episode: 360, Steps: 615, eps: 0.928, total rewards: 225.0\n",
      "Episode: 361, Steps: 327, eps: 0.928, total rewards: 65.0\n",
      "Episode: 362, Steps: 647, eps: 0.928, total rewards: 255.0\n",
      "Episode: 363, Steps: 467, eps: 0.928, total rewards: 135.0\n",
      "Episode: 364, Steps: 563, eps: 0.927, total rewards: 135.0\n",
      "Episode: 365, Steps: 633, eps: 0.927, total rewards: 240.0\n",
      "Episode: 366, Steps: 491, eps: 0.927, total rewards: 155.0\n",
      "Episode: 367, Steps: 366, eps: 0.927, total rewards: 65.0\n",
      "Episode: 368, Steps: 554, eps: 0.927, total rewards: 135.0\n",
      "Episode: 369, Steps: 476, eps: 0.926, total rewards: 140.0\n",
      "Episode: 370, Steps: 330, eps: 0.926, total rewards: 90.0\n",
      "Episode: 371, Steps: 643, eps: 0.926, total rewards: 135.0\n",
      "Episode: 372, Steps: 418, eps: 0.926, total rewards: 10.0\n",
      "Episode: 373, Steps: 517, eps: 0.926, total rewards: 120.0\n",
      "Episode: 374, Steps: 474, eps: 0.925, total rewards: 110.0\n",
      "Episode: 375, Steps: 451, eps: 0.925, total rewards: 50.0\n",
      "Episode: 376, Steps: 686, eps: 0.925, total rewards: 105.0\n",
      "Episode: 377, Steps: 397, eps: 0.925, total rewards: 110.0\n",
      "Episode: 378, Steps: 477, eps: 0.925, total rewards: 60.0\n",
      "Episode: 379, Steps: 473, eps: 0.924, total rewards: 180.0\n",
      "Episode: 380, Steps: 621, eps: 0.924, total rewards: 180.0\n",
      "Episode: 381, Steps: 510, eps: 0.924, total rewards: 215.0\n",
      "Episode: 382, Steps: 643, eps: 0.924, total rewards: 225.0\n",
      "Episode: 383, Steps: 440, eps: 0.924, total rewards: 15.0\n",
      "Episode: 384, Steps: 446, eps: 0.923, total rewards: 80.0\n",
      "Episode: 385, Steps: 426, eps: 0.923, total rewards: 120.0\n",
      "Episode: 386, Steps: 343, eps: 0.923, total rewards: 30.0\n",
      "Episode: 387, Steps: 532, eps: 0.923, total rewards: 105.0\n",
      "Episode: 388, Steps: 372, eps: 0.923, total rewards: 90.0\n",
      "Episode: 389, Steps: 482, eps: 0.922, total rewards: 210.0\n",
      "Episode: 390, Steps: 607, eps: 0.922, total rewards: 195.0\n",
      "Episode: 391, Steps: 480, eps: 0.922, total rewards: 125.0\n",
      "Episode: 392, Steps: 519, eps: 0.922, total rewards: 125.0\n",
      "Episode: 393, Steps: 580, eps: 0.922, total rewards: 180.0\n",
      "Episode: 394, Steps: 413, eps: 0.921, total rewards: 110.0\n",
      "Episode: 395, Steps: 305, eps: 0.921, total rewards: 30.0\n",
      "Episode: 396, Steps: 503, eps: 0.921, total rewards: 120.0\n",
      "Episode: 397, Steps: 600, eps: 0.921, total rewards: 365.0\n",
      "Episode: 398, Steps: 542, eps: 0.921, total rewards: 380.0\n",
      "Episode: 399, Steps: 471, eps: 0.920, total rewards: 210.0\n",
      "Episode: 400, Steps: 714, eps: 0.920, total rewards: 295.0\n",
      "Episode: 401, Steps: 302, eps: 0.920, total rewards: 75.0\n",
      "Episode: 402, Steps: 540, eps: 0.920, total rewards: 180.0\n",
      "Episode: 403, Steps: 297, eps: 0.920, total rewards: 105.0\n",
      "Episode: 404, Steps: 630, eps: 0.919, total rewards: 210.0\n",
      "Episode: 405, Steps: 471, eps: 0.919, total rewards: 155.0\n",
      "Episode: 406, Steps: 866, eps: 0.919, total rewards: 150.0\n",
      "Episode: 407, Steps: 584, eps: 0.919, total rewards: 175.0\n",
      "Episode: 408, Steps: 473, eps: 0.919, total rewards: 160.0\n",
      "Episode: 409, Steps: 480, eps: 0.918, total rewards: 155.0\n",
      "Episode: 410, Steps: 271, eps: 0.918, total rewards: 35.0\n",
      "Episode: 411, Steps: 505, eps: 0.918, total rewards: 125.0\n",
      "Episode: 412, Steps: 540, eps: 0.918, total rewards: 140.0\n",
      "Episode: 413, Steps: 506, eps: 0.918, total rewards: 150.0\n",
      "Episode: 414, Steps: 445, eps: 0.917, total rewards: 115.0\n",
      "Episode: 415, Steps: 725, eps: 0.917, total rewards: 190.0\n",
      "Episode: 416, Steps: 606, eps: 0.917, total rewards: 160.0\n",
      "Episode: 417, Steps: 352, eps: 0.917, total rewards: 70.0\n",
      "Episode: 418, Steps: 276, eps: 0.917, total rewards: 80.0\n",
      "Episode: 419, Steps: 443, eps: 0.916, total rewards: 125.0\n",
      "Episode: 420, Steps: 432, eps: 0.916, total rewards: 55.0\n",
      "Episode: 421, Steps: 499, eps: 0.916, total rewards: 65.0\n",
      "Episode: 422, Steps: 457, eps: 0.916, total rewards: 125.0\n",
      "Episode: 423, Steps: 660, eps: 0.916, total rewards: 430.0\n",
      "Episode: 424, Steps: 558, eps: 0.915, total rewards: 405.0\n",
      "Episode: 425, Steps: 268, eps: 0.915, total rewards: 30.0\n",
      "Episode: 426, Steps: 282, eps: 0.915, total rewards: 65.0\n",
      "Episode: 427, Steps: 868, eps: 0.915, total rewards: 265.0\n",
      "Episode: 428, Steps: 436, eps: 0.915, total rewards: 140.0\n",
      "Episode: 429, Steps: 677, eps: 0.914, total rewards: 255.0\n",
      "Episode: 430, Steps: 464, eps: 0.914, total rewards: 45.0\n",
      "Episode: 431, Steps: 447, eps: 0.914, total rewards: 120.0\n",
      "Episode: 432, Steps: 293, eps: 0.914, total rewards: 80.0\n",
      "Episode: 433, Steps: 489, eps: 0.914, total rewards: 85.0\n",
      "Episode: 434, Steps: 272, eps: 0.913, total rewards: 35.0\n",
      "Episode: 435, Steps: 578, eps: 0.913, total rewards: 210.0\n",
      "Episode: 436, Steps: 409, eps: 0.913, total rewards: 35.0\n",
      "Episode: 437, Steps: 388, eps: 0.913, total rewards: 150.0\n",
      "Episode: 438, Steps: 668, eps: 0.913, total rewards: 205.0\n"
     ]
    }
   ],
   "source": [
    "spaceinvaders_rewards, spaceinvaders_max_steps, spaceinvaders_q_values, spaceinvaders_model = train_dqn(\"ALE/SpaceInvaders-v5\", method=\"ddqn\")"
   ],
   "metadata": {
    "collapsed": false,
    "is_executing": true,
    "ExecuteTime": {
     "start_time": "2024-04-08T23:44:45.976811Z"
    }
   },
   "id": "c46b64e827b718ac",
   "execution_count": null
  },
  {
   "cell_type": "code",
   "outputs": [],
   "source": [
    "plot_rewards(spaceinvaders_rewards, title='SpaceInvaders Rewards Over Episodes')"
   ],
   "metadata": {
    "collapsed": false,
    "is_executing": true
   },
   "id": "c26e6ff8f46ed62a",
   "execution_count": null
  },
  {
   "cell_type": "code",
   "outputs": [],
   "source": [
    "plot_q(spaceinvaders_q_values, title='SpaceInvaders Q Values Over Episodes')"
   ],
   "metadata": {
    "collapsed": false,
    "is_executing": true
   },
   "id": "15b04636cf37c2e1",
   "execution_count": null
  },
  {
   "cell_type": "code",
   "outputs": [],
   "source": [
    "np.save(\"../data/save/spaceinvaders_rewards_ddqn.npy\", np.array(spaceinvaders_rewards))\n",
    "np.save(\"../data/save/spaceinvaders_max_steps_ddqn.npy\", np.array(spaceinvaders_max_steps))\n",
    "np.save(\"../data/save/spaceinvaders_q_values_ddqn.npy\", np.array(spaceinvaders_q_values))"
   ],
   "metadata": {
    "collapsed": false,
    "is_executing": true
   },
   "id": "f33d404abe907c6b",
   "execution_count": null
  },
  {
   "cell_type": "code",
   "outputs": [],
   "source": [
    "spaceinvaders_model.save(\"../data/saved_models/spaceinvaders_model_ddqn.keras\")"
   ],
   "metadata": {
    "collapsed": false,
    "is_executing": true
   },
   "id": "3195f5c736fee7d8",
   "execution_count": null
  },
  {
   "cell_type": "code",
   "outputs": [],
   "source": [
    "breakout_rewards, breakout_max_steps, breakout_q_values, breakout_model = train_dqn(\"ALE/Breakout-v5\", method=\"ddqn\")"
   ],
   "metadata": {
    "collapsed": false,
    "is_executing": true
   },
   "id": "f82aa173445d6d66",
   "execution_count": null
  },
  {
   "cell_type": "code",
   "outputs": [],
   "source": [
    "plot_rewards(breakout_rewards, title='Breakout Rewards Over Episodes')"
   ],
   "metadata": {
    "collapsed": false,
    "is_executing": true
   },
   "id": "45dcd49a235a6154",
   "execution_count": null
  },
  {
   "cell_type": "code",
   "outputs": [],
   "source": [
    "plot_q(breakout_q_values, title='Breakout Q Values Over Episodes')"
   ],
   "metadata": {
    "collapsed": false,
    "is_executing": true
   },
   "id": "78854389b773bbb3",
   "execution_count": null
  },
  {
   "cell_type": "code",
   "outputs": [],
   "source": [
    "np.save(\"../data/save/breakout_rewards_ddqn.npy\", np.array(breakout_rewards))\n",
    "np.save(\"../data/save/breakout_max_steps_ddqn.npy\", np.array(breakout_max_steps))\n",
    "np.save(\"../data/save/breakout_q_values_ddqn.npy\", np.array(breakout_q_values))"
   ],
   "metadata": {
    "collapsed": false,
    "is_executing": true
   },
   "id": "d545abdb6356adc0"
  },
  {
   "cell_type": "code",
   "outputs": [],
   "source": [
    "breakout_model.save(\"../saved_models/breakout_model_ddqn.keras\")"
   ],
   "metadata": {
    "collapsed": false,
    "is_executing": true
   },
   "id": "b388e7fced5c305b"
  },
  {
   "cell_type": "code",
   "outputs": [],
   "source": [
    "seaquest_rewards, seaquest_max_steps, seaquest_q_values, seaquest_model = train_dqn(\"ALE/Seaquest-v5\", method=\"ddqn\")"
   ],
   "metadata": {
    "collapsed": false,
    "is_executing": true
   },
   "id": "f57d8cef77736078",
   "execution_count": null
  },
  {
   "cell_type": "code",
   "outputs": [],
   "source": [
    "plot_rewards(seaquest_rewards, title='SeaQuest Rewards Over Episodes')"
   ],
   "metadata": {
    "collapsed": false,
    "is_executing": true
   },
   "id": "8ee1de41cf3df084"
  },
  {
   "cell_type": "code",
   "outputs": [],
   "source": [
    "plot_q(seaquest_rewards, title='SeaQuest Q Values Over Episodes')"
   ],
   "metadata": {
    "collapsed": false,
    "is_executing": true
   },
   "id": "ce310f77f13f3ef6"
  },
  {
   "cell_type": "code",
   "outputs": [],
   "source": [
    "np.save(\"../data/save/seaquest_rewards_ddqn.npy\", np.array(seaquest_rewards))\n",
    "np.save(\"../data/save/seaquest_max_steps_ddqn.npy\", np.array(seaquest_max_steps))\n",
    "np.save(\"../data/save/seaquest_q_values_ddqn.npy\", np.array(seaquest_q_values))"
   ],
   "metadata": {
    "collapsed": false,
    "is_executing": true
   },
   "id": "c1945ab336b329ee"
  },
  {
   "cell_type": "code",
   "outputs": [],
   "source": [
    "seaquest_model.save(\"../saved_models/seaquest_model_ddqn.keras\")"
   ],
   "metadata": {
    "collapsed": false,
    "is_executing": true
   },
   "id": "33e1c69a2a749554"
  },
  {
   "cell_type": "code",
   "outputs": [],
   "source": [
    "pong_rewards, pong_max_steps, pong_q_values, pong_model = train_dqn(\"ALE/Pong-v5\", method=\"ddqn\")"
   ],
   "metadata": {
    "collapsed": false,
    "is_executing": true
   },
   "id": "86db89be87f0aa1"
  },
  {
   "cell_type": "code",
   "outputs": [],
   "source": [
    "plot_rewards(pong_rewards, title='Pong Rewards Over Episodes')"
   ],
   "metadata": {
    "collapsed": false,
    "is_executing": true
   },
   "id": "1a581f9736e76fe2"
  },
  {
   "cell_type": "code",
   "outputs": [],
   "source": [
    "plot_q(pong_rewards, title='Pong Q Values Over Episodes')"
   ],
   "metadata": {
    "collapsed": false,
    "is_executing": true
   },
   "id": "8b31c86b506cc235"
  },
  {
   "cell_type": "code",
   "outputs": [],
   "source": [
    "np.save(\"../data/save/pong_rewards_ddqn.npy\", np.array(pong_rewards))\n",
    "np.save(\"../data/save/pong_max_steps_ddqn.npy\", np.array(pong_max_steps))\n",
    "np.save(\"../data/save/pong_q_values_ddqn.npy\", np.array(pong_q_values))"
   ],
   "metadata": {
    "collapsed": false,
    "is_executing": true
   },
   "id": "69e0d8f43a6620fd"
  },
  {
   "cell_type": "code",
   "outputs": [],
   "source": [
    "pong_model.save(\"../saved_models/pong_model_ddqn.keras\")"
   ],
   "metadata": {
    "collapsed": false,
    "is_executing": true
   },
   "id": "241341b8e1a21bdf"
  },
  {
   "cell_type": "code",
   "outputs": [],
   "source": [
    "plot_all_rewards(spaceinvaders_rewards, breakout_rewards, pong_rewards, seaquest_rewards, \"DQN\")"
   ],
   "metadata": {
    "collapsed": false,
    "is_executing": true
   },
   "id": "1422dbeb693e441b"
  },
  {
   "cell_type": "code",
   "outputs": [],
   "source": [],
   "metadata": {
    "collapsed": false,
    "is_executing": true
   },
   "id": "6ea3e38895176ae5"
  }
 ],
 "metadata": {
  "kernelspec": {
   "display_name": "Python 3",
   "language": "python",
   "name": "python3"
  },
  "language_info": {
   "codemirror_mode": {
    "name": "ipython",
    "version": 2
   },
   "file_extension": ".py",
   "mimetype": "text/x-python",
   "name": "python",
   "nbconvert_exporter": "python",
   "pygments_lexer": "ipython2",
   "version": "2.7.6"
  }
 },
 "nbformat": 4,
 "nbformat_minor": 5
}
