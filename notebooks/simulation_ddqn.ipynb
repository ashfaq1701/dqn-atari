{
 "cells": [
  {
   "cell_type": "code",
   "execution_count": 1,
   "id": "initial_id",
   "metadata": {
    "collapsed": true,
    "ExecuteTime": {
     "end_time": "2024-04-18T15:23:58.446242Z",
     "start_time": "2024-04-18T15:23:56.173043Z"
    }
   },
   "outputs": [],
   "source": [
    "import numpy as np\n",
    "\n",
    "from src.main import train_dqn\n",
    "from src.visualization import plot_rewards, plot_q, plot_all_rewards"
   ]
  },
  {
   "cell_type": "code",
   "outputs": [
    {
     "name": "stderr",
     "output_type": "stream",
     "text": [
      "A.L.E: Arcade Learning Environment (version 0.8.1+53f58b7)\n",
      "[Powered by Stella]\n",
      "2024-04-18 16:23:58.510057: I metal_plugin/src/device/metal_device.cc:1154] Metal device set to: Apple M2 Max\n",
      "2024-04-18 16:23:58.510081: I metal_plugin/src/device/metal_device.cc:296] systemMemory: 32.00 GB\n",
      "2024-04-18 16:23:58.510085: I metal_plugin/src/device/metal_device.cc:313] maxCacheSize: 10.67 GB\n",
      "2024-04-18 16:23:58.510102: I tensorflow/core/common_runtime/pluggable_device/pluggable_device_factory.cc:305] Could not identify NUMA node of platform GPU ID 0, defaulting to 0. Your kernel may not have been built with NUMA support.\n",
      "2024-04-18 16:23:58.510114: I tensorflow/core/common_runtime/pluggable_device/pluggable_device_factory.cc:271] Created TensorFlow device (/job:localhost/replica:0/task:0/device:GPU:0 with 0 MB memory) -> physical PluggableDevice (device: 0, name: METAL, pci bus id: <undefined>)\n"
     ]
    },
    {
     "name": "stdout",
     "output_type": "stream",
     "text": [
      "Episode: 1, Steps: 291, eps: 1.000, total rewards: 65.0\n",
      "Episode: 2, Steps: 397, eps: 1.000, total rewards: 110.0\n"
     ]
    },
    {
     "name": "stderr",
     "output_type": "stream",
     "text": [
      "2024-04-18 16:23:59.083017: I tensorflow/core/grappler/optimizers/custom_graph_optimizer_registry.cc:117] Plugin optimizer for device_type GPU is enabled.\n"
     ]
    },
    {
     "name": "stdout",
     "output_type": "stream",
     "text": [
      "Episode: 3, Steps: 526, eps: 1.000, total rewards: 310.0\n",
      "Episode: 4, Steps: 440, eps: 0.999, total rewards: 110.0\n",
      "Episode: 5, Steps: 477, eps: 0.999, total rewards: 115.0\n",
      "Episode: 6, Steps: 612, eps: 0.999, total rewards: 210.0\n",
      "Episode: 7, Steps: 667, eps: 0.999, total rewards: 290.0\n",
      "Episode: 8, Steps: 536, eps: 0.999, total rewards: 60.0\n",
      "Episode: 9, Steps: 475, eps: 0.998, total rewards: 80.0\n",
      "Episode: 10, Steps: 393, eps: 0.998, total rewards: 75.0\n",
      "Episode: 11, Steps: 309, eps: 0.998, total rewards: 60.0\n",
      "Episode: 12, Steps: 585, eps: 0.998, total rewards: 140.0\n",
      "Episode: 13, Steps: 413, eps: 0.998, total rewards: 160.0\n",
      "Episode: 14, Steps: 420, eps: 0.997, total rewards: 80.0\n",
      "Episode: 15, Steps: 548, eps: 0.997, total rewards: 110.0\n",
      "Episode: 16, Steps: 361, eps: 0.997, total rewards: 80.0\n",
      "Episode: 17, Steps: 595, eps: 0.997, total rewards: 210.0\n",
      "Episode: 18, Steps: 294, eps: 0.997, total rewards: 90.0\n",
      "Episode: 19, Steps: 476, eps: 0.996, total rewards: 95.0\n",
      "Episode: 20, Steps: 632, eps: 0.996, total rewards: 410.0\n",
      "Episode: 21, Steps: 576, eps: 0.996, total rewards: 160.0\n",
      "Episode: 22, Steps: 488, eps: 0.996, total rewards: 120.0\n",
      "Episode: 23, Steps: 598, eps: 0.996, total rewards: 210.0\n",
      "Episode: 24, Steps: 710, eps: 0.995, total rewards: 260.0\n",
      "Episode: 25, Steps: 380, eps: 0.995, total rewards: 105.0\n",
      "Episode: 26, Steps: 884, eps: 0.995, total rewards: 440.0\n",
      "Episode: 27, Steps: 408, eps: 0.995, total rewards: 15.0\n",
      "Episode: 28, Steps: 467, eps: 0.995, total rewards: 100.0\n",
      "Episode: 29, Steps: 483, eps: 0.994, total rewards: 210.0\n",
      "Episode: 30, Steps: 602, eps: 0.994, total rewards: 180.0\n",
      "Episode: 31, Steps: 664, eps: 0.994, total rewards: 240.0\n",
      "Episode: 32, Steps: 511, eps: 0.994, total rewards: 95.0\n",
      "Episode: 33, Steps: 389, eps: 0.994, total rewards: 80.0\n",
      "Episode: 34, Steps: 370, eps: 0.993, total rewards: 55.0\n",
      "Episode: 35, Steps: 295, eps: 0.993, total rewards: 55.0\n",
      "Episode: 36, Steps: 354, eps: 0.993, total rewards: 30.0\n",
      "Episode: 37, Steps: 593, eps: 0.993, total rewards: 175.0\n",
      "Episode: 38, Steps: 302, eps: 0.993, total rewards: 55.0\n",
      "Episode: 39, Steps: 582, eps: 0.992, total rewards: 410.0\n",
      "Episode: 40, Steps: 689, eps: 0.992, total rewards: 230.0\n",
      "Episode: 41, Steps: 652, eps: 0.992, total rewards: 215.0\n",
      "Episode: 42, Steps: 455, eps: 0.992, total rewards: 105.0\n",
      "Episode: 43, Steps: 461, eps: 0.992, total rewards: 125.0\n",
      "Episode: 44, Steps: 375, eps: 0.991, total rewards: 25.0\n",
      "Episode: 45, Steps: 417, eps: 0.991, total rewards: 80.0\n",
      "Episode: 46, Steps: 354, eps: 0.991, total rewards: 40.0\n",
      "Episode: 47, Steps: 481, eps: 0.991, total rewards: 210.0\n",
      "Episode: 48, Steps: 453, eps: 0.991, total rewards: 150.0\n",
      "Episode: 49, Steps: 600, eps: 0.990, total rewards: 160.0\n",
      "Episode: 50, Steps: 826, eps: 0.990, total rewards: 165.0\n",
      "Episode: 51, Steps: 609, eps: 0.990, total rewards: 460.0\n",
      "Episode: 52, Steps: 411, eps: 0.990, total rewards: 25.0\n",
      "Episode: 53, Steps: 515, eps: 0.990, total rewards: 120.0\n",
      "Episode: 54, Steps: 324, eps: 0.989, total rewards: 40.0\n",
      "Episode: 55, Steps: 394, eps: 0.989, total rewards: 90.0\n",
      "Episode: 56, Steps: 389, eps: 0.989, total rewards: 60.0\n",
      "Episode: 57, Steps: 572, eps: 0.989, total rewards: 155.0\n",
      "Episode: 58, Steps: 555, eps: 0.989, total rewards: 115.0\n",
      "Episode: 59, Steps: 418, eps: 0.988, total rewards: 55.0\n",
      "Episode: 60, Steps: 700, eps: 0.988, total rewards: 180.0\n",
      "Episode: 61, Steps: 545, eps: 0.988, total rewards: 110.0\n",
      "Episode: 62, Steps: 463, eps: 0.988, total rewards: 90.0\n",
      "Episode: 63, Steps: 637, eps: 0.988, total rewards: 360.0\n",
      "Episode: 64, Steps: 447, eps: 0.987, total rewards: 100.0\n",
      "Episode: 65, Steps: 484, eps: 0.987, total rewards: 90.0\n",
      "Episode: 66, Steps: 295, eps: 0.987, total rewards: 35.0\n",
      "Episode: 67, Steps: 399, eps: 0.987, total rewards: 50.0\n",
      "Episode: 68, Steps: 581, eps: 0.987, total rewards: 155.0\n",
      "Episode: 69, Steps: 582, eps: 0.986, total rewards: 150.0\n",
      "Episode: 70, Steps: 554, eps: 0.986, total rewards: 225.0\n",
      "Episode: 71, Steps: 406, eps: 0.986, total rewards: 50.0\n",
      "Episode: 72, Steps: 433, eps: 0.986, total rewards: 55.0\n",
      "Episode: 73, Steps: 446, eps: 0.986, total rewards: 50.0\n",
      "Episode: 74, Steps: 457, eps: 0.985, total rewards: 120.0\n",
      "Episode: 75, Steps: 474, eps: 0.985, total rewards: 135.0\n",
      "Episode: 76, Steps: 265, eps: 0.985, total rewards: 75.0\n",
      "Episode: 77, Steps: 756, eps: 0.985, total rewards: 210.0\n",
      "Episode: 78, Steps: 736, eps: 0.985, total rewards: 200.0\n",
      "Episode: 79, Steps: 391, eps: 0.984, total rewards: 105.0\n",
      "Episode: 80, Steps: 577, eps: 0.984, total rewards: 180.0\n",
      "Episode: 81, Steps: 337, eps: 0.984, total rewards: 55.0\n",
      "Episode: 82, Steps: 731, eps: 0.984, total rewards: 235.0\n",
      "Episode: 83, Steps: 449, eps: 0.984, total rewards: 40.0\n",
      "Episode: 84, Steps: 525, eps: 0.983, total rewards: 65.0\n",
      "Episode: 85, Steps: 573, eps: 0.983, total rewards: 210.0\n",
      "Episode: 86, Steps: 909, eps: 0.983, total rewards: 225.0\n",
      "Episode: 87, Steps: 595, eps: 0.983, total rewards: 180.0\n",
      "Episode: 88, Steps: 1213, eps: 0.983, total rewards: 365.0\n",
      "Episode: 89, Steps: 404, eps: 0.982, total rewards: 45.0\n",
      "Episode: 90, Steps: 522, eps: 0.982, total rewards: 105.0\n",
      "Episode: 91, Steps: 673, eps: 0.982, total rewards: 240.0\n",
      "Episode: 92, Steps: 1125, eps: 0.982, total rewards: 210.0\n",
      "Episode: 93, Steps: 278, eps: 0.982, total rewards: 75.0\n",
      "Episode: 94, Steps: 731, eps: 0.981, total rewards: 270.0\n",
      "Episode: 95, Steps: 570, eps: 0.981, total rewards: 185.0\n",
      "Episode: 96, Steps: 584, eps: 0.981, total rewards: 155.0\n",
      "Episode: 97, Steps: 581, eps: 0.981, total rewards: 180.0\n",
      "Episode: 98, Steps: 552, eps: 0.981, total rewards: 70.0\n",
      "Episode: 99, Steps: 519, eps: 0.980, total rewards: 120.0\n",
      "Episode: 100, Steps: 862, eps: 0.980, total rewards: 375.0\n",
      "Episode: 101, Steps: 429, eps: 0.980, total rewards: 90.0\n",
      "Episode: 102, Steps: 419, eps: 0.980, total rewards: 30.0\n",
      "Episode: 103, Steps: 289, eps: 0.980, total rewards: 45.0\n",
      "Episode: 104, Steps: 1093, eps: 0.979, total rewards: 440.0\n",
      "Episode: 105, Steps: 478, eps: 0.979, total rewards: 165.0\n",
      "Episode: 106, Steps: 394, eps: 0.979, total rewards: 35.0\n",
      "Episode: 107, Steps: 283, eps: 0.979, total rewards: 35.0\n",
      "Episode: 108, Steps: 574, eps: 0.979, total rewards: 210.0\n",
      "Episode: 109, Steps: 433, eps: 0.978, total rewards: 105.0\n",
      "Episode: 110, Steps: 579, eps: 0.978, total rewards: 245.0\n",
      "Episode: 111, Steps: 368, eps: 0.978, total rewards: 20.0\n",
      "Episode: 112, Steps: 469, eps: 0.978, total rewards: 120.0\n",
      "Episode: 113, Steps: 530, eps: 0.978, total rewards: 135.0\n",
      "Episode: 114, Steps: 416, eps: 0.977, total rewards: 115.0\n",
      "Episode: 115, Steps: 799, eps: 0.977, total rewards: 455.0\n",
      "Episode: 116, Steps: 290, eps: 0.977, total rewards: 65.0\n",
      "Episode: 117, Steps: 309, eps: 0.977, total rewards: 50.0\n",
      "Episode: 118, Steps: 648, eps: 0.977, total rewards: 210.0\n",
      "Episode: 119, Steps: 709, eps: 0.976, total rewards: 150.0\n",
      "Episode: 120, Steps: 855, eps: 0.976, total rewards: 440.0\n",
      "Episode: 121, Steps: 494, eps: 0.976, total rewards: 155.0\n",
      "Episode: 122, Steps: 324, eps: 0.976, total rewards: 65.0\n",
      "Episode: 123, Steps: 474, eps: 0.976, total rewards: 150.0\n",
      "Episode: 124, Steps: 571, eps: 0.975, total rewards: 200.0\n",
      "Episode: 125, Steps: 1003, eps: 0.975, total rewards: 405.0\n",
      "Episode: 126, Steps: 397, eps: 0.975, total rewards: 55.0\n",
      "Episode: 127, Steps: 759, eps: 0.975, total rewards: 285.0\n",
      "Episode: 128, Steps: 629, eps: 0.975, total rewards: 210.0\n",
      "Episode: 129, Steps: 857, eps: 0.974, total rewards: 435.0\n",
      "Episode: 130, Steps: 499, eps: 0.974, total rewards: 190.0\n",
      "Episode: 131, Steps: 486, eps: 0.974, total rewards: 135.0\n",
      "Episode: 132, Steps: 481, eps: 0.974, total rewards: 105.0\n",
      "Episode: 133, Steps: 309, eps: 0.974, total rewards: 55.0\n",
      "Episode: 134, Steps: 644, eps: 0.973, total rewards: 220.0\n",
      "Episode: 135, Steps: 477, eps: 0.973, total rewards: 135.0\n",
      "Episode: 136, Steps: 366, eps: 0.973, total rewards: 85.0\n",
      "Episode: 137, Steps: 307, eps: 0.973, total rewards: 90.0\n",
      "Episode: 138, Steps: 748, eps: 0.973, total rewards: 355.0\n",
      "Episode: 139, Steps: 479, eps: 0.972, total rewards: 180.0\n",
      "Episode: 140, Steps: 634, eps: 0.972, total rewards: 225.0\n",
      "Episode: 141, Steps: 833, eps: 0.972, total rewards: 220.0\n",
      "Episode: 142, Steps: 821, eps: 0.972, total rewards: 350.0\n",
      "Episode: 143, Steps: 610, eps: 0.972, total rewards: 260.0\n",
      "Episode: 144, Steps: 388, eps: 0.971, total rewards: 35.0\n",
      "Episode: 145, Steps: 389, eps: 0.971, total rewards: 80.0\n",
      "Episode: 146, Steps: 455, eps: 0.971, total rewards: 105.0\n",
      "Episode: 147, Steps: 438, eps: 0.971, total rewards: 90.0\n",
      "Episode: 148, Steps: 601, eps: 0.971, total rewards: 155.0\n",
      "Episode: 149, Steps: 309, eps: 0.970, total rewards: 110.0\n",
      "Episode: 150, Steps: 462, eps: 0.970, total rewards: 180.0\n",
      "Episode: 151, Steps: 570, eps: 0.970, total rewards: 120.0\n",
      "Episode: 152, Steps: 836, eps: 0.970, total rewards: 295.0\n",
      "Episode: 153, Steps: 673, eps: 0.970, total rewards: 125.0\n",
      "Episode: 154, Steps: 639, eps: 0.969, total rewards: 225.0\n",
      "Episode: 155, Steps: 697, eps: 0.969, total rewards: 210.0\n",
      "Episode: 156, Steps: 646, eps: 0.969, total rewards: 205.0\n",
      "Episode: 157, Steps: 619, eps: 0.969, total rewards: 215.0\n",
      "Episode: 158, Steps: 713, eps: 0.969, total rewards: 210.0\n",
      "Episode: 159, Steps: 530, eps: 0.968, total rewards: 105.0\n",
      "Episode: 160, Steps: 465, eps: 0.968, total rewards: 80.0\n",
      "Episode: 161, Steps: 519, eps: 0.968, total rewards: 125.0\n",
      "Episode: 162, Steps: 469, eps: 0.968, total rewards: 110.0\n",
      "Episode: 163, Steps: 646, eps: 0.968, total rewards: 155.0\n",
      "Episode: 164, Steps: 382, eps: 0.967, total rewards: 75.0\n",
      "Episode: 165, Steps: 386, eps: 0.967, total rewards: 75.0\n",
      "Episode: 166, Steps: 592, eps: 0.967, total rewards: 210.0\n",
      "Episode: 167, Steps: 462, eps: 0.967, total rewards: 105.0\n",
      "Episode: 168, Steps: 298, eps: 0.967, total rewards: 60.0\n",
      "Episode: 169, Steps: 493, eps: 0.966, total rewards: 110.0\n",
      "Episode: 170, Steps: 527, eps: 0.966, total rewards: 155.0\n",
      "Episode: 171, Steps: 296, eps: 0.966, total rewards: 55.0\n",
      "Episode: 172, Steps: 592, eps: 0.966, total rewards: 155.0\n",
      "Episode: 173, Steps: 473, eps: 0.966, total rewards: 125.0\n",
      "Episode: 174, Steps: 509, eps: 0.965, total rewards: 105.0\n",
      "Episode: 175, Steps: 428, eps: 0.965, total rewards: 50.0\n",
      "Episode: 176, Steps: 585, eps: 0.965, total rewards: 160.0\n",
      "Episode: 177, Steps: 488, eps: 0.965, total rewards: 155.0\n",
      "Episode: 178, Steps: 376, eps: 0.965, total rewards: 15.0\n",
      "Episode: 179, Steps: 527, eps: 0.964, total rewards: 105.0\n",
      "Episode: 180, Steps: 498, eps: 0.964, total rewards: 120.0\n",
      "Episode: 181, Steps: 485, eps: 0.964, total rewards: 120.0\n",
      "Episode: 182, Steps: 581, eps: 0.964, total rewards: 120.0\n",
      "Episode: 183, Steps: 615, eps: 0.964, total rewards: 155.0\n",
      "Episode: 184, Steps: 391, eps: 0.963, total rewards: 75.0\n",
      "Episode: 185, Steps: 474, eps: 0.963, total rewards: 45.0\n",
      "Episode: 186, Steps: 482, eps: 0.963, total rewards: 105.0\n",
      "Episode: 187, Steps: 598, eps: 0.963, total rewards: 150.0\n",
      "Episode: 188, Steps: 512, eps: 0.963, total rewards: 105.0\n",
      "Episode: 189, Steps: 571, eps: 0.962, total rewards: 355.0\n",
      "Episode: 190, Steps: 547, eps: 0.962, total rewards: 210.0\n",
      "Episode: 191, Steps: 416, eps: 0.962, total rewards: 135.0\n",
      "Episode: 192, Steps: 578, eps: 0.962, total rewards: 180.0\n",
      "Episode: 193, Steps: 784, eps: 0.962, total rewards: 275.0\n",
      "Episode: 194, Steps: 534, eps: 0.961, total rewards: 180.0\n",
      "Episode: 195, Steps: 614, eps: 0.961, total rewards: 210.0\n",
      "Episode: 196, Steps: 592, eps: 0.961, total rewards: 240.0\n",
      "Episode: 197, Steps: 424, eps: 0.961, total rewards: 20.0\n",
      "Episode: 198, Steps: 602, eps: 0.961, total rewards: 245.0\n",
      "Episode: 199, Steps: 873, eps: 0.960, total rewards: 440.0\n",
      "Episode: 200, Steps: 523, eps: 0.960, total rewards: 120.0\n",
      "Episode: 201, Steps: 287, eps: 0.960, total rewards: 80.0\n",
      "Episode: 202, Steps: 362, eps: 0.960, total rewards: 30.0\n",
      "Episode: 203, Steps: 398, eps: 0.960, total rewards: 100.0\n",
      "Episode: 204, Steps: 569, eps: 0.959, total rewards: 205.0\n",
      "Episode: 205, Steps: 326, eps: 0.959, total rewards: 50.0\n",
      "Episode: 206, Steps: 365, eps: 0.959, total rewards: 30.0\n",
      "Episode: 207, Steps: 365, eps: 0.959, total rewards: 65.0\n",
      "Episode: 208, Steps: 534, eps: 0.959, total rewards: 410.0\n",
      "Episode: 209, Steps: 292, eps: 0.958, total rewards: 40.0\n",
      "Episode: 210, Steps: 483, eps: 0.958, total rewards: 140.0\n",
      "Episode: 211, Steps: 539, eps: 0.958, total rewards: 120.0\n",
      "Episode: 212, Steps: 390, eps: 0.958, total rewards: 135.0\n",
      "Episode: 213, Steps: 334, eps: 0.958, total rewards: 105.0\n",
      "Episode: 214, Steps: 773, eps: 0.957, total rewards: 265.0\n",
      "Episode: 215, Steps: 680, eps: 0.957, total rewards: 245.0\n",
      "Episode: 216, Steps: 718, eps: 0.957, total rewards: 195.0\n",
      "Episode: 217, Steps: 423, eps: 0.957, total rewards: 30.0\n",
      "Episode: 218, Steps: 622, eps: 0.957, total rewards: 220.0\n",
      "Episode: 219, Steps: 692, eps: 0.956, total rewards: 240.0\n",
      "Episode: 220, Steps: 595, eps: 0.956, total rewards: 230.0\n",
      "Episode: 221, Steps: 686, eps: 0.956, total rewards: 220.0\n",
      "Episode: 222, Steps: 384, eps: 0.956, total rewards: 50.0\n",
      "Episode: 223, Steps: 478, eps: 0.956, total rewards: 100.0\n",
      "Episode: 224, Steps: 476, eps: 0.955, total rewards: 80.0\n",
      "Episode: 225, Steps: 385, eps: 0.955, total rewards: 60.0\n",
      "Episode: 226, Steps: 873, eps: 0.955, total rewards: 275.0\n",
      "Episode: 227, Steps: 484, eps: 0.955, total rewards: 155.0\n",
      "Episode: 228, Steps: 480, eps: 0.955, total rewards: 135.0\n",
      "Episode: 229, Steps: 686, eps: 0.954, total rewards: 180.0\n",
      "Episode: 230, Steps: 412, eps: 0.954, total rewards: 45.0\n",
      "Episode: 231, Steps: 386, eps: 0.954, total rewards: 55.0\n",
      "Episode: 232, Steps: 720, eps: 0.954, total rewards: 265.0\n",
      "Episode: 233, Steps: 542, eps: 0.954, total rewards: 180.0\n",
      "Episode: 234, Steps: 584, eps: 0.953, total rewards: 240.0\n",
      "Episode: 235, Steps: 800, eps: 0.953, total rewards: 395.0\n",
      "Episode: 236, Steps: 518, eps: 0.953, total rewards: 80.0\n",
      "Episode: 237, Steps: 540, eps: 0.953, total rewards: 210.0\n",
      "Episode: 238, Steps: 393, eps: 0.953, total rewards: 55.0\n",
      "Episode: 239, Steps: 617, eps: 0.952, total rewards: 185.0\n",
      "Episode: 240, Steps: 517, eps: 0.952, total rewards: 110.0\n",
      "Episode: 241, Steps: 398, eps: 0.952, total rewards: 20.0\n",
      "Episode: 242, Steps: 339, eps: 0.952, total rewards: 60.0\n",
      "Episode: 243, Steps: 392, eps: 0.952, total rewards: 50.0\n",
      "Episode: 244, Steps: 482, eps: 0.951, total rewards: 120.0\n",
      "Episode: 245, Steps: 548, eps: 0.951, total rewards: 135.0\n",
      "Episode: 246, Steps: 489, eps: 0.951, total rewards: 105.0\n",
      "Episode: 247, Steps: 520, eps: 0.951, total rewards: 105.0\n",
      "Episode: 248, Steps: 337, eps: 0.951, total rewards: 130.0\n",
      "Episode: 249, Steps: 596, eps: 0.950, total rewards: 120.0\n",
      "Episode: 250, Steps: 600, eps: 0.950, total rewards: 210.0\n",
      "Episode: 251, Steps: 557, eps: 0.950, total rewards: 155.0\n",
      "Episode: 252, Steps: 470, eps: 0.950, total rewards: 20.0\n",
      "Episode: 253, Steps: 493, eps: 0.950, total rewards: 160.0\n",
      "Episode: 254, Steps: 326, eps: 0.949, total rewards: 35.0\n"
     ]
    }
   ],
   "source": [
    "spaceinvaders_rewards, spaceinvaders_max_steps, spaceinvaders_q_values, spaceinvaders_losses, spaceinvaders_model = train_dqn(\"ALE/SpaceInvaders-v5\", method=\"ddqn\")"
   ],
   "metadata": {
    "collapsed": false,
    "is_executing": true,
    "ExecuteTime": {
     "start_time": "2024-04-18T15:23:58.447635Z"
    }
   },
   "id": "c46b64e827b718ac",
   "execution_count": null
  },
  {
   "cell_type": "code",
   "outputs": [],
   "source": [
    "plot_rewards(spaceinvaders_rewards, title='SpaceInvaders Rewards Over Episodes')"
   ],
   "metadata": {
    "collapsed": false,
    "is_executing": true
   },
   "id": "c26e6ff8f46ed62a",
   "execution_count": null
  },
  {
   "cell_type": "code",
   "outputs": [],
   "source": [
    "plot_q(spaceinvaders_q_values, title='SpaceInvaders Q Values Over Episodes')"
   ],
   "metadata": {
    "collapsed": false,
    "is_executing": true
   },
   "id": "15b04636cf37c2e1",
   "execution_count": null
  },
  {
   "cell_type": "code",
   "outputs": [],
   "source": [
    "np.save(\"../data/save/spaceinvaders_rewards_ddqn.npy\", np.array(spaceinvaders_rewards))\n",
    "np.save(\"../data/save/spaceinvaders_max_steps_ddqn.npy\", np.array(spaceinvaders_max_steps))\n",
    "np.save(\"../data/save/spaceinvaders_q_values_ddqn.npy\", np.array(spaceinvaders_q_values))\n",
    "np.save(\"../data/save/spaceinvaders_losses_ddqn.npy\", np.array(spaceinvaders_losses))"
   ],
   "metadata": {
    "collapsed": false,
    "is_executing": true
   },
   "id": "f33d404abe907c6b",
   "execution_count": null
  },
  {
   "cell_type": "code",
   "outputs": [],
   "source": [
    "spaceinvaders_model.save(\"../data/saved_models/spaceinvaders_model_ddqn.keras\")"
   ],
   "metadata": {
    "collapsed": false,
    "is_executing": true
   },
   "id": "3195f5c736fee7d8",
   "execution_count": null
  },
  {
   "cell_type": "code",
   "outputs": [],
   "source": [
    "breakout_rewards, breakout_max_steps, breakout_q_values, breakout_losses, breakout_model = train_dqn(\"ALE/Breakout-v5\", method=\"ddqn\")"
   ],
   "metadata": {
    "collapsed": false,
    "is_executing": true
   },
   "id": "f82aa173445d6d66",
   "execution_count": null
  },
  {
   "cell_type": "code",
   "outputs": [],
   "source": [
    "plot_rewards(breakout_rewards, title='Breakout Rewards Over Episodes')"
   ],
   "metadata": {
    "collapsed": false,
    "is_executing": true
   },
   "id": "45dcd49a235a6154",
   "execution_count": null
  },
  {
   "cell_type": "code",
   "outputs": [],
   "source": [
    "plot_q(breakout_q_values, title='Breakout Q Values Over Episodes')"
   ],
   "metadata": {
    "collapsed": false,
    "is_executing": true
   },
   "id": "78854389b773bbb3",
   "execution_count": null
  },
  {
   "cell_type": "code",
   "outputs": [],
   "source": [
    "np.save(\"../data/save/breakout_rewards_ddqn.npy\", np.array(breakout_rewards))\n",
    "np.save(\"../data/save/breakout_max_steps_ddqn.npy\", np.array(breakout_max_steps))\n",
    "np.save(\"../data/save/breakout_q_values_ddqn.npy\", np.array(breakout_q_values))\n",
    "np.save(\"../data/save/breakout_losses_ddqn.npy\", np.array(breakout_losses))"
   ],
   "metadata": {
    "collapsed": false,
    "is_executing": true
   },
   "id": "d545abdb6356adc0",
   "execution_count": null
  },
  {
   "cell_type": "code",
   "outputs": [],
   "source": [
    "breakout_model.save(\"../data/saved_models/breakout_model_ddqn.keras\")"
   ],
   "metadata": {
    "collapsed": false,
    "is_executing": true
   },
   "id": "b388e7fced5c305b",
   "execution_count": null
  },
  {
   "cell_type": "code",
   "outputs": [],
   "source": [
    "seaquest_rewards, seaquest_max_steps, seaquest_q_values, seaquest_losses, seaquest_model = train_dqn(\"ALE/Seaquest-v5\", method=\"ddqn\")"
   ],
   "metadata": {
    "collapsed": false,
    "is_executing": true
   },
   "id": "f57d8cef77736078",
   "execution_count": null
  },
  {
   "cell_type": "code",
   "outputs": [],
   "source": [
    "plot_rewards(seaquest_rewards, title='SeaQuest Rewards Over Episodes')"
   ],
   "metadata": {
    "collapsed": false,
    "is_executing": true
   },
   "id": "8ee1de41cf3df084",
   "execution_count": null
  },
  {
   "cell_type": "code",
   "outputs": [],
   "source": [
    "plot_q(seaquest_q_values, title='SeaQuest Q Values Over Episodes')"
   ],
   "metadata": {
    "collapsed": false,
    "is_executing": true
   },
   "id": "ce310f77f13f3ef6",
   "execution_count": null
  },
  {
   "cell_type": "code",
   "outputs": [],
   "source": [
    "np.save(\"../data/save/seaquest_rewards_ddqn.npy\", np.array(seaquest_rewards))\n",
    "np.save(\"../data/save/seaquest_max_steps_ddqn.npy\", np.array(seaquest_max_steps))\n",
    "np.save(\"../data/save/seaquest_q_values_ddqn.npy\", np.array(seaquest_q_values))\n",
    "np.save(\"../data/save/seaquest_losses_ddqn.npy\", np.array(seaquest_losses))"
   ],
   "metadata": {
    "collapsed": false,
    "is_executing": true
   },
   "id": "c1945ab336b329ee",
   "execution_count": null
  },
  {
   "cell_type": "code",
   "outputs": [],
   "source": [
    "seaquest_model.save(\"../data/saved_models/seaquest_model_ddqn.keras\")"
   ],
   "metadata": {
    "collapsed": false,
    "is_executing": true
   },
   "id": "33e1c69a2a749554",
   "execution_count": null
  },
  {
   "cell_type": "code",
   "outputs": [],
   "source": [],
   "metadata": {
    "collapsed": false,
    "is_executing": true
   },
   "id": "6ea3e38895176ae5"
  }
 ],
 "metadata": {
  "kernelspec": {
   "display_name": "Python 3",
   "language": "python",
   "name": "python3"
  },
  "language_info": {
   "codemirror_mode": {
    "name": "ipython",
    "version": 2
   },
   "file_extension": ".py",
   "mimetype": "text/x-python",
   "name": "python",
   "nbconvert_exporter": "python",
   "pygments_lexer": "ipython2",
   "version": "2.7.6"
  }
 },
 "nbformat": 4,
 "nbformat_minor": 5
}
