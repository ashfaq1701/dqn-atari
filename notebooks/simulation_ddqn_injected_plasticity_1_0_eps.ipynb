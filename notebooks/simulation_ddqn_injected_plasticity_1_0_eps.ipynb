{
 "cells": [
  {
   "cell_type": "code",
   "execution_count": 1,
   "id": "initial_id",
   "metadata": {
    "collapsed": true,
    "ExecuteTime": {
     "end_time": "2024-04-18T15:23:46.484655Z",
     "start_time": "2024-04-18T15:23:44.462698Z"
    }
   },
   "outputs": [],
   "source": [
    "import numpy as np\n",
    "\n",
    "from src.main import train_dqn\n",
    "from src.visualization import plot_rewards, plot_q, plot_all_rewards"
   ]
  },
  {
   "cell_type": "code",
   "outputs": [
    {
     "name": "stderr",
     "output_type": "stream",
     "text": [
      "A.L.E: Arcade Learning Environment (version 0.8.1+53f58b7)\n",
      "[Powered by Stella]\n",
      "2024-04-18 16:23:46.546354: I metal_plugin/src/device/metal_device.cc:1154] Metal device set to: Apple M2 Max\n",
      "2024-04-18 16:23:46.546372: I metal_plugin/src/device/metal_device.cc:296] systemMemory: 32.00 GB\n",
      "2024-04-18 16:23:46.546377: I metal_plugin/src/device/metal_device.cc:313] maxCacheSize: 10.67 GB\n",
      "2024-04-18 16:23:46.546390: I tensorflow/core/common_runtime/pluggable_device/pluggable_device_factory.cc:305] Could not identify NUMA node of platform GPU ID 0, defaulting to 0. Your kernel may not have been built with NUMA support.\n",
      "2024-04-18 16:23:46.546399: I tensorflow/core/common_runtime/pluggable_device/pluggable_device_factory.cc:271] Created TensorFlow device (/job:localhost/replica:0/task:0/device:GPU:0 with 0 MB memory) -> physical PluggableDevice (device: 0, name: METAL, pci bus id: <undefined>)\n",
      "/Users/ashfaq/.local/share/virtualenvs/rl-atari-7yjpj432/lib/python3.11/site-packages/keras/src/layers/convolutional/base_conv.py:99: UserWarning: Do not pass an `input_shape`/`input_dim` argument to a layer. When using Sequential models, prefer using an `Input(shape)` object as the first layer in the model instead.\n",
      "  super().__init__(\n"
     ]
    },
    {
     "name": "stdout",
     "output_type": "stream",
     "text": [
      "Episode: 1, Steps: 290, eps: 1.000, total rewards: 65.0\n"
     ]
    },
    {
     "name": "stderr",
     "output_type": "stream",
     "text": [
      "2024-04-18 16:23:47.151492: I tensorflow/core/grappler/optimizers/custom_graph_optimizer_registry.cc:117] Plugin optimizer for device_type GPU is enabled.\n"
     ]
    },
    {
     "name": "stdout",
     "output_type": "stream",
     "text": [
      "Episode: 2, Steps: 576, eps: 1.000, total rewards: 165.0\n",
      "Episode: 3, Steps: 609, eps: 0.999, total rewards: 150.0\n",
      "Episode: 4, Steps: 665, eps: 0.999, total rewards: 175.0\n",
      "Episode: 5, Steps: 601, eps: 0.999, total rewards: 135.0\n",
      "Episode: 6, Steps: 839, eps: 0.999, total rewards: 260.0\n",
      "Episode: 7, Steps: 820, eps: 0.998, total rewards: 290.0\n",
      "Episode: 8, Steps: 573, eps: 0.998, total rewards: 150.0\n",
      "Episode: 9, Steps: 821, eps: 0.998, total rewards: 370.0\n",
      "Episode: 10, Steps: 725, eps: 0.997, total rewards: 355.0\n",
      "Episode: 11, Steps: 752, eps: 0.997, total rewards: 320.0\n",
      "Episode: 12, Steps: 379, eps: 0.997, total rewards: 70.0\n",
      "Episode: 13, Steps: 428, eps: 0.997, total rewards: 50.0\n",
      "Episode: 14, Steps: 768, eps: 0.996, total rewards: 355.0\n",
      "Episode: 15, Steps: 450, eps: 0.996, total rewards: 30.0\n",
      "Episode: 16, Steps: 478, eps: 0.996, total rewards: 80.0\n",
      "Episode: 17, Steps: 401, eps: 0.995, total rewards: 105.0\n",
      "Episode: 18, Steps: 458, eps: 0.995, total rewards: 155.0\n",
      "Episode: 19, Steps: 555, eps: 0.995, total rewards: 120.0\n",
      "Episode: 20, Steps: 488, eps: 0.995, total rewards: 180.0\n",
      "Episode: 21, Steps: 1138, eps: 0.994, total rewards: 225.0\n",
      "Episode: 22, Steps: 300, eps: 0.994, total rewards: 45.0\n",
      "Episode: 23, Steps: 695, eps: 0.994, total rewards: 230.0\n",
      "Episode: 24, Steps: 506, eps: 0.993, total rewards: 175.0\n",
      "Episode: 25, Steps: 816, eps: 0.993, total rewards: 370.0\n",
      "Episode: 26, Steps: 588, eps: 0.993, total rewards: 215.0\n",
      "Episode: 27, Steps: 292, eps: 0.993, total rewards: 80.0\n",
      "Episode: 28, Steps: 687, eps: 0.992, total rewards: 185.0\n",
      "Episode: 29, Steps: 478, eps: 0.992, total rewards: 90.0\n",
      "Episode: 30, Steps: 364, eps: 0.992, total rewards: 40.0\n",
      "Episode: 31, Steps: 717, eps: 0.991, total rewards: 460.0\n",
      "Episode: 32, Steps: 338, eps: 0.991, total rewards: 75.0\n",
      "Episode: 33, Steps: 502, eps: 0.991, total rewards: 155.0\n",
      "Episode: 34, Steps: 490, eps: 0.991, total rewards: 110.0\n",
      "Episode: 35, Steps: 249, eps: 0.990, total rewards: 45.0\n",
      "Episode: 36, Steps: 492, eps: 0.990, total rewards: 120.0\n",
      "Episode: 37, Steps: 479, eps: 0.990, total rewards: 135.0\n",
      "Episode: 38, Steps: 587, eps: 0.989, total rewards: 135.0\n",
      "Episode: 39, Steps: 570, eps: 0.989, total rewards: 170.0\n",
      "Episode: 40, Steps: 520, eps: 0.989, total rewards: 140.0\n",
      "Episode: 41, Steps: 348, eps: 0.989, total rewards: 45.0\n",
      "Episode: 42, Steps: 887, eps: 0.988, total rewards: 255.0\n",
      "Episode: 43, Steps: 976, eps: 0.988, total rewards: 370.0\n",
      "Episode: 44, Steps: 710, eps: 0.988, total rewards: 260.0\n",
      "Episode: 45, Steps: 867, eps: 0.987, total rewards: 170.0\n",
      "Episode: 46, Steps: 741, eps: 0.987, total rewards: 230.0\n",
      "Episode: 47, Steps: 460, eps: 0.987, total rewards: 115.0\n",
      "Episode: 48, Steps: 531, eps: 0.987, total rewards: 155.0\n",
      "Episode: 49, Steps: 542, eps: 0.986, total rewards: 60.0\n",
      "Episode: 50, Steps: 623, eps: 0.986, total rewards: 210.0\n",
      "Episode: 51, Steps: 557, eps: 0.986, total rewards: 160.0\n"
     ]
    },
    {
     "name": "stderr",
     "output_type": "stream",
     "text": [
      "/Users/ashfaq/.local/share/virtualenvs/rl-atari-7yjpj432/lib/python3.11/site-packages/keras/src/optimizers/base_optimizer.py:576: UserWarning: Gradients do not exist for variables ['hebb_dense1', 'hebb_state_values', 'hebb_raw_advantages'] when minimizing the loss. If using `model.compile()`, did you forget to provide a `loss` argument?\n",
      "  warnings.warn(\n"
     ]
    },
    {
     "name": "stdout",
     "output_type": "stream",
     "text": [
      "Episode: 52, Steps: 501, eps: 0.985, total rewards: 110.0\n",
      "Episode: 53, Steps: 453, eps: 0.985, total rewards: 75.0\n",
      "Episode: 54, Steps: 1020, eps: 0.985, total rewards: 285.0\n",
      "Episode: 55, Steps: 399, eps: 0.985, total rewards: 65.0\n",
      "Episode: 56, Steps: 798, eps: 0.984, total rewards: 325.0\n",
      "Episode: 57, Steps: 687, eps: 0.984, total rewards: 155.0\n",
      "Episode: 58, Steps: 1082, eps: 0.984, total rewards: 240.0\n",
      "Episode: 59, Steps: 401, eps: 0.983, total rewards: 135.0\n",
      "Episode: 60, Steps: 288, eps: 0.983, total rewards: 60.0\n",
      "Episode: 61, Steps: 396, eps: 0.983, total rewards: 80.0\n",
      "Episode: 62, Steps: 510, eps: 0.983, total rewards: 105.0\n",
      "Episode: 63, Steps: 474, eps: 0.982, total rewards: 130.0\n",
      "Episode: 64, Steps: 508, eps: 0.982, total rewards: 60.0\n",
      "Episode: 65, Steps: 443, eps: 0.982, total rewards: 135.0\n",
      "Episode: 66, Steps: 633, eps: 0.981, total rewards: 180.0\n",
      "Episode: 67, Steps: 360, eps: 0.981, total rewards: 80.0\n",
      "Episode: 68, Steps: 854, eps: 0.981, total rewards: 345.0\n",
      "Episode: 69, Steps: 494, eps: 0.981, total rewards: 80.0\n",
      "Episode: 70, Steps: 321, eps: 0.980, total rewards: 30.0\n",
      "Episode: 71, Steps: 898, eps: 0.980, total rewards: 520.0\n",
      "Episode: 72, Steps: 330, eps: 0.980, total rewards: 60.0\n",
      "Episode: 73, Steps: 458, eps: 0.979, total rewards: 155.0\n",
      "Episode: 74, Steps: 565, eps: 0.979, total rewards: 135.0\n",
      "Episode: 75, Steps: 396, eps: 0.979, total rewards: 95.0\n",
      "Episode: 76, Steps: 506, eps: 0.979, total rewards: 135.0\n",
      "Episode: 77, Steps: 492, eps: 0.978, total rewards: 120.0\n",
      "Episode: 78, Steps: 465, eps: 0.978, total rewards: 70.0\n",
      "Episode: 79, Steps: 423, eps: 0.978, total rewards: 110.0\n",
      "Episode: 80, Steps: 521, eps: 0.977, total rewards: 180.0\n",
      "Episode: 81, Steps: 292, eps: 0.977, total rewards: 20.0\n",
      "Episode: 82, Steps: 478, eps: 0.977, total rewards: 145.0\n",
      "Episode: 83, Steps: 528, eps: 0.977, total rewards: 135.0\n",
      "Episode: 84, Steps: 463, eps: 0.976, total rewards: 155.0\n",
      "Episode: 85, Steps: 483, eps: 0.976, total rewards: 150.0\n",
      "Episode: 86, Steps: 725, eps: 0.976, total rewards: 380.0\n",
      "Episode: 87, Steps: 407, eps: 0.975, total rewards: 105.0\n",
      "Episode: 88, Steps: 710, eps: 0.975, total rewards: 390.0\n",
      "Episode: 89, Steps: 523, eps: 0.975, total rewards: 190.0\n",
      "Episode: 90, Steps: 338, eps: 0.975, total rewards: 90.0\n",
      "Episode: 91, Steps: 580, eps: 0.974, total rewards: 380.0\n",
      "Episode: 92, Steps: 467, eps: 0.974, total rewards: 155.0\n",
      "Episode: 93, Steps: 794, eps: 0.974, total rewards: 140.0\n",
      "Episode: 94, Steps: 861, eps: 0.973, total rewards: 260.0\n",
      "Episode: 95, Steps: 533, eps: 0.973, total rewards: 120.0\n",
      "Episode: 96, Steps: 392, eps: 0.973, total rewards: 20.0\n",
      "Episode: 97, Steps: 816, eps: 0.973, total rewards: 510.0\n",
      "Episode: 98, Steps: 369, eps: 0.972, total rewards: 90.0\n",
      "Episode: 99, Steps: 477, eps: 0.972, total rewards: 125.0\n",
      "Episode: 100, Steps: 587, eps: 0.972, total rewards: 60.0\n",
      "Episode: 101, Steps: 475, eps: 0.971, total rewards: 135.0\n",
      "Episode: 102, Steps: 593, eps: 0.971, total rewards: 210.0\n",
      "Episode: 103, Steps: 817, eps: 0.971, total rewards: 290.0\n",
      "Episode: 104, Steps: 406, eps: 0.971, total rewards: 60.0\n",
      "Episode: 105, Steps: 400, eps: 0.970, total rewards: 80.0\n",
      "Episode: 106, Steps: 584, eps: 0.970, total rewards: 185.0\n",
      "Episode: 107, Steps: 297, eps: 0.970, total rewards: 30.0\n",
      "Episode: 108, Steps: 296, eps: 0.969, total rewards: 15.0\n",
      "Episode: 109, Steps: 1132, eps: 0.969, total rewards: 440.0\n",
      "Episode: 110, Steps: 828, eps: 0.969, total rewards: 215.0\n",
      "Episode: 111, Steps: 1148, eps: 0.969, total rewards: 440.0\n",
      "Episode: 112, Steps: 489, eps: 0.968, total rewards: 120.0\n",
      "Episode: 113, Steps: 475, eps: 0.968, total rewards: 130.0\n",
      "Episode: 114, Steps: 396, eps: 0.968, total rewards: 150.0\n",
      "Episode: 115, Steps: 465, eps: 0.967, total rewards: 180.0\n",
      "Episode: 116, Steps: 494, eps: 0.967, total rewards: 140.0\n",
      "Episode: 117, Steps: 510, eps: 0.967, total rewards: 130.0\n",
      "Episode: 118, Steps: 430, eps: 0.967, total rewards: 55.0\n",
      "Episode: 119, Steps: 962, eps: 0.966, total rewards: 275.0\n",
      "Episode: 120, Steps: 466, eps: 0.966, total rewards: 85.0\n",
      "Episode: 121, Steps: 794, eps: 0.966, total rewards: 230.0\n",
      "Episode: 122, Steps: 598, eps: 0.965, total rewards: 185.0\n",
      "Episode: 123, Steps: 533, eps: 0.965, total rewards: 185.0\n",
      "Episode: 124, Steps: 921, eps: 0.965, total rewards: 775.0\n",
      "Episode: 125, Steps: 594, eps: 0.965, total rewards: 335.0\n",
      "Episode: 126, Steps: 581, eps: 0.964, total rewards: 160.0\n",
      "Episode: 127, Steps: 416, eps: 0.964, total rewards: 55.0\n",
      "Episode: 128, Steps: 259, eps: 0.964, total rewards: 75.0\n",
      "Episode: 129, Steps: 777, eps: 0.963, total rewards: 260.0\n",
      "Episode: 130, Steps: 519, eps: 0.963, total rewards: 105.0\n",
      "Episode: 131, Steps: 572, eps: 0.963, total rewards: 190.0\n",
      "Episode: 132, Steps: 565, eps: 0.963, total rewards: 155.0\n",
      "Episode: 133, Steps: 609, eps: 0.962, total rewards: 170.0\n",
      "Episode: 134, Steps: 609, eps: 0.962, total rewards: 255.0\n",
      "Episode: 135, Steps: 479, eps: 0.962, total rewards: 105.0\n",
      "Episode: 136, Steps: 414, eps: 0.961, total rewards: 110.0\n",
      "Episode: 137, Steps: 553, eps: 0.961, total rewards: 335.0\n",
      "Episode: 138, Steps: 491, eps: 0.961, total rewards: 115.0\n",
      "Episode: 139, Steps: 335, eps: 0.961, total rewards: 65.0\n",
      "Episode: 140, Steps: 452, eps: 0.960, total rewards: 65.0\n",
      "Episode: 141, Steps: 586, eps: 0.960, total rewards: 210.0\n",
      "Episode: 142, Steps: 341, eps: 0.960, total rewards: 105.0\n",
      "Episode: 143, Steps: 443, eps: 0.959, total rewards: 155.0\n",
      "Episode: 144, Steps: 584, eps: 0.959, total rewards: 180.0\n",
      "Episode: 145, Steps: 527, eps: 0.959, total rewards: 185.0\n",
      "Episode: 146, Steps: 615, eps: 0.959, total rewards: 535.0\n",
      "Episode: 147, Steps: 646, eps: 0.958, total rewards: 210.0\n",
      "Episode: 148, Steps: 408, eps: 0.958, total rewards: 90.0\n",
      "Episode: 149, Steps: 532, eps: 0.958, total rewards: 185.0\n",
      "Episode: 150, Steps: 563, eps: 0.957, total rewards: 55.0\n",
      "Episode: 151, Steps: 433, eps: 0.957, total rewards: 60.0\n",
      "Episode: 152, Steps: 415, eps: 0.957, total rewards: 60.0\n",
      "Episode: 153, Steps: 458, eps: 0.957, total rewards: 85.0\n",
      "Episode: 154, Steps: 586, eps: 0.956, total rewards: 335.0\n",
      "Episode: 155, Steps: 473, eps: 0.956, total rewards: 190.0\n",
      "Episode: 156, Steps: 298, eps: 0.956, total rewards: 110.0\n",
      "Episode: 157, Steps: 516, eps: 0.955, total rewards: 125.0\n",
      "Episode: 158, Steps: 393, eps: 0.955, total rewards: 55.0\n",
      "Episode: 159, Steps: 790, eps: 0.955, total rewards: 180.0\n",
      "Episode: 160, Steps: 591, eps: 0.955, total rewards: 120.0\n",
      "Episode: 161, Steps: 311, eps: 0.954, total rewards: 50.0\n",
      "Episode: 162, Steps: 446, eps: 0.954, total rewards: 105.0\n",
      "Episode: 163, Steps: 664, eps: 0.954, total rewards: 345.0\n",
      "Episode: 164, Steps: 303, eps: 0.953, total rewards: 50.0\n",
      "Episode: 165, Steps: 671, eps: 0.953, total rewards: 255.0\n",
      "Episode: 166, Steps: 798, eps: 0.953, total rewards: 290.0\n",
      "Episode: 167, Steps: 462, eps: 0.953, total rewards: 150.0\n",
      "Episode: 168, Steps: 438, eps: 0.952, total rewards: 85.0\n",
      "Episode: 169, Steps: 533, eps: 0.952, total rewards: 180.0\n",
      "Episode: 170, Steps: 408, eps: 0.952, total rewards: 55.0\n",
      "Episode: 171, Steps: 383, eps: 0.951, total rewards: 45.0\n",
      "Episode: 172, Steps: 645, eps: 0.951, total rewards: 160.0\n",
      "Episode: 173, Steps: 497, eps: 0.951, total rewards: 215.0\n",
      "Episode: 174, Steps: 552, eps: 0.951, total rewards: 125.0\n",
      "Episode: 175, Steps: 627, eps: 0.950, total rewards: 205.0\n",
      "Episode: 176, Steps: 387, eps: 0.950, total rewards: 80.0\n",
      "Episode: 177, Steps: 481, eps: 0.950, total rewards: 135.0\n",
      "Episode: 178, Steps: 599, eps: 0.949, total rewards: 155.0\n",
      "Episode: 179, Steps: 439, eps: 0.949, total rewards: 150.0\n",
      "Episode: 180, Steps: 477, eps: 0.949, total rewards: 160.0\n",
      "Episode: 181, Steps: 354, eps: 0.949, total rewards: 5.0\n",
      "Episode: 182, Steps: 680, eps: 0.948, total rewards: 260.0\n",
      "Episode: 183, Steps: 489, eps: 0.948, total rewards: 145.0\n",
      "Episode: 184, Steps: 582, eps: 0.948, total rewards: 120.0\n",
      "Episode: 185, Steps: 415, eps: 0.947, total rewards: 50.0\n",
      "Episode: 186, Steps: 1007, eps: 0.947, total rewards: 415.0\n",
      "Episode: 187, Steps: 479, eps: 0.947, total rewards: 35.0\n",
      "Episode: 188, Steps: 369, eps: 0.947, total rewards: 85.0\n",
      "Episode: 189, Steps: 537, eps: 0.946, total rewards: 75.0\n",
      "Episode: 190, Steps: 608, eps: 0.946, total rewards: 210.0\n",
      "Episode: 191, Steps: 399, eps: 0.946, total rewards: 30.0\n",
      "Episode: 192, Steps: 585, eps: 0.945, total rewards: 130.0\n",
      "Episode: 193, Steps: 543, eps: 0.945, total rewards: 135.0\n",
      "Episode: 194, Steps: 468, eps: 0.945, total rewards: 165.0\n",
      "Episode: 195, Steps: 476, eps: 0.945, total rewards: 15.0\n",
      "Episode: 196, Steps: 551, eps: 0.944, total rewards: 145.0\n",
      "Episode: 197, Steps: 401, eps: 0.944, total rewards: 75.0\n",
      "Episode: 198, Steps: 355, eps: 0.944, total rewards: 140.0\n",
      "Episode: 199, Steps: 455, eps: 0.943, total rewards: 80.0\n",
      "Episode: 200, Steps: 603, eps: 0.943, total rewards: 165.0\n",
      "Episode: 201, Steps: 941, eps: 0.943, total rewards: 240.0\n",
      "Episode: 202, Steps: 285, eps: 0.943, total rewards: 50.0\n",
      "Episode: 203, Steps: 644, eps: 0.942, total rewards: 215.0\n",
      "Episode: 204, Steps: 1124, eps: 0.942, total rewards: 485.0\n",
      "Episode: 205, Steps: 816, eps: 0.942, total rewards: 285.0\n",
      "Episode: 206, Steps: 664, eps: 0.941, total rewards: 215.0\n",
      "Episode: 207, Steps: 413, eps: 0.941, total rewards: 135.0\n",
      "Episode: 208, Steps: 1034, eps: 0.941, total rewards: 290.0\n",
      "Episode: 209, Steps: 382, eps: 0.941, total rewards: 105.0\n",
      "Episode: 210, Steps: 386, eps: 0.940, total rewards: 135.0\n",
      "Episode: 211, Steps: 311, eps: 0.940, total rewards: 80.0\n",
      "Episode: 212, Steps: 740, eps: 0.940, total rewards: 200.0\n",
      "Episode: 213, Steps: 677, eps: 0.939, total rewards: 215.0\n",
      "Episode: 214, Steps: 561, eps: 0.939, total rewards: 135.0\n",
      "Episode: 215, Steps: 471, eps: 0.939, total rewards: 155.0\n",
      "Episode: 216, Steps: 464, eps: 0.939, total rewards: 50.0\n",
      "Episode: 217, Steps: 289, eps: 0.938, total rewards: 80.0\n",
      "Episode: 218, Steps: 301, eps: 0.938, total rewards: 50.0\n",
      "Episode: 219, Steps: 474, eps: 0.938, total rewards: 215.0\n",
      "Episode: 220, Steps: 666, eps: 0.937, total rewards: 160.0\n",
      "Episode: 221, Steps: 784, eps: 0.937, total rewards: 385.0\n",
      "Episode: 222, Steps: 641, eps: 0.937, total rewards: 270.0\n",
      "Episode: 223, Steps: 482, eps: 0.937, total rewards: 160.0\n",
      "Episode: 224, Steps: 751, eps: 0.936, total rewards: 365.0\n",
      "Episode: 225, Steps: 592, eps: 0.936, total rewards: 230.0\n",
      "Episode: 226, Steps: 539, eps: 0.936, total rewards: 165.0\n",
      "Episode: 227, Steps: 270, eps: 0.935, total rewards: 50.0\n",
      "Episode: 228, Steps: 406, eps: 0.935, total rewards: 45.0\n",
      "Episode: 229, Steps: 398, eps: 0.935, total rewards: 110.0\n",
      "Episode: 230, Steps: 275, eps: 0.935, total rewards: 40.0\n",
      "Episode: 231, Steps: 457, eps: 0.934, total rewards: 155.0\n"
     ]
    }
   ],
   "source": [
    "spaceinvaders_rewards, spaceinvaders_max_steps, spaceinvaders_q_values, spaceinvaders_losses, spaceinvaders_model = train_dqn(\n",
    "    \"ALE/SpaceInvaders-v5\", \n",
    "    method=\"ddqn_injected_plasticity\"\n",
    ")"
   ],
   "metadata": {
    "collapsed": false,
    "is_executing": true,
    "ExecuteTime": {
     "start_time": "2024-04-18T15:23:46.485769Z"
    }
   },
   "id": "c46b64e827b718ac",
   "execution_count": null
  },
  {
   "cell_type": "code",
   "outputs": [],
   "source": [
    "plot_rewards(spaceinvaders_rewards, title='SpaceInvaders Rewards Over Episodes')"
   ],
   "metadata": {
    "collapsed": false,
    "is_executing": true
   },
   "id": "c26e6ff8f46ed62a",
   "execution_count": null
  },
  {
   "cell_type": "code",
   "outputs": [],
   "source": [
    "plot_q(spaceinvaders_q_values, title='SpaceInvaders Q Values Over Episodes')"
   ],
   "metadata": {
    "collapsed": false,
    "is_executing": true
   },
   "id": "15b04636cf37c2e1",
   "execution_count": null
  },
  {
   "cell_type": "code",
   "outputs": [],
   "source": [
    "np.save(\"../data/save/spaceinvaders_rewards_ddqn_injected_plasticity_0_eps.npy\", np.array(spaceinvaders_rewards))\n",
    "np.save(\"../data/save/spaceinvaders_max_steps_ddqn_injected_plasticity_0_eps.npy\", np.array(spaceinvaders_max_steps))\n",
    "np.save(\"../data/save/spaceinvaders_q_values_ddqn_injected_plasticity_0_eps.npy\", np.array(spaceinvaders_q_values))\n",
    "np.save(\"../data/save/spaceinvaders_losses_ddqn_injected_plasticity_0_eps.npy\", np.array(spaceinvaders_losses))"
   ],
   "metadata": {
    "collapsed": false,
    "is_executing": true
   },
   "id": "f33d404abe907c6b",
   "execution_count": null
  },
  {
   "cell_type": "code",
   "outputs": [],
   "source": [
    "spaceinvaders_model.save(\"../data/saved_models/spaceinvaders_model_ddqn_injected_plasticity_0_eps.keras\")"
   ],
   "metadata": {
    "collapsed": false,
    "is_executing": true
   },
   "id": "3195f5c736fee7d8",
   "execution_count": null
  },
  {
   "cell_type": "code",
   "outputs": [],
   "source": [],
   "metadata": {
    "collapsed": false,
    "is_executing": true
   },
   "id": "6ea3e38895176ae5",
   "execution_count": null
  }
 ],
 "metadata": {
  "kernelspec": {
   "display_name": "Python 3",
   "language": "python",
   "name": "python3"
  },
  "language_info": {
   "codemirror_mode": {
    "name": "ipython",
    "version": 2
   },
   "file_extension": ".py",
   "mimetype": "text/x-python",
   "name": "python",
   "nbconvert_exporter": "python",
   "pygments_lexer": "ipython2",
   "version": "2.7.6"
  }
 },
 "nbformat": 4,
 "nbformat_minor": 5
}
