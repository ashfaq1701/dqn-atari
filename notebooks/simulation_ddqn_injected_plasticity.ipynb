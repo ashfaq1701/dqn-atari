{
 "cells": [
  {
   "cell_type": "code",
   "execution_count": 1,
   "id": "initial_id",
   "metadata": {
    "collapsed": true,
    "ExecuteTime": {
     "end_time": "2024-04-08T23:44:48.480393Z",
     "start_time": "2024-04-08T23:44:46.381716Z"
    }
   },
   "outputs": [],
   "source": [
    "import numpy as np\n",
    "\n",
    "from src.main import train_dqn\n",
    "from src.visualization import plot_rewards, plot_q, plot_all_rewards"
   ]
  },
  {
   "cell_type": "code",
   "outputs": [
    {
     "name": "stderr",
     "output_type": "stream",
     "text": [
      "A.L.E: Arcade Learning Environment (version 0.8.1+53f58b7)\n",
      "[Powered by Stella]\n",
      "2024-04-09 00:44:48.541963: I metal_plugin/src/device/metal_device.cc:1154] Metal device set to: Apple M2 Max\n",
      "2024-04-09 00:44:48.541980: I metal_plugin/src/device/metal_device.cc:296] systemMemory: 32.00 GB\n",
      "2024-04-09 00:44:48.541984: I metal_plugin/src/device/metal_device.cc:313] maxCacheSize: 10.67 GB\n",
      "2024-04-09 00:44:48.542003: I tensorflow/core/common_runtime/pluggable_device/pluggable_device_factory.cc:305] Could not identify NUMA node of platform GPU ID 0, defaulting to 0. Your kernel may not have been built with NUMA support.\n",
      "2024-04-09 00:44:48.542012: I tensorflow/core/common_runtime/pluggable_device/pluggable_device_factory.cc:271] Created TensorFlow device (/job:localhost/replica:0/task:0/device:GPU:0 with 0 MB memory) -> physical PluggableDevice (device: 0, name: METAL, pci bus id: <undefined>)\n",
      "/Users/ashfaq/.local/share/virtualenvs/rl-atari-7yjpj432/lib/python3.11/site-packages/keras/src/layers/convolutional/base_conv.py:99: UserWarning: Do not pass an `input_shape`/`input_dim` argument to a layer. When using Sequential models, prefer using an `Input(shape)` object as the first layer in the model instead.\n",
      "  super().__init__(\n"
     ]
    },
    {
     "name": "stdout",
     "output_type": "stream",
     "text": [
      "Episode: 1, Steps: 370, eps: 1.000, total rewards: 90.0\n",
      "Episode: 2, Steps: 372, eps: 1.000, total rewards: 80.0\n",
      "Episode: 3, Steps: 468, eps: 0.999, total rewards: 65.0\n",
      "Episode: 4, Steps: 501, eps: 0.999, total rewards: 135.0\n",
      "Episode: 5, Steps: 472, eps: 0.999, total rewards: 80.0\n",
      "Episode: 6, Steps: 362, eps: 0.998, total rewards: 95.0\n"
     ]
    },
    {
     "name": "stderr",
     "output_type": "stream",
     "text": [
      "2024-04-09 00:44:49.824656: I tensorflow/core/grappler/optimizers/custom_graph_optimizer_registry.cc:117] Plugin optimizer for device_type GPU is enabled.\n"
     ]
    },
    {
     "name": "stdout",
     "output_type": "stream",
     "text": [
      "Episode: 7, Steps: 592, eps: 0.998, total rewards: 155.0\n",
      "Episode: 8, Steps: 470, eps: 0.998, total rewards: 135.0\n",
      "Episode: 9, Steps: 518, eps: 0.997, total rewards: 135.0\n",
      "Episode: 10, Steps: 607, eps: 0.997, total rewards: 225.0\n",
      "Episode: 11, Steps: 503, eps: 0.997, total rewards: 120.0\n",
      "Episode: 12, Steps: 460, eps: 0.996, total rewards: 105.0\n",
      "Episode: 13, Steps: 387, eps: 0.996, total rewards: 90.0\n",
      "Episode: 14, Steps: 1022, eps: 0.996, total rewards: 370.0\n",
      "Episode: 15, Steps: 537, eps: 0.995, total rewards: 180.0\n",
      "Episode: 16, Steps: 538, eps: 0.995, total rewards: 120.0\n",
      "Episode: 17, Steps: 477, eps: 0.995, total rewards: 75.0\n",
      "Episode: 18, Steps: 257, eps: 0.994, total rewards: 35.0\n",
      "Episode: 19, Steps: 828, eps: 0.994, total rewards: 285.0\n",
      "Episode: 20, Steps: 446, eps: 0.994, total rewards: 135.0\n",
      "Episode: 21, Steps: 311, eps: 0.993, total rewards: 30.0\n",
      "Episode: 22, Steps: 603, eps: 0.993, total rewards: 155.0\n",
      "Episode: 23, Steps: 679, eps: 0.993, total rewards: 170.0\n",
      "Episode: 24, Steps: 711, eps: 0.992, total rewards: 150.0\n",
      "Episode: 25, Steps: 918, eps: 0.992, total rewards: 390.0\n",
      "Episode: 26, Steps: 874, eps: 0.992, total rewards: 350.0\n",
      "Episode: 27, Steps: 377, eps: 0.991, total rewards: 65.0\n",
      "Episode: 28, Steps: 525, eps: 0.991, total rewards: 125.0\n",
      "Episode: 29, Steps: 716, eps: 0.991, total rewards: 265.0\n",
      "Episode: 30, Steps: 485, eps: 0.990, total rewards: 110.0\n",
      "Episode: 31, Steps: 528, eps: 0.990, total rewards: 165.0\n",
      "Episode: 32, Steps: 344, eps: 0.990, total rewards: 135.0\n",
      "Episode: 33, Steps: 509, eps: 0.989, total rewards: 125.0\n",
      "Episode: 34, Steps: 590, eps: 0.989, total rewards: 135.0\n",
      "Episode: 35, Steps: 1083, eps: 0.989, total rewards: 285.0\n",
      "Episode: 36, Steps: 592, eps: 0.988, total rewards: 210.0\n",
      "Episode: 37, Steps: 406, eps: 0.988, total rewards: 135.0\n",
      "Episode: 38, Steps: 884, eps: 0.988, total rewards: 350.0\n",
      "Episode: 39, Steps: 470, eps: 0.987, total rewards: 65.0\n",
      "Episode: 40, Steps: 623, eps: 0.987, total rewards: 180.0\n",
      "Episode: 41, Steps: 420, eps: 0.987, total rewards: 55.0\n",
      "Episode: 42, Steps: 455, eps: 0.986, total rewards: 50.0\n",
      "Episode: 43, Steps: 468, eps: 0.986, total rewards: 90.0\n",
      "Episode: 44, Steps: 393, eps: 0.986, total rewards: 135.0\n",
      "Episode: 45, Steps: 535, eps: 0.985, total rewards: 155.0\n",
      "Episode: 46, Steps: 610, eps: 0.985, total rewards: 210.0\n",
      "Episode: 47, Steps: 289, eps: 0.985, total rewards: 45.0\n",
      "Episode: 48, Steps: 434, eps: 0.984, total rewards: 130.0\n",
      "Episode: 49, Steps: 515, eps: 0.984, total rewards: 55.0\n",
      "Episode: 50, Steps: 723, eps: 0.984, total rewards: 190.0\n",
      "Episode: 51, Steps: 394, eps: 0.983, total rewards: 125.0\n",
      "Episode: 52, Steps: 563, eps: 0.983, total rewards: 190.0\n",
      "Episode: 53, Steps: 575, eps: 0.983, total rewards: 140.0\n",
      "Episode: 54, Steps: 437, eps: 0.982, total rewards: 80.0\n",
      "Episode: 55, Steps: 297, eps: 0.982, total rewards: 65.0\n",
      "Episode: 56, Steps: 296, eps: 0.982, total rewards: 105.0\n",
      "Episode: 57, Steps: 371, eps: 0.981, total rewards: 35.0\n",
      "Episode: 58, Steps: 431, eps: 0.981, total rewards: 45.0\n",
      "Episode: 59, Steps: 455, eps: 0.981, total rewards: 85.0\n",
      "Episode: 60, Steps: 533, eps: 0.980, total rewards: 105.0\n",
      "Episode: 61, Steps: 517, eps: 0.980, total rewards: 160.0\n",
      "Episode: 62, Steps: 370, eps: 0.980, total rewards: 105.0\n",
      "Episode: 63, Steps: 403, eps: 0.979, total rewards: 110.0\n",
      "Episode: 64, Steps: 774, eps: 0.979, total rewards: 440.0\n",
      "Episode: 65, Steps: 304, eps: 0.979, total rewards: 30.0\n",
      "Episode: 66, Steps: 599, eps: 0.978, total rewards: 155.0\n",
      "Episode: 67, Steps: 453, eps: 0.978, total rewards: 180.0\n",
      "Episode: 68, Steps: 381, eps: 0.978, total rewards: 80.0\n",
      "Episode: 69, Steps: 472, eps: 0.977, total rewards: 115.0\n",
      "Episode: 70, Steps: 291, eps: 0.977, total rewards: 75.0\n",
      "Episode: 71, Steps: 496, eps: 0.977, total rewards: 90.0\n",
      "Episode: 72, Steps: 826, eps: 0.976, total rewards: 265.0\n",
      "Episode: 73, Steps: 882, eps: 0.976, total rewards: 210.0\n",
      "Episode: 74, Steps: 291, eps: 0.976, total rewards: 55.0\n",
      "Episode: 75, Steps: 272, eps: 0.975, total rewards: 10.0\n",
      "Episode: 76, Steps: 532, eps: 0.975, total rewards: 110.0\n",
      "Episode: 77, Steps: 806, eps: 0.975, total rewards: 365.0\n",
      "Episode: 78, Steps: 733, eps: 0.974, total rewards: 215.0\n",
      "Episode: 79, Steps: 330, eps: 0.974, total rewards: 55.0\n",
      "Episode: 80, Steps: 489, eps: 0.974, total rewards: 105.0\n",
      "Episode: 81, Steps: 460, eps: 0.973, total rewards: 80.0\n",
      "Episode: 82, Steps: 535, eps: 0.973, total rewards: 410.0\n",
      "Episode: 83, Steps: 562, eps: 0.973, total rewards: 180.0\n",
      "Episode: 84, Steps: 524, eps: 0.972, total rewards: 120.0\n",
      "Episode: 85, Steps: 401, eps: 0.972, total rewards: 110.0\n",
      "Episode: 86, Steps: 808, eps: 0.972, total rewards: 210.0\n",
      "Episode: 87, Steps: 1028, eps: 0.971, total rewards: 225.0\n",
      "Episode: 88, Steps: 399, eps: 0.971, total rewards: 110.0\n",
      "Episode: 89, Steps: 515, eps: 0.971, total rewards: 155.0\n",
      "Episode: 90, Steps: 885, eps: 0.970, total rewards: 355.0\n",
      "Episode: 91, Steps: 571, eps: 0.970, total rewards: 310.0\n",
      "Episode: 92, Steps: 528, eps: 0.970, total rewards: 135.0\n",
      "Episode: 93, Steps: 369, eps: 0.969, total rewards: 120.0\n",
      "Episode: 94, Steps: 603, eps: 0.969, total rewards: 350.0\n",
      "Episode: 95, Steps: 387, eps: 0.969, total rewards: 80.0\n",
      "Episode: 96, Steps: 355, eps: 0.968, total rewards: 115.0\n",
      "Episode: 97, Steps: 399, eps: 0.968, total rewards: 135.0\n",
      "Episode: 98, Steps: 302, eps: 0.968, total rewards: 30.0\n",
      "Episode: 99, Steps: 498, eps: 0.967, total rewards: 135.0\n",
      "Episode: 100, Steps: 473, eps: 0.967, total rewards: 110.0\n",
      "Episode: 101, Steps: 704, eps: 0.967, total rewards: 175.0\n",
      "Episode: 102, Steps: 543, eps: 0.966, total rewards: 130.0\n",
      "Episode: 103, Steps: 704, eps: 0.966, total rewards: 230.0\n",
      "Episode: 104, Steps: 445, eps: 0.966, total rewards: 60.0\n",
      "Episode: 105, Steps: 289, eps: 0.965, total rewards: 40.0\n",
      "Episode: 106, Steps: 374, eps: 0.965, total rewards: 120.0\n",
      "Episode: 107, Steps: 1037, eps: 0.965, total rewards: 545.0\n",
      "Episode: 108, Steps: 284, eps: 0.964, total rewards: 100.0\n",
      "Episode: 109, Steps: 477, eps: 0.964, total rewards: 125.0\n",
      "Episode: 110, Steps: 382, eps: 0.964, total rewards: 55.0\n",
      "Episode: 111, Steps: 561, eps: 0.963, total rewards: 195.0\n",
      "Episode: 112, Steps: 655, eps: 0.963, total rewards: 255.0\n",
      "Episode: 113, Steps: 460, eps: 0.963, total rewards: 120.0\n",
      "Episode: 114, Steps: 749, eps: 0.962, total rewards: 295.0\n",
      "Episode: 115, Steps: 277, eps: 0.962, total rewards: 80.0\n",
      "Episode: 116, Steps: 757, eps: 0.962, total rewards: 250.0\n",
      "Episode: 117, Steps: 354, eps: 0.961, total rewards: 65.0\n",
      "Episode: 118, Steps: 815, eps: 0.961, total rewards: 385.0\n",
      "Episode: 119, Steps: 483, eps: 0.961, total rewards: 110.0\n",
      "Episode: 120, Steps: 547, eps: 0.960, total rewards: 235.0\n",
      "Episode: 121, Steps: 891, eps: 0.960, total rewards: 600.0\n",
      "Episode: 122, Steps: 544, eps: 0.960, total rewards: 140.0\n",
      "Episode: 123, Steps: 448, eps: 0.959, total rewards: 110.0\n",
      "Episode: 124, Steps: 379, eps: 0.959, total rewards: 45.0\n",
      "Episode: 125, Steps: 462, eps: 0.959, total rewards: 135.0\n",
      "Episode: 126, Steps: 697, eps: 0.958, total rewards: 200.0\n",
      "Episode: 127, Steps: 443, eps: 0.958, total rewards: 90.0\n",
      "Episode: 128, Steps: 522, eps: 0.958, total rewards: 120.0\n",
      "Episode: 129, Steps: 469, eps: 0.957, total rewards: 135.0\n",
      "Episode: 130, Steps: 592, eps: 0.957, total rewards: 95.0\n",
      "Episode: 131, Steps: 708, eps: 0.957, total rewards: 210.0\n",
      "Episode: 132, Steps: 406, eps: 0.956, total rewards: 70.0\n",
      "Episode: 133, Steps: 581, eps: 0.956, total rewards: 110.0\n",
      "Episode: 134, Steps: 473, eps: 0.956, total rewards: 125.0\n",
      "Episode: 135, Steps: 609, eps: 0.955, total rewards: 125.0\n",
      "Episode: 136, Steps: 410, eps: 0.955, total rewards: 65.0\n",
      "Episode: 137, Steps: 763, eps: 0.955, total rewards: 360.0\n",
      "Episode: 138, Steps: 409, eps: 0.954, total rewards: 135.0\n",
      "Episode: 139, Steps: 510, eps: 0.954, total rewards: 60.0\n",
      "Episode: 140, Steps: 457, eps: 0.954, total rewards: 125.0\n",
      "Episode: 141, Steps: 480, eps: 0.953, total rewards: 70.0\n",
      "Episode: 142, Steps: 290, eps: 0.953, total rewards: 65.0\n",
      "Episode: 143, Steps: 482, eps: 0.953, total rewards: 140.0\n",
      "Episode: 144, Steps: 370, eps: 0.952, total rewards: 50.0\n",
      "Episode: 145, Steps: 544, eps: 0.952, total rewards: 155.0\n",
      "Episode: 146, Steps: 491, eps: 0.952, total rewards: 180.0\n",
      "Episode: 147, Steps: 571, eps: 0.951, total rewards: 155.0\n",
      "Episode: 148, Steps: 411, eps: 0.951, total rewards: 105.0\n",
      "Episode: 149, Steps: 808, eps: 0.951, total rewards: 155.0\n",
      "Episode: 150, Steps: 685, eps: 0.950, total rewards: 210.0\n",
      "Episode: 151, Steps: 489, eps: 0.950, total rewards: 95.0\n",
      "Episode: 152, Steps: 388, eps: 0.950, total rewards: 35.0\n",
      "Episode: 153, Steps: 575, eps: 0.949, total rewards: 130.0\n",
      "Episode: 154, Steps: 489, eps: 0.949, total rewards: 100.0\n",
      "Episode: 155, Steps: 507, eps: 0.949, total rewards: 140.0\n",
      "Episode: 156, Steps: 695, eps: 0.948, total rewards: 135.0\n",
      "Episode: 157, Steps: 478, eps: 0.948, total rewards: 110.0\n",
      "Episode: 158, Steps: 627, eps: 0.948, total rewards: 190.0\n",
      "Episode: 159, Steps: 385, eps: 0.947, total rewards: 125.0\n",
      "Episode: 160, Steps: 306, eps: 0.947, total rewards: 110.0\n",
      "Episode: 161, Steps: 536, eps: 0.947, total rewards: 210.0\n",
      "Episode: 162, Steps: 388, eps: 0.946, total rewards: 110.0\n",
      "Episode: 163, Steps: 496, eps: 0.946, total rewards: 110.0\n",
      "Episode: 164, Steps: 606, eps: 0.946, total rewards: 240.0\n",
      "Episode: 165, Steps: 650, eps: 0.945, total rewards: 155.0\n",
      "Episode: 166, Steps: 457, eps: 0.945, total rewards: 110.0\n",
      "Episode: 167, Steps: 302, eps: 0.945, total rewards: 90.0\n",
      "Episode: 168, Steps: 578, eps: 0.944, total rewards: 210.0\n",
      "Episode: 169, Steps: 588, eps: 0.944, total rewards: 115.0\n",
      "Episode: 170, Steps: 536, eps: 0.944, total rewards: 355.0\n",
      "Episode: 171, Steps: 393, eps: 0.943, total rewards: 55.0\n",
      "Episode: 172, Steps: 706, eps: 0.943, total rewards: 255.0\n",
      "Episode: 173, Steps: 692, eps: 0.943, total rewards: 210.0\n",
      "Episode: 174, Steps: 828, eps: 0.942, total rewards: 300.0\n",
      "Episode: 175, Steps: 320, eps: 0.942, total rewards: 65.0\n",
      "Episode: 176, Steps: 563, eps: 0.942, total rewards: 120.0\n",
      "Episode: 177, Steps: 515, eps: 0.941, total rewards: 210.0\n",
      "Episode: 178, Steps: 422, eps: 0.941, total rewards: 10.0\n",
      "Episode: 179, Steps: 383, eps: 0.941, total rewards: 85.0\n",
      "Episode: 180, Steps: 485, eps: 0.940, total rewards: 135.0\n",
      "Episode: 181, Steps: 787, eps: 0.940, total rewards: 530.0\n",
      "Episode: 182, Steps: 528, eps: 0.940, total rewards: 120.0\n",
      "Episode: 183, Steps: 304, eps: 0.939, total rewards: 80.0\n",
      "Episode: 184, Steps: 731, eps: 0.939, total rewards: 405.0\n",
      "Episode: 185, Steps: 608, eps: 0.939, total rewards: 175.0\n",
      "Episode: 186, Steps: 395, eps: 0.938, total rewards: 85.0\n",
      "Episode: 187, Steps: 308, eps: 0.938, total rewards: 130.0\n",
      "Episode: 188, Steps: 365, eps: 0.938, total rewards: 20.0\n",
      "Episode: 189, Steps: 516, eps: 0.937, total rewards: 170.0\n",
      "Episode: 190, Steps: 454, eps: 0.937, total rewards: 75.0\n",
      "Episode: 191, Steps: 376, eps: 0.937, total rewards: 45.0\n",
      "Episode: 192, Steps: 620, eps: 0.936, total rewards: 345.0\n",
      "Episode: 193, Steps: 513, eps: 0.936, total rewards: 225.0\n",
      "Episode: 194, Steps: 918, eps: 0.936, total rewards: 255.0\n",
      "Episode: 195, Steps: 495, eps: 0.935, total rewards: 125.0\n",
      "Episode: 196, Steps: 599, eps: 0.935, total rewards: 260.0\n",
      "Episode: 197, Steps: 367, eps: 0.935, total rewards: 150.0\n",
      "Episode: 198, Steps: 569, eps: 0.934, total rewards: 285.0\n",
      "Episode: 199, Steps: 699, eps: 0.934, total rewards: 260.0\n",
      "Episode: 200, Steps: 403, eps: 0.934, total rewards: 15.0\n",
      "Episode: 201, Steps: 713, eps: 0.933, total rewards: 210.0\n",
      "Episode: 202, Steps: 528, eps: 0.933, total rewards: 195.0\n",
      "Episode: 203, Steps: 683, eps: 0.933, total rewards: 205.0\n",
      "Episode: 204, Steps: 362, eps: 0.932, total rewards: 95.0\n",
      "Episode: 205, Steps: 856, eps: 0.932, total rewards: 480.0\n",
      "Episode: 206, Steps: 655, eps: 0.932, total rewards: 180.0\n",
      "Episode: 207, Steps: 479, eps: 0.931, total rewards: 95.0\n",
      "Episode: 208, Steps: 461, eps: 0.931, total rewards: 120.0\n",
      "Episode: 209, Steps: 603, eps: 0.931, total rewards: 180.0\n",
      "Episode: 210, Steps: 455, eps: 0.930, total rewards: 105.0\n",
      "Episode: 211, Steps: 664, eps: 0.930, total rewards: 235.0\n",
      "Episode: 212, Steps: 287, eps: 0.930, total rewards: 75.0\n",
      "Episode: 213, Steps: 697, eps: 0.929, total rewards: 120.0\n",
      "Episode: 214, Steps: 1011, eps: 0.929, total rewards: 410.0\n",
      "Episode: 215, Steps: 854, eps: 0.929, total rewards: 315.0\n",
      "Episode: 216, Steps: 549, eps: 0.928, total rewards: 110.0\n",
      "Episode: 217, Steps: 421, eps: 0.928, total rewards: 100.0\n",
      "Episode: 218, Steps: 511, eps: 0.928, total rewards: 70.0\n",
      "Episode: 219, Steps: 620, eps: 0.927, total rewards: 225.0\n",
      "Episode: 220, Steps: 425, eps: 0.927, total rewards: 105.0\n",
      "Episode: 221, Steps: 383, eps: 0.927, total rewards: 120.0\n",
      "Episode: 222, Steps: 474, eps: 0.926, total rewards: 120.0\n",
      "Episode: 223, Steps: 600, eps: 0.926, total rewards: 180.0\n",
      "Episode: 224, Steps: 511, eps: 0.926, total rewards: 160.0\n",
      "Episode: 225, Steps: 424, eps: 0.925, total rewards: 120.0\n",
      "Episode: 226, Steps: 586, eps: 0.925, total rewards: 210.0\n",
      "Episode: 227, Steps: 412, eps: 0.925, total rewards: 105.0\n",
      "Episode: 228, Steps: 416, eps: 0.924, total rewards: 125.0\n",
      "Episode: 229, Steps: 387, eps: 0.924, total rewards: 65.0\n",
      "Episode: 230, Steps: 525, eps: 0.924, total rewards: 120.0\n",
      "Episode: 231, Steps: 519, eps: 0.923, total rewards: 120.0\n",
      "Episode: 232, Steps: 445, eps: 0.923, total rewards: 140.0\n",
      "Episode: 233, Steps: 412, eps: 0.923, total rewards: 110.0\n",
      "Episode: 234, Steps: 739, eps: 0.922, total rewards: 360.0\n",
      "Episode: 235, Steps: 665, eps: 0.922, total rewards: 125.0\n",
      "Episode: 236, Steps: 393, eps: 0.922, total rewards: 110.0\n",
      "Episode: 237, Steps: 294, eps: 0.921, total rewards: 80.0\n",
      "Episode: 238, Steps: 288, eps: 0.921, total rewards: 105.0\n",
      "Episode: 239, Steps: 824, eps: 0.921, total rewards: 240.0\n",
      "Episode: 240, Steps: 382, eps: 0.920, total rewards: 120.0\n",
      "Episode: 241, Steps: 468, eps: 0.920, total rewards: 180.0\n",
      "Episode: 242, Steps: 288, eps: 0.920, total rewards: 65.0\n",
      "Episode: 243, Steps: 592, eps: 0.919, total rewards: 320.0\n",
      "Episode: 244, Steps: 376, eps: 0.919, total rewards: 55.0\n",
      "Episode: 245, Steps: 383, eps: 0.919, total rewards: 115.0\n",
      "Episode: 246, Steps: 466, eps: 0.918, total rewards: 135.0\n",
      "Episode: 247, Steps: 375, eps: 0.918, total rewards: 75.0\n",
      "Episode: 248, Steps: 417, eps: 0.918, total rewards: 135.0\n",
      "Episode: 249, Steps: 511, eps: 0.917, total rewards: 105.0\n",
      "Episode: 250, Steps: 288, eps: 0.917, total rewards: 80.0\n",
      "Episode: 251, Steps: 307, eps: 0.917, total rewards: 50.0\n",
      "Episode: 252, Steps: 791, eps: 0.916, total rewards: 510.0\n",
      "Episode: 253, Steps: 454, eps: 0.916, total rewards: 120.0\n",
      "Episode: 254, Steps: 474, eps: 0.916, total rewards: 105.0\n",
      "Episode: 255, Steps: 463, eps: 0.915, total rewards: 75.0\n",
      "Episode: 256, Steps: 443, eps: 0.915, total rewards: 60.0\n",
      "Episode: 257, Steps: 755, eps: 0.915, total rewards: 415.0\n",
      "Episode: 258, Steps: 425, eps: 0.914, total rewards: 135.0\n",
      "Episode: 259, Steps: 558, eps: 0.914, total rewards: 110.0\n",
      "Episode: 260, Steps: 444, eps: 0.914, total rewards: 95.0\n",
      "Episode: 261, Steps: 491, eps: 0.913, total rewards: 75.0\n",
      "Episode: 262, Steps: 429, eps: 0.913, total rewards: 120.0\n",
      "Episode: 263, Steps: 338, eps: 0.913, total rewards: 80.0\n",
      "Episode: 264, Steps: 426, eps: 0.912, total rewards: 55.0\n",
      "Episode: 265, Steps: 956, eps: 0.912, total rewards: 675.0\n",
      "Episode: 266, Steps: 702, eps: 0.912, total rewards: 200.0\n",
      "Episode: 267, Steps: 405, eps: 0.911, total rewards: 105.0\n",
      "Episode: 268, Steps: 401, eps: 0.911, total rewards: 120.0\n",
      "Episode: 269, Steps: 579, eps: 0.911, total rewards: 205.0\n",
      "Episode: 270, Steps: 288, eps: 0.910, total rewards: 65.0\n",
      "Episode: 271, Steps: 877, eps: 0.910, total rewards: 250.0\n",
      "Episode: 272, Steps: 803, eps: 0.910, total rewards: 420.0\n",
      "Episode: 273, Steps: 287, eps: 0.909, total rewards: 80.0\n",
      "Episode: 274, Steps: 401, eps: 0.909, total rewards: 85.0\n",
      "Episode: 275, Steps: 408, eps: 0.909, total rewards: 45.0\n",
      "Episode: 276, Steps: 739, eps: 0.908, total rewards: 385.0\n",
      "Episode: 277, Steps: 453, eps: 0.908, total rewards: 165.0\n",
      "Episode: 278, Steps: 539, eps: 0.908, total rewards: 180.0\n",
      "Episode: 279, Steps: 838, eps: 0.907, total rewards: 315.0\n",
      "Episode: 280, Steps: 472, eps: 0.907, total rewards: 120.0\n",
      "Episode: 281, Steps: 384, eps: 0.907, total rewards: 80.0\n",
      "Episode: 282, Steps: 377, eps: 0.906, total rewards: 55.0\n",
      "Episode: 283, Steps: 493, eps: 0.906, total rewards: 155.0\n",
      "Episode: 284, Steps: 267, eps: 0.906, total rewards: 30.0\n",
      "Episode: 285, Steps: 515, eps: 0.905, total rewards: 120.0\n",
      "Episode: 286, Steps: 487, eps: 0.905, total rewards: 155.0\n",
      "Episode: 287, Steps: 307, eps: 0.905, total rewards: 50.0\n",
      "Episode: 288, Steps: 516, eps: 0.904, total rewards: 135.0\n",
      "Episode: 289, Steps: 698, eps: 0.904, total rewards: 225.0\n",
      "Episode: 290, Steps: 472, eps: 0.904, total rewards: 125.0\n",
      "Episode: 291, Steps: 520, eps: 0.903, total rewards: 140.0\n",
      "Episode: 292, Steps: 528, eps: 0.903, total rewards: 195.0\n",
      "Episode: 293, Steps: 494, eps: 0.903, total rewards: 65.0\n",
      "Episode: 294, Steps: 417, eps: 0.902, total rewards: 100.0\n",
      "Episode: 295, Steps: 358, eps: 0.902, total rewards: 90.0\n",
      "Episode: 296, Steps: 609, eps: 0.902, total rewards: 235.0\n",
      "Episode: 297, Steps: 324, eps: 0.901, total rewards: 85.0\n",
      "Episode: 298, Steps: 427, eps: 0.901, total rewards: 120.0\n",
      "Episode: 299, Steps: 348, eps: 0.901, total rewards: 65.0\n",
      "Episode: 300, Steps: 626, eps: 0.900, total rewards: 110.0\n",
      "Episode: 301, Steps: 402, eps: 0.900, total rewards: 80.0\n",
      "Episode: 302, Steps: 440, eps: 0.900, total rewards: 100.0\n",
      "Episode: 303, Steps: 298, eps: 0.899, total rewards: 25.0\n",
      "Episode: 304, Steps: 445, eps: 0.899, total rewards: 135.0\n",
      "Episode: 305, Steps: 520, eps: 0.899, total rewards: 155.0\n",
      "Episode: 306, Steps: 495, eps: 0.898, total rewards: 180.0\n",
      "Episode: 307, Steps: 594, eps: 0.898, total rewards: 165.0\n",
      "Episode: 308, Steps: 327, eps: 0.898, total rewards: 90.0\n",
      "Episode: 309, Steps: 255, eps: 0.897, total rewards: 85.0\n",
      "Episode: 310, Steps: 637, eps: 0.897, total rewards: 240.0\n",
      "Episode: 311, Steps: 680, eps: 0.897, total rewards: 300.0\n",
      "Episode: 312, Steps: 676, eps: 0.896, total rewards: 255.0\n",
      "Episode: 313, Steps: 288, eps: 0.896, total rewards: 45.0\n",
      "Episode: 314, Steps: 361, eps: 0.896, total rewards: 30.0\n",
      "Episode: 315, Steps: 531, eps: 0.895, total rewards: 180.0\n",
      "Episode: 316, Steps: 287, eps: 0.895, total rewards: 55.0\n",
      "Episode: 317, Steps: 514, eps: 0.895, total rewards: 120.0\n",
      "Episode: 318, Steps: 534, eps: 0.894, total rewards: 90.0\n",
      "Episode: 319, Steps: 379, eps: 0.894, total rewards: 75.0\n",
      "Episode: 320, Steps: 1055, eps: 0.894, total rewards: 680.0\n",
      "Episode: 321, Steps: 487, eps: 0.893, total rewards: 120.0\n",
      "Episode: 322, Steps: 602, eps: 0.893, total rewards: 210.0\n",
      "Episode: 323, Steps: 333, eps: 0.893, total rewards: 55.0\n",
      "Episode: 324, Steps: 945, eps: 0.892, total rewards: 705.0\n",
      "Episode: 325, Steps: 520, eps: 0.892, total rewards: 105.0\n",
      "Episode: 326, Steps: 261, eps: 0.892, total rewards: 50.0\n",
      "Episode: 327, Steps: 482, eps: 0.891, total rewards: 135.0\n",
      "Episode: 328, Steps: 711, eps: 0.891, total rewards: 270.0\n",
      "Episode: 329, Steps: 483, eps: 0.891, total rewards: 90.0\n",
      "Episode: 330, Steps: 723, eps: 0.890, total rewards: 195.0\n",
      "Episode: 331, Steps: 1021, eps: 0.890, total rewards: 315.0\n",
      "Episode: 332, Steps: 518, eps: 0.890, total rewards: 120.0\n",
      "Episode: 333, Steps: 588, eps: 0.889, total rewards: 130.0\n",
      "Episode: 334, Steps: 520, eps: 0.889, total rewards: 110.0\n",
      "Episode: 335, Steps: 564, eps: 0.889, total rewards: 335.0\n",
      "Episode: 336, Steps: 478, eps: 0.888, total rewards: 135.0\n",
      "Episode: 337, Steps: 770, eps: 0.888, total rewards: 475.0\n",
      "Episode: 338, Steps: 620, eps: 0.888, total rewards: 180.0\n",
      "Episode: 339, Steps: 452, eps: 0.887, total rewards: 105.0\n",
      "Episode: 340, Steps: 548, eps: 0.887, total rewards: 110.0\n",
      "Episode: 341, Steps: 611, eps: 0.887, total rewards: 180.0\n",
      "Episode: 342, Steps: 460, eps: 0.886, total rewards: 110.0\n",
      "Episode: 343, Steps: 298, eps: 0.886, total rewards: 15.0\n",
      "Episode: 344, Steps: 566, eps: 0.886, total rewards: 185.0\n",
      "Episode: 345, Steps: 380, eps: 0.885, total rewards: 70.0\n",
      "Episode: 346, Steps: 382, eps: 0.885, total rewards: 125.0\n",
      "Episode: 347, Steps: 357, eps: 0.885, total rewards: 35.0\n",
      "Episode: 348, Steps: 413, eps: 0.884, total rewards: 80.0\n",
      "Episode: 349, Steps: 625, eps: 0.884, total rewards: 140.0\n",
      "Episode: 350, Steps: 860, eps: 0.884, total rewards: 210.0\n",
      "Episode: 351, Steps: 510, eps: 0.883, total rewards: 105.0\n",
      "Episode: 352, Steps: 537, eps: 0.883, total rewards: 120.0\n",
      "Episode: 353, Steps: 301, eps: 0.883, total rewards: 80.0\n",
      "Episode: 354, Steps: 391, eps: 0.882, total rewards: 105.0\n",
      "Episode: 355, Steps: 470, eps: 0.882, total rewards: 75.0\n",
      "Episode: 356, Steps: 411, eps: 0.882, total rewards: 105.0\n",
      "Episode: 357, Steps: 589, eps: 0.881, total rewards: 160.0\n",
      "Episode: 358, Steps: 633, eps: 0.881, total rewards: 210.0\n",
      "Episode: 359, Steps: 634, eps: 0.881, total rewards: 210.0\n"
     ]
    }
   ],
   "source": [
    "spaceinvaders_rewards, spaceinvaders_max_steps, spaceinvaders_q_values, spaceinvaders_model = train_dqn(\"ALE/SpaceInvaders-v5\", method=\"ddqn_injected_plasticity\")"
   ],
   "metadata": {
    "collapsed": false,
    "is_executing": true,
    "ExecuteTime": {
     "start_time": "2024-04-08T23:44:48.481531Z"
    }
   },
   "id": "c46b64e827b718ac",
   "execution_count": null
  },
  {
   "cell_type": "code",
   "outputs": [],
   "source": [
    "plot_rewards(spaceinvaders_rewards, title='SpaceInvaders Rewards Over Episodes')"
   ],
   "metadata": {
    "collapsed": false,
    "is_executing": true
   },
   "id": "c26e6ff8f46ed62a",
   "execution_count": null
  },
  {
   "cell_type": "code",
   "outputs": [],
   "source": [
    "plot_q(spaceinvaders_q_values, title='SpaceInvaders Q Values Over Episodes')"
   ],
   "metadata": {
    "collapsed": false,
    "is_executing": true
   },
   "id": "15b04636cf37c2e1",
   "execution_count": null
  },
  {
   "cell_type": "code",
   "outputs": [],
   "source": [
    "np.save(\"../data/save/spaceinvaders_rewards_dqn_injected_plasticity.npy\", np.array(spaceinvaders_rewards))\n",
    "np.save(\"../data/save/spaceinvaders_max_steps_dqn_injected_plasticity.npy\", np.array(spaceinvaders_max_steps))\n",
    "np.save(\"../data/save/spaceinvaders_q_values_dqn_injected_plasticity.npy\", np.array(spaceinvaders_q_values))"
   ],
   "metadata": {
    "collapsed": false,
    "is_executing": true
   },
   "id": "f33d404abe907c6b",
   "execution_count": null
  },
  {
   "cell_type": "code",
   "outputs": [],
   "source": [
    "spaceinvaders_model.save(\"../data/saved_models/spaceinvaders_model_dqn_injected_plasticity.keras\")"
   ],
   "metadata": {
    "collapsed": false,
    "is_executing": true
   },
   "id": "3195f5c736fee7d8",
   "execution_count": null
  },
  {
   "cell_type": "code",
   "outputs": [],
   "source": [
    "breakout_rewards, breakout_max_steps, breakout_q_values, breakout_model = train_dqn(\"ALE/Breakout-v5\", method=\"dqn_injected_plasticity\")"
   ],
   "metadata": {
    "collapsed": false,
    "is_executing": true
   },
   "id": "f82aa173445d6d66",
   "execution_count": null
  },
  {
   "cell_type": "code",
   "outputs": [],
   "source": [
    "plot_rewards(breakout_rewards, title='Breakout Rewards Over Episodes')"
   ],
   "metadata": {
    "collapsed": false,
    "is_executing": true
   },
   "id": "45dcd49a235a6154",
   "execution_count": null
  },
  {
   "cell_type": "code",
   "outputs": [],
   "source": [
    "plot_q(breakout_q_values, title='Breakout Q Values Over Episodes')"
   ],
   "metadata": {
    "collapsed": false,
    "is_executing": true
   },
   "id": "78854389b773bbb3",
   "execution_count": null
  },
  {
   "cell_type": "code",
   "outputs": [],
   "source": [
    "np.save(\"../data/save/breakout_rewards_dqn_injected_plasticity.npy\", np.array(breakout_rewards))\n",
    "np.save(\"../data/save/breakout_max_steps_dqn_injected_plasticity.npy\", np.array(breakout_max_steps))\n",
    "np.save(\"../data/save/breakout_q_values_dqn_injected_plasticity.npy\", np.array(breakout_q_values))"
   ],
   "metadata": {
    "collapsed": false,
    "is_executing": true
   },
   "id": "d545abdb6356adc0"
  },
  {
   "cell_type": "code",
   "outputs": [],
   "source": [
    "breakout_model.save(\"../saved_models/breakout_model_dqn_injected_plasticity.keras\")"
   ],
   "metadata": {
    "collapsed": false,
    "is_executing": true
   },
   "id": "b388e7fced5c305b"
  },
  {
   "cell_type": "code",
   "outputs": [],
   "source": [
    "seaquest_rewards, seaquest_max_steps, seaquest_q_values, seaquest_model = train_dqn(\"ALE/Seaquest-v5\", method=\"dqn_injected_plasticity\")"
   ],
   "metadata": {
    "collapsed": false,
    "is_executing": true
   },
   "id": "f57d8cef77736078",
   "execution_count": null
  },
  {
   "cell_type": "code",
   "outputs": [],
   "source": [
    "plot_rewards(seaquest_rewards, title='SeaQuest Rewards Over Episodes')"
   ],
   "metadata": {
    "collapsed": false,
    "is_executing": true
   },
   "id": "8ee1de41cf3df084"
  },
  {
   "cell_type": "code",
   "outputs": [],
   "source": [
    "plot_q(seaquest_rewards, title='SeaQuest Q Values Over Episodes')"
   ],
   "metadata": {
    "collapsed": false,
    "is_executing": true
   },
   "id": "ce310f77f13f3ef6"
  },
  {
   "cell_type": "code",
   "outputs": [],
   "source": [
    "np.save(\"../data/save/seaquest_rewards_dqn_injected_plasticity.npy\", np.array(seaquest_rewards))\n",
    "np.save(\"../data/save/seaquest_max_steps_dqn_injected_plasticity.npy\", np.array(seaquest_max_steps))\n",
    "np.save(\"../data/save/seaquest_q_values_dqn_injected_plasticity.npy\", np.array(seaquest_q_values))"
   ],
   "metadata": {
    "collapsed": false,
    "is_executing": true
   },
   "id": "c1945ab336b329ee"
  },
  {
   "cell_type": "code",
   "outputs": [],
   "source": [
    "seaquest_model.save(\"../saved_models/seaquest_model_dqn_injected_plasticity.keras\")"
   ],
   "metadata": {
    "collapsed": false,
    "is_executing": true
   },
   "id": "33e1c69a2a749554"
  },
  {
   "cell_type": "code",
   "outputs": [],
   "source": [
    "pong_rewards, pong_max_steps, pong_q_values, pong_model = train_dqn(\"ALE/Pong-v5\", method=\"dqn_injected_plasticity\")"
   ],
   "metadata": {
    "collapsed": false,
    "is_executing": true
   },
   "id": "86db89be87f0aa1"
  },
  {
   "cell_type": "code",
   "outputs": [],
   "source": [
    "plot_rewards(pong_rewards, title='Pong Rewards Over Episodes')"
   ],
   "metadata": {
    "collapsed": false,
    "is_executing": true
   },
   "id": "1a581f9736e76fe2"
  },
  {
   "cell_type": "code",
   "outputs": [],
   "source": [
    "plot_q(pong_rewards, title='Pong Q Values Over Episodes')"
   ],
   "metadata": {
    "collapsed": false,
    "is_executing": true
   },
   "id": "8b31c86b506cc235"
  },
  {
   "cell_type": "code",
   "outputs": [],
   "source": [
    "np.save(\"../data/save/pong_rewards_dqn_injected_plasticity.npy\", np.array(pong_rewards))\n",
    "np.save(\"../data/save/pong_max_steps_dqn_injected_plasticity.npy\", np.array(pong_max_steps))\n",
    "np.save(\"../data/save/pong_q_values_dqn_injected_plasticity.npy\", np.array(pong_q_values))"
   ],
   "metadata": {
    "collapsed": false,
    "is_executing": true
   },
   "id": "69e0d8f43a6620fd"
  },
  {
   "cell_type": "code",
   "outputs": [],
   "source": [
    "pong_model.save(\"../saved_models/pong_model_dqn_injected_plasticity.keras\")"
   ],
   "metadata": {
    "collapsed": false,
    "is_executing": true
   },
   "id": "241341b8e1a21bdf"
  },
  {
   "cell_type": "code",
   "outputs": [],
   "source": [
    "plot_all_rewards(spaceinvaders_rewards, breakout_rewards, pong_rewards, seaquest_rewards, \"DQN with Plasticity\")"
   ],
   "metadata": {
    "collapsed": false,
    "is_executing": true
   },
   "id": "1422dbeb693e441b"
  },
  {
   "cell_type": "code",
   "outputs": [],
   "source": [],
   "metadata": {
    "collapsed": false,
    "is_executing": true
   },
   "id": "6ea3e38895176ae5"
  }
 ],
 "metadata": {
  "kernelspec": {
   "display_name": "Python 3",
   "language": "python",
   "name": "python3"
  },
  "language_info": {
   "codemirror_mode": {
    "name": "ipython",
    "version": 2
   },
   "file_extension": ".py",
   "mimetype": "text/x-python",
   "name": "python",
   "nbconvert_exporter": "python",
   "pygments_lexer": "ipython2",
   "version": "2.7.6"
  }
 },
 "nbformat": 4,
 "nbformat_minor": 5
}
