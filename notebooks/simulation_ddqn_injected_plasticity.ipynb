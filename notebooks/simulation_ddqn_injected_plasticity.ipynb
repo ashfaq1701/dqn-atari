{
 "cells": [
  {
   "cell_type": "code",
   "execution_count": 1,
   "id": "initial_id",
   "metadata": {
    "collapsed": true,
    "ExecuteTime": {
     "end_time": "2024-04-08T23:44:48.480393Z",
     "start_time": "2024-04-08T23:44:46.381716Z"
    }
   },
   "outputs": [],
   "source": [
    "import numpy as np\n",
    "\n",
    "from src.main import train_dqn\n",
    "from src.visualization import plot_rewards, plot_q, plot_all_rewards"
   ]
  },
  {
   "cell_type": "code",
   "outputs": [
    {
     "name": "stderr",
     "output_type": "stream",
     "text": [
      "A.L.E: Arcade Learning Environment (version 0.8.1+53f58b7)\n",
      "[Powered by Stella]\n",
      "2024-04-09 00:44:48.541963: I metal_plugin/src/device/metal_device.cc:1154] Metal device set to: Apple M2 Max\n",
      "2024-04-09 00:44:48.541980: I metal_plugin/src/device/metal_device.cc:296] systemMemory: 32.00 GB\n",
      "2024-04-09 00:44:48.541984: I metal_plugin/src/device/metal_device.cc:313] maxCacheSize: 10.67 GB\n",
      "2024-04-09 00:44:48.542003: I tensorflow/core/common_runtime/pluggable_device/pluggable_device_factory.cc:305] Could not identify NUMA node of platform GPU ID 0, defaulting to 0. Your kernel may not have been built with NUMA support.\n",
      "2024-04-09 00:44:48.542012: I tensorflow/core/common_runtime/pluggable_device/pluggable_device_factory.cc:271] Created TensorFlow device (/job:localhost/replica:0/task:0/device:GPU:0 with 0 MB memory) -> physical PluggableDevice (device: 0, name: METAL, pci bus id: <undefined>)\n",
      "/Users/ashfaq/.local/share/virtualenvs/rl-atari-7yjpj432/lib/python3.11/site-packages/keras/src/layers/convolutional/base_conv.py:99: UserWarning: Do not pass an `input_shape`/`input_dim` argument to a layer. When using Sequential models, prefer using an `Input(shape)` object as the first layer in the model instead.\n",
      "  super().__init__(\n"
     ]
    },
    {
     "name": "stdout",
     "output_type": "stream",
     "text": [
      "Episode: 1, Steps: 370, eps: 1.000, total rewards: 90.0\n",
      "Episode: 2, Steps: 372, eps: 1.000, total rewards: 80.0\n",
      "Episode: 3, Steps: 468, eps: 0.999, total rewards: 65.0\n",
      "Episode: 4, Steps: 501, eps: 0.999, total rewards: 135.0\n",
      "Episode: 5, Steps: 472, eps: 0.999, total rewards: 80.0\n",
      "Episode: 6, Steps: 362, eps: 0.998, total rewards: 95.0\n"
     ]
    },
    {
     "name": "stderr",
     "output_type": "stream",
     "text": [
      "2024-04-09 00:44:49.824656: I tensorflow/core/grappler/optimizers/custom_graph_optimizer_registry.cc:117] Plugin optimizer for device_type GPU is enabled.\n"
     ]
    },
    {
     "name": "stdout",
     "output_type": "stream",
     "text": [
      "Episode: 7, Steps: 592, eps: 0.998, total rewards: 155.0\n",
      "Episode: 8, Steps: 470, eps: 0.998, total rewards: 135.0\n",
      "Episode: 9, Steps: 518, eps: 0.997, total rewards: 135.0\n",
      "Episode: 10, Steps: 607, eps: 0.997, total rewards: 225.0\n",
      "Episode: 11, Steps: 503, eps: 0.997, total rewards: 120.0\n",
      "Episode: 12, Steps: 460, eps: 0.996, total rewards: 105.0\n",
      "Episode: 13, Steps: 387, eps: 0.996, total rewards: 90.0\n",
      "Episode: 14, Steps: 1022, eps: 0.996, total rewards: 370.0\n",
      "Episode: 15, Steps: 537, eps: 0.995, total rewards: 180.0\n",
      "Episode: 16, Steps: 538, eps: 0.995, total rewards: 120.0\n",
      "Episode: 17, Steps: 477, eps: 0.995, total rewards: 75.0\n",
      "Episode: 18, Steps: 257, eps: 0.994, total rewards: 35.0\n",
      "Episode: 19, Steps: 828, eps: 0.994, total rewards: 285.0\n",
      "Episode: 20, Steps: 446, eps: 0.994, total rewards: 135.0\n",
      "Episode: 21, Steps: 311, eps: 0.993, total rewards: 30.0\n",
      "Episode: 22, Steps: 603, eps: 0.993, total rewards: 155.0\n",
      "Episode: 23, Steps: 679, eps: 0.993, total rewards: 170.0\n",
      "Episode: 24, Steps: 711, eps: 0.992, total rewards: 150.0\n",
      "Episode: 25, Steps: 918, eps: 0.992, total rewards: 390.0\n",
      "Episode: 26, Steps: 874, eps: 0.992, total rewards: 350.0\n",
      "Episode: 27, Steps: 377, eps: 0.991, total rewards: 65.0\n",
      "Episode: 28, Steps: 525, eps: 0.991, total rewards: 125.0\n",
      "Episode: 29, Steps: 716, eps: 0.991, total rewards: 265.0\n",
      "Episode: 30, Steps: 485, eps: 0.990, total rewards: 110.0\n",
      "Episode: 31, Steps: 528, eps: 0.990, total rewards: 165.0\n",
      "Episode: 32, Steps: 344, eps: 0.990, total rewards: 135.0\n",
      "Episode: 33, Steps: 509, eps: 0.989, total rewards: 125.0\n",
      "Episode: 34, Steps: 590, eps: 0.989, total rewards: 135.0\n",
      "Episode: 35, Steps: 1083, eps: 0.989, total rewards: 285.0\n",
      "Episode: 36, Steps: 592, eps: 0.988, total rewards: 210.0\n",
      "Episode: 37, Steps: 406, eps: 0.988, total rewards: 135.0\n",
      "Episode: 38, Steps: 884, eps: 0.988, total rewards: 350.0\n",
      "Episode: 39, Steps: 470, eps: 0.987, total rewards: 65.0\n",
      "Episode: 40, Steps: 623, eps: 0.987, total rewards: 180.0\n",
      "Episode: 41, Steps: 420, eps: 0.987, total rewards: 55.0\n",
      "Episode: 42, Steps: 455, eps: 0.986, total rewards: 50.0\n",
      "Episode: 43, Steps: 468, eps: 0.986, total rewards: 90.0\n",
      "Episode: 44, Steps: 393, eps: 0.986, total rewards: 135.0\n",
      "Episode: 45, Steps: 535, eps: 0.985, total rewards: 155.0\n",
      "Episode: 46, Steps: 610, eps: 0.985, total rewards: 210.0\n",
      "Episode: 47, Steps: 289, eps: 0.985, total rewards: 45.0\n",
      "Episode: 48, Steps: 434, eps: 0.984, total rewards: 130.0\n",
      "Episode: 49, Steps: 515, eps: 0.984, total rewards: 55.0\n",
      "Episode: 50, Steps: 723, eps: 0.984, total rewards: 190.0\n",
      "Episode: 51, Steps: 394, eps: 0.983, total rewards: 125.0\n",
      "Episode: 52, Steps: 563, eps: 0.983, total rewards: 190.0\n",
      "Episode: 53, Steps: 575, eps: 0.983, total rewards: 140.0\n",
      "Episode: 54, Steps: 437, eps: 0.982, total rewards: 80.0\n",
      "Episode: 55, Steps: 297, eps: 0.982, total rewards: 65.0\n",
      "Episode: 56, Steps: 296, eps: 0.982, total rewards: 105.0\n",
      "Episode: 57, Steps: 371, eps: 0.981, total rewards: 35.0\n",
      "Episode: 58, Steps: 431, eps: 0.981, total rewards: 45.0\n",
      "Episode: 59, Steps: 455, eps: 0.981, total rewards: 85.0\n",
      "Episode: 60, Steps: 533, eps: 0.980, total rewards: 105.0\n",
      "Episode: 61, Steps: 517, eps: 0.980, total rewards: 160.0\n",
      "Episode: 62, Steps: 370, eps: 0.980, total rewards: 105.0\n",
      "Episode: 63, Steps: 403, eps: 0.979, total rewards: 110.0\n",
      "Episode: 64, Steps: 774, eps: 0.979, total rewards: 440.0\n",
      "Episode: 65, Steps: 304, eps: 0.979, total rewards: 30.0\n",
      "Episode: 66, Steps: 599, eps: 0.978, total rewards: 155.0\n",
      "Episode: 67, Steps: 453, eps: 0.978, total rewards: 180.0\n",
      "Episode: 68, Steps: 381, eps: 0.978, total rewards: 80.0\n",
      "Episode: 69, Steps: 472, eps: 0.977, total rewards: 115.0\n",
      "Episode: 70, Steps: 291, eps: 0.977, total rewards: 75.0\n",
      "Episode: 71, Steps: 496, eps: 0.977, total rewards: 90.0\n",
      "Episode: 72, Steps: 826, eps: 0.976, total rewards: 265.0\n",
      "Episode: 73, Steps: 882, eps: 0.976, total rewards: 210.0\n",
      "Episode: 74, Steps: 291, eps: 0.976, total rewards: 55.0\n",
      "Episode: 75, Steps: 272, eps: 0.975, total rewards: 10.0\n",
      "Episode: 76, Steps: 532, eps: 0.975, total rewards: 110.0\n",
      "Episode: 77, Steps: 806, eps: 0.975, total rewards: 365.0\n"
     ]
    }
   ],
   "source": [
    "spaceinvaders_rewards, spaceinvaders_max_steps, spaceinvaders_q_values, spaceinvaders_model = train_dqn(\"ALE/SpaceInvaders-v5\", method=\"ddqn_injected_plasticity\")"
   ],
   "metadata": {
    "collapsed": false,
    "is_executing": true,
    "ExecuteTime": {
     "start_time": "2024-04-08T23:44:48.481531Z"
    }
   },
   "id": "c46b64e827b718ac",
   "execution_count": null
  },
  {
   "cell_type": "code",
   "outputs": [],
   "source": [
    "plot_rewards(spaceinvaders_rewards, title='SpaceInvaders Rewards Over Episodes')"
   ],
   "metadata": {
    "collapsed": false,
    "is_executing": true
   },
   "id": "c26e6ff8f46ed62a",
   "execution_count": null
  },
  {
   "cell_type": "code",
   "outputs": [],
   "source": [
    "plot_q(spaceinvaders_q_values, title='SpaceInvaders Q Values Over Episodes')"
   ],
   "metadata": {
    "collapsed": false,
    "is_executing": true
   },
   "id": "15b04636cf37c2e1",
   "execution_count": null
  },
  {
   "cell_type": "code",
   "outputs": [],
   "source": [
    "np.save(\"../data/save/spaceinvaders_rewards_dqn_injected_plasticity.npy\", np.array(spaceinvaders_rewards))\n",
    "np.save(\"../data/save/spaceinvaders_max_steps_dqn_injected_plasticity.npy\", np.array(spaceinvaders_max_steps))\n",
    "np.save(\"../data/save/spaceinvaders_q_values_dqn_injected_plasticity.npy\", np.array(spaceinvaders_q_values))"
   ],
   "metadata": {
    "collapsed": false,
    "is_executing": true
   },
   "id": "f33d404abe907c6b",
   "execution_count": null
  },
  {
   "cell_type": "code",
   "outputs": [],
   "source": [
    "spaceinvaders_model.save(\"../data/saved_models/spaceinvaders_model_dqn_injected_plasticity.keras\")"
   ],
   "metadata": {
    "collapsed": false,
    "is_executing": true
   },
   "id": "3195f5c736fee7d8",
   "execution_count": null
  },
  {
   "cell_type": "code",
   "outputs": [],
   "source": [
    "breakout_rewards, breakout_max_steps, breakout_q_values, breakout_model = train_dqn(\"ALE/Breakout-v5\", method=\"dqn_injected_plasticity\")"
   ],
   "metadata": {
    "collapsed": false,
    "is_executing": true
   },
   "id": "f82aa173445d6d66",
   "execution_count": null
  },
  {
   "cell_type": "code",
   "outputs": [],
   "source": [
    "plot_rewards(breakout_rewards, title='Breakout Rewards Over Episodes')"
   ],
   "metadata": {
    "collapsed": false,
    "is_executing": true
   },
   "id": "45dcd49a235a6154",
   "execution_count": null
  },
  {
   "cell_type": "code",
   "outputs": [],
   "source": [
    "plot_q(breakout_q_values, title='Breakout Q Values Over Episodes')"
   ],
   "metadata": {
    "collapsed": false,
    "is_executing": true
   },
   "id": "78854389b773bbb3",
   "execution_count": null
  },
  {
   "cell_type": "code",
   "outputs": [],
   "source": [
    "np.save(\"../data/save/breakout_rewards_dqn_injected_plasticity.npy\", np.array(breakout_rewards))\n",
    "np.save(\"../data/save/breakout_max_steps_dqn_injected_plasticity.npy\", np.array(breakout_max_steps))\n",
    "np.save(\"../data/save/breakout_q_values_dqn_injected_plasticity.npy\", np.array(breakout_q_values))"
   ],
   "metadata": {
    "collapsed": false,
    "is_executing": true
   },
   "id": "d545abdb6356adc0"
  },
  {
   "cell_type": "code",
   "outputs": [],
   "source": [
    "breakout_model.save(\"../saved_models/breakout_model_dqn_injected_plasticity.keras\")"
   ],
   "metadata": {
    "collapsed": false,
    "is_executing": true
   },
   "id": "b388e7fced5c305b"
  },
  {
   "cell_type": "code",
   "outputs": [],
   "source": [
    "seaquest_rewards, seaquest_max_steps, seaquest_q_values, seaquest_model = train_dqn(\"ALE/Seaquest-v5\", method=\"dqn_injected_plasticity\")"
   ],
   "metadata": {
    "collapsed": false,
    "is_executing": true
   },
   "id": "f57d8cef77736078",
   "execution_count": null
  },
  {
   "cell_type": "code",
   "outputs": [],
   "source": [
    "plot_rewards(seaquest_rewards, title='SeaQuest Rewards Over Episodes')"
   ],
   "metadata": {
    "collapsed": false,
    "is_executing": true
   },
   "id": "8ee1de41cf3df084"
  },
  {
   "cell_type": "code",
   "outputs": [],
   "source": [
    "plot_q(seaquest_rewards, title='SeaQuest Q Values Over Episodes')"
   ],
   "metadata": {
    "collapsed": false,
    "is_executing": true
   },
   "id": "ce310f77f13f3ef6"
  },
  {
   "cell_type": "code",
   "outputs": [],
   "source": [
    "np.save(\"../data/save/seaquest_rewards_dqn_injected_plasticity.npy\", np.array(seaquest_rewards))\n",
    "np.save(\"../data/save/seaquest_max_steps_dqn_injected_plasticity.npy\", np.array(seaquest_max_steps))\n",
    "np.save(\"../data/save/seaquest_q_values_dqn_injected_plasticity.npy\", np.array(seaquest_q_values))"
   ],
   "metadata": {
    "collapsed": false,
    "is_executing": true
   },
   "id": "c1945ab336b329ee"
  },
  {
   "cell_type": "code",
   "outputs": [],
   "source": [
    "seaquest_model.save(\"../saved_models/seaquest_model_dqn_injected_plasticity.keras\")"
   ],
   "metadata": {
    "collapsed": false,
    "is_executing": true
   },
   "id": "33e1c69a2a749554"
  },
  {
   "cell_type": "code",
   "outputs": [],
   "source": [
    "pong_rewards, pong_max_steps, pong_q_values, pong_model = train_dqn(\"ALE/Pong-v5\", method=\"dqn_injected_plasticity\")"
   ],
   "metadata": {
    "collapsed": false,
    "is_executing": true
   },
   "id": "86db89be87f0aa1"
  },
  {
   "cell_type": "code",
   "outputs": [],
   "source": [
    "plot_rewards(pong_rewards, title='Pong Rewards Over Episodes')"
   ],
   "metadata": {
    "collapsed": false,
    "is_executing": true
   },
   "id": "1a581f9736e76fe2"
  },
  {
   "cell_type": "code",
   "outputs": [],
   "source": [
    "plot_q(pong_rewards, title='Pong Q Values Over Episodes')"
   ],
   "metadata": {
    "collapsed": false,
    "is_executing": true
   },
   "id": "8b31c86b506cc235"
  },
  {
   "cell_type": "code",
   "outputs": [],
   "source": [
    "np.save(\"../data/save/pong_rewards_dqn_injected_plasticity.npy\", np.array(pong_rewards))\n",
    "np.save(\"../data/save/pong_max_steps_dqn_injected_plasticity.npy\", np.array(pong_max_steps))\n",
    "np.save(\"../data/save/pong_q_values_dqn_injected_plasticity.npy\", np.array(pong_q_values))"
   ],
   "metadata": {
    "collapsed": false,
    "is_executing": true
   },
   "id": "69e0d8f43a6620fd"
  },
  {
   "cell_type": "code",
   "outputs": [],
   "source": [
    "pong_model.save(\"../saved_models/pong_model_dqn_injected_plasticity.keras\")"
   ],
   "metadata": {
    "collapsed": false,
    "is_executing": true
   },
   "id": "241341b8e1a21bdf"
  },
  {
   "cell_type": "code",
   "outputs": [],
   "source": [
    "plot_all_rewards(spaceinvaders_rewards, breakout_rewards, pong_rewards, seaquest_rewards, \"DQN with Plasticity\")"
   ],
   "metadata": {
    "collapsed": false,
    "is_executing": true
   },
   "id": "1422dbeb693e441b"
  },
  {
   "cell_type": "code",
   "outputs": [],
   "source": [],
   "metadata": {
    "collapsed": false,
    "is_executing": true
   },
   "id": "6ea3e38895176ae5"
  }
 ],
 "metadata": {
  "kernelspec": {
   "display_name": "Python 3",
   "language": "python",
   "name": "python3"
  },
  "language_info": {
   "codemirror_mode": {
    "name": "ipython",
    "version": 2
   },
   "file_extension": ".py",
   "mimetype": "text/x-python",
   "name": "python",
   "nbconvert_exporter": "python",
   "pygments_lexer": "ipython2",
   "version": "2.7.6"
  }
 },
 "nbformat": 4,
 "nbformat_minor": 5
}
