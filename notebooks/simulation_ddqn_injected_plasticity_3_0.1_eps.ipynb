{
 "cells": [
  {
   "cell_type": "code",
   "execution_count": 1,
   "id": "initial_id",
   "metadata": {
    "collapsed": true,
    "ExecuteTime": {
     "end_time": "2024-04-18T15:35:33.230692Z",
     "start_time": "2024-04-18T15:35:30.223324Z"
    }
   },
   "outputs": [],
   "source": [
    "import numpy as np\n",
    "\n",
    "from src.main import train_dqn\n",
    "from src.visualization import plot_rewards, plot_q, plot_all_rewards"
   ]
  },
  {
   "cell_type": "code",
   "outputs": [
    {
     "name": "stderr",
     "output_type": "stream",
     "text": [
      "A.L.E: Arcade Learning Environment (version 0.8.1+53f58b7)\n",
      "[Powered by Stella]\n",
      "2024-04-18 16:35:33.302155: I metal_plugin/src/device/metal_device.cc:1154] Metal device set to: Apple M2 Max\n",
      "2024-04-18 16:35:33.302178: I metal_plugin/src/device/metal_device.cc:296] systemMemory: 32.00 GB\n",
      "2024-04-18 16:35:33.302182: I metal_plugin/src/device/metal_device.cc:313] maxCacheSize: 10.67 GB\n",
      "2024-04-18 16:35:33.302198: I tensorflow/core/common_runtime/pluggable_device/pluggable_device_factory.cc:305] Could not identify NUMA node of platform GPU ID 0, defaulting to 0. Your kernel may not have been built with NUMA support.\n",
      "2024-04-18 16:35:33.302214: I tensorflow/core/common_runtime/pluggable_device/pluggable_device_factory.cc:271] Created TensorFlow device (/job:localhost/replica:0/task:0/device:GPU:0 with 0 MB memory) -> physical PluggableDevice (device: 0, name: METAL, pci bus id: <undefined>)\n",
      "/Users/ashfaq/.local/share/virtualenvs/rl-atari-7yjpj432/lib/python3.11/site-packages/keras/src/layers/convolutional/base_conv.py:99: UserWarning: Do not pass an `input_shape`/`input_dim` argument to a layer. When using Sequential models, prefer using an `Input(shape)` object as the first layer in the model instead.\n",
      "  super().__init__(\n"
     ]
    },
    {
     "name": "stdout",
     "output_type": "stream",
     "text": [
      "Episode: 1, Steps: 515, eps: 1.000, total rewards: 60.0\n",
      "Episode: 2, Steps: 827, eps: 1.000, total rewards: 240.0\n"
     ]
    },
    {
     "name": "stderr",
     "output_type": "stream",
     "text": [
      "2024-04-18 16:35:34.500214: I tensorflow/core/grappler/optimizers/custom_graph_optimizer_registry.cc:117] Plugin optimizer for device_type GPU is enabled.\n"
     ]
    },
    {
     "name": "stdout",
     "output_type": "stream",
     "text": [
      "Episode: 3, Steps: 618, eps: 0.999, total rewards: 120.0\n",
      "Episode: 4, Steps: 531, eps: 0.999, total rewards: 80.0\n",
      "Episode: 5, Steps: 480, eps: 0.999, total rewards: 40.0\n",
      "Episode: 6, Steps: 594, eps: 0.999, total rewards: 100.0\n",
      "Episode: 7, Steps: 364, eps: 0.998, total rewards: 20.0\n",
      "Episode: 8, Steps: 624, eps: 0.998, total rewards: 80.0\n",
      "Episode: 9, Steps: 362, eps: 0.998, total rewards: 0.0\n",
      "Episode: 10, Steps: 457, eps: 0.997, total rewards: 40.0\n",
      "Episode: 11, Steps: 441, eps: 0.997, total rewards: 60.0\n",
      "Episode: 12, Steps: 495, eps: 0.997, total rewards: 80.0\n",
      "Episode: 13, Steps: 756, eps: 0.997, total rewards: 160.0\n",
      "Episode: 14, Steps: 462, eps: 0.996, total rewards: 40.0\n",
      "Episode: 15, Steps: 484, eps: 0.996, total rewards: 60.0\n",
      "Episode: 16, Steps: 424, eps: 0.996, total rewards: 40.0\n",
      "Episode: 17, Steps: 415, eps: 0.995, total rewards: 20.0\n",
      "Episode: 18, Steps: 515, eps: 0.995, total rewards: 100.0\n",
      "Episode: 19, Steps: 349, eps: 0.995, total rewards: 0.0\n",
      "Episode: 20, Steps: 733, eps: 0.995, total rewards: 120.0\n",
      "Episode: 21, Steps: 566, eps: 0.994, total rewards: 80.0\n",
      "Episode: 22, Steps: 621, eps: 0.994, total rewards: 120.0\n",
      "Episode: 23, Steps: 402, eps: 0.994, total rewards: 20.0\n",
      "Episode: 24, Steps: 621, eps: 0.993, total rewards: 140.0\n",
      "Episode: 25, Steps: 458, eps: 0.993, total rewards: 60.0\n",
      "Episode: 26, Steps: 387, eps: 0.993, total rewards: 20.0\n",
      "Episode: 27, Steps: 705, eps: 0.993, total rewards: 140.0\n",
      "Episode: 28, Steps: 389, eps: 0.992, total rewards: 40.0\n",
      "Episode: 29, Steps: 738, eps: 0.992, total rewards: 140.0\n",
      "Episode: 30, Steps: 459, eps: 0.992, total rewards: 0.0\n",
      "Episode: 31, Steps: 422, eps: 0.991, total rewards: 40.0\n",
      "Episode: 32, Steps: 409, eps: 0.991, total rewards: 0.0\n",
      "Episode: 33, Steps: 1011, eps: 0.991, total rewards: 320.0\n",
      "Episode: 34, Steps: 376, eps: 0.991, total rewards: 40.0\n",
      "Episode: 35, Steps: 580, eps: 0.990, total rewards: 80.0\n",
      "Episode: 36, Steps: 516, eps: 0.990, total rewards: 80.0\n",
      "Episode: 37, Steps: 569, eps: 0.990, total rewards: 80.0\n",
      "Episode: 38, Steps: 488, eps: 0.989, total rewards: 40.0\n",
      "Episode: 39, Steps: 797, eps: 0.989, total rewards: 220.0\n",
      "Episode: 40, Steps: 797, eps: 0.989, total rewards: 180.0\n",
      "Episode: 41, Steps: 845, eps: 0.989, total rewards: 200.0\n",
      "Episode: 42, Steps: 332, eps: 0.988, total rewards: 20.0\n",
      "Episode: 43, Steps: 730, eps: 0.988, total rewards: 160.0\n",
      "Episode: 44, Steps: 529, eps: 0.988, total rewards: 40.0\n",
      "Episode: 45, Steps: 658, eps: 0.987, total rewards: 100.0\n",
      "Episode: 46, Steps: 475, eps: 0.987, total rewards: 60.0\n",
      "Episode: 47, Steps: 340, eps: 0.987, total rewards: 0.0\n",
      "Episode: 48, Steps: 508, eps: 0.987, total rewards: 100.0\n",
      "Episode: 49, Steps: 812, eps: 0.986, total rewards: 240.0\n",
      "Episode: 50, Steps: 598, eps: 0.986, total rewards: 140.0\n",
      "Episode: 51, Steps: 571, eps: 0.986, total rewards: 140.0\n"
     ]
    },
    {
     "name": "stderr",
     "output_type": "stream",
     "text": [
      "/Users/ashfaq/.local/share/virtualenvs/rl-atari-7yjpj432/lib/python3.11/site-packages/keras/src/optimizers/base_optimizer.py:576: UserWarning: Gradients do not exist for variables ['hebb_dense1', 'hebb_state_values', 'hebb_raw_advantages'] when minimizing the loss. If using `model.compile()`, did you forget to provide a `loss` argument?\n",
      "  warnings.warn(\n"
     ]
    },
    {
     "name": "stdout",
     "output_type": "stream",
     "text": [
      "Episode: 52, Steps: 397, eps: 0.985, total rewards: 40.0\n",
      "Episode: 53, Steps: 505, eps: 0.985, total rewards: 80.0\n",
      "Episode: 54, Steps: 411, eps: 0.985, total rewards: 40.0\n",
      "Episode: 55, Steps: 432, eps: 0.985, total rewards: 20.0\n",
      "Episode: 56, Steps: 828, eps: 0.984, total rewards: 160.0\n",
      "Episode: 57, Steps: 449, eps: 0.984, total rewards: 40.0\n",
      "Episode: 58, Steps: 739, eps: 0.984, total rewards: 140.0\n",
      "Episode: 59, Steps: 740, eps: 0.983, total rewards: 180.0\n",
      "Episode: 60, Steps: 405, eps: 0.983, total rewards: 60.0\n",
      "Episode: 61, Steps: 471, eps: 0.983, total rewards: 60.0\n",
      "Episode: 62, Steps: 626, eps: 0.983, total rewards: 120.0\n",
      "Episode: 63, Steps: 1045, eps: 0.982, total rewards: 160.0\n",
      "Episode: 64, Steps: 1047, eps: 0.982, total rewards: 220.0\n",
      "Episode: 65, Steps: 396, eps: 0.982, total rewards: 40.0\n",
      "Episode: 66, Steps: 561, eps: 0.981, total rewards: 80.0\n",
      "Episode: 67, Steps: 371, eps: 0.981, total rewards: 20.0\n",
      "Episode: 68, Steps: 481, eps: 0.981, total rewards: 60.0\n",
      "Episode: 69, Steps: 502, eps: 0.981, total rewards: 100.0\n",
      "Episode: 70, Steps: 406, eps: 0.980, total rewards: 40.0\n",
      "Episode: 71, Steps: 490, eps: 0.980, total rewards: 40.0\n",
      "Episode: 72, Steps: 337, eps: 0.980, total rewards: 20.0\n",
      "Episode: 73, Steps: 818, eps: 0.979, total rewards: 160.0\n",
      "Episode: 74, Steps: 534, eps: 0.979, total rewards: 100.0\n",
      "Episode: 75, Steps: 714, eps: 0.979, total rewards: 100.0\n",
      "Episode: 76, Steps: 513, eps: 0.979, total rewards: 60.0\n",
      "Episode: 77, Steps: 429, eps: 0.978, total rewards: 40.0\n",
      "Episode: 78, Steps: 662, eps: 0.978, total rewards: 140.0\n"
     ]
    }
   ],
   "source": [
    "seaquest_rewards, seaquest_max_steps, seaquest_q_values, seaquest_losses, seaquest_model = train_dqn(\n",
    "    \"ALE/Seaquest-v5\", \n",
    "    method=\"ddqn_injected_plasticity\",\n",
    "    plasticity_training_epsilon=0.1\n",
    ")"
   ],
   "metadata": {
    "collapsed": false,
    "is_executing": true,
    "ExecuteTime": {
     "start_time": "2024-04-18T15:35:33.232878Z"
    }
   },
   "id": "c46b64e827b718ac",
   "execution_count": null
  },
  {
   "cell_type": "code",
   "outputs": [],
   "source": [
    "plot_rewards(seaquest_rewards, title='SeaQuest Rewards Over Episodes')"
   ],
   "metadata": {
    "collapsed": false,
    "is_executing": true
   },
   "id": "df9d81a80add263f",
   "execution_count": null
  },
  {
   "cell_type": "code",
   "outputs": [],
   "source": [
    "plot_q(seaquest_q_values, title='SeaQuest Q Values Over Episodes')"
   ],
   "metadata": {
    "collapsed": false,
    "is_executing": true
   },
   "id": "9363c284e58742dd",
   "execution_count": null
  },
  {
   "cell_type": "code",
   "outputs": [],
   "source": [
    "np.save(\"../data/save/seaquest_rewards_ddqn_injected_plasticity_0-1_eps.npy\", np.array(seaquest_rewards))\n",
    "np.save(\"../data/save/seaquest_max_steps_ddqn_injected_plasticity_0-1_eps.npy\", np.array(seaquest_max_steps))\n",
    "np.save(\"../data/save/seaquest_q_values_ddqn_injected_plasticity_0-1_eps.npy\", np.array(seaquest_q_values))\n",
    "np.save(\"../data/save/seaquest_losses_ddqn_injected_plasticity_0-1_eps.npy\", np.array(seaquest_losses))"
   ],
   "metadata": {
    "collapsed": false,
    "is_executing": true
   },
   "id": "9ac834abdda83c15",
   "execution_count": null
  },
  {
   "cell_type": "code",
   "outputs": [],
   "source": [
    "seaquest_model.save(\"../data/saved_models/seaquest_model_ddqn_injected_plasticity_0-1_eps.keras\")"
   ],
   "metadata": {
    "collapsed": false,
    "is_executing": true
   },
   "id": "2dc338e9aaca9f0d",
   "execution_count": null
  },
  {
   "cell_type": "code",
   "outputs": [],
   "source": [],
   "metadata": {
    "collapsed": false,
    "is_executing": true
   },
   "id": "6ea3e38895176ae5"
  }
 ],
 "metadata": {
  "kernelspec": {
   "display_name": "Python 3",
   "language": "python",
   "name": "python3"
  },
  "language_info": {
   "codemirror_mode": {
    "name": "ipython",
    "version": 2
   },
   "file_extension": ".py",
   "mimetype": "text/x-python",
   "name": "python",
   "nbconvert_exporter": "python",
   "pygments_lexer": "ipython2",
   "version": "2.7.6"
  }
 },
 "nbformat": 4,
 "nbformat_minor": 5
}
