{
 "cells": [
  {
   "cell_type": "code",
   "execution_count": 1,
   "id": "initial_id",
   "metadata": {
    "collapsed": true,
    "ExecuteTime": {
     "end_time": "2024-04-26T00:40:18.126794Z",
     "start_time": "2024-04-26T00:40:16.105142Z"
    }
   },
   "outputs": [],
   "source": [
    "from src.visualization.play import simulate_playing_game"
   ]
  },
  {
   "cell_type": "code",
   "outputs": [],
   "source": [
    "import keras\n",
    "\n",
    "keras.config.enable_unsafe_deserialization()"
   ],
   "metadata": {
    "collapsed": false,
    "ExecuteTime": {
     "end_time": "2024-04-26T00:40:18.129731Z",
     "start_time": "2024-04-26T00:40:18.127804Z"
    }
   },
   "id": "b774e28786a7573",
   "execution_count": 2
  },
  {
   "cell_type": "code",
   "outputs": [
    {
     "name": "stderr",
     "output_type": "stream",
     "text": [
      "2024-04-26 01:40:18.134748: I metal_plugin/src/device/metal_device.cc:1154] Metal device set to: Apple M2 Max\n",
      "2024-04-26 01:40:18.134771: I metal_plugin/src/device/metal_device.cc:296] systemMemory: 32.00 GB\n",
      "2024-04-26 01:40:18.134774: I metal_plugin/src/device/metal_device.cc:313] maxCacheSize: 10.67 GB\n",
      "2024-04-26 01:40:18.134791: I tensorflow/core/common_runtime/pluggable_device/pluggable_device_factory.cc:305] Could not identify NUMA node of platform GPU ID 0, defaulting to 0. Your kernel may not have been built with NUMA support.\n",
      "2024-04-26 01:40:18.134802: I tensorflow/core/common_runtime/pluggable_device/pluggable_device_factory.cc:271] Created TensorFlow device (/job:localhost/replica:0/task:0/device:GPU:0 with 0 MB memory) -> physical PluggableDevice (device: 0, name: METAL, pci bus id: <undefined>)\n",
      "A.L.E: Arcade Learning Environment (version 0.8.1+53f58b7)\n",
      "[Powered by Stella]\n",
      "2024-04-26 01:40:18.441490: I tensorflow/core/grappler/optimizers/custom_graph_optimizer_registry.cc:117] Plugin optimizer for device_type GPU is enabled.\n"
     ]
    }
   ],
   "source": [
    "anim_seaquest_dqn, total_rewards_seaquest_dqn = simulate_playing_game(\"../data/saved_models/seaquest_model_dqn.keras\", env_name=\"ALE/Seaquest-v5\")"
   ],
   "metadata": {
    "collapsed": false,
    "ExecuteTime": {
     "end_time": "2024-04-26T00:40:33.437532Z",
     "start_time": "2024-04-26T00:40:18.130293Z"
    }
   },
   "id": "45f562f8dfd87e92",
   "execution_count": 3
  },
  {
   "cell_type": "code",
   "outputs": [],
   "source": [
    "anim_seaquest_dqn.save('../data/outputs/animation_seaquest.mp4', writer='ffmpeg', fps=30)"
   ],
   "metadata": {
    "collapsed": false,
    "ExecuteTime": {
     "end_time": "2024-04-26T00:40:38.101517Z",
     "start_time": "2024-04-26T00:40:33.438641Z"
    }
   },
   "id": "672ac61bacf366d0",
   "execution_count": 4
  },
  {
   "cell_type": "code",
   "outputs": [],
   "source": [],
   "metadata": {
    "collapsed": false,
    "ExecuteTime": {
     "end_time": "2024-04-26T00:32:31.726279Z",
     "start_time": "2024-04-26T00:32:31.724872Z"
    }
   },
   "id": "28ecb9fcc9aa9531",
   "execution_count": 4
  }
 ],
 "metadata": {
  "kernelspec": {
   "display_name": "Python 3",
   "language": "python",
   "name": "python3"
  },
  "language_info": {
   "codemirror_mode": {
    "name": "ipython",
    "version": 2
   },
   "file_extension": ".py",
   "mimetype": "text/x-python",
   "name": "python",
   "nbconvert_exporter": "python",
   "pygments_lexer": "ipython2",
   "version": "2.7.6"
  }
 },
 "nbformat": 4,
 "nbformat_minor": 5
}
