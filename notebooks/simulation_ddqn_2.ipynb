{
 "cells": [
  {
   "cell_type": "code",
   "execution_count": 1,
   "id": "initial_id",
   "metadata": {
    "collapsed": true,
    "ExecuteTime": {
     "end_time": "2024-04-18T15:55:45.065432Z",
     "start_time": "2024-04-18T15:55:42.983011Z"
    }
   },
   "outputs": [],
   "source": [
    "import numpy as np\n",
    "from src.main import train_dqn\n",
    "from src.visualization import plot_rewards, plot_q, plot_all_rewards"
   ]
  },
  {
   "cell_type": "code",
   "outputs": [
    {
     "name": "stderr",
     "output_type": "stream",
     "text": [
      "A.L.E: Arcade Learning Environment (version 0.8.1+53f58b7)\n",
      "[Powered by Stella]\n",
      "2024-04-18 16:55:45.128739: I metal_plugin/src/device/metal_device.cc:1154] Metal device set to: Apple M2 Max\n",
      "2024-04-18 16:55:45.128760: I metal_plugin/src/device/metal_device.cc:296] systemMemory: 32.00 GB\n",
      "2024-04-18 16:55:45.128763: I metal_plugin/src/device/metal_device.cc:313] maxCacheSize: 10.67 GB\n",
      "2024-04-18 16:55:45.128779: I tensorflow/core/common_runtime/pluggable_device/pluggable_device_factory.cc:305] Could not identify NUMA node of platform GPU ID 0, defaulting to 0. Your kernel may not have been built with NUMA support.\n",
      "2024-04-18 16:55:45.128791: I tensorflow/core/common_runtime/pluggable_device/pluggable_device_factory.cc:271] Created TensorFlow device (/job:localhost/replica:0/task:0/device:GPU:0 with 0 MB memory) -> physical PluggableDevice (device: 0, name: METAL, pci bus id: <undefined>)\n"
     ]
    },
    {
     "name": "stdout",
     "output_type": "stream",
     "text": [
      "Episode: 1, Steps: 1538, eps: 1.000, total rewards: 440.0\n",
      "Episode: 2, Steps: 1149, eps: 1.000, total rewards: 264.0\n",
      "Episode: 3, Steps: 1239, eps: 1.000, total rewards: 352.0\n",
      "Episode: 4, Steps: 1699, eps: 0.999, total rewards: 528.0\n"
     ]
    },
    {
     "name": "stderr",
     "output_type": "stream",
     "text": [
      "2024-04-18 16:55:47.719828: I tensorflow/core/grappler/optimizers/custom_graph_optimizer_registry.cc:117] Plugin optimizer for device_type GPU is enabled.\n"
     ]
    },
    {
     "name": "stdout",
     "output_type": "stream",
     "text": [
      "Episode: 5, Steps: 1297, eps: 0.999, total rewards: 396.0\n",
      "Episode: 6, Steps: 1351, eps: 0.999, total rewards: 220.0\n",
      "Episode: 7, Steps: 2310, eps: 0.999, total rewards: 528.0\n",
      "Episode: 8, Steps: 1341, eps: 0.999, total rewards: 440.0\n",
      "Episode: 9, Steps: 1121, eps: 0.998, total rewards: 440.0\n",
      "Episode: 10, Steps: 1008, eps: 0.998, total rewards: 176.0\n",
      "Episode: 11, Steps: 976, eps: 0.998, total rewards: 220.0\n",
      "Episode: 12, Steps: 1212, eps: 0.998, total rewards: 352.0\n",
      "Episode: 13, Steps: 1337, eps: 0.998, total rewards: 396.0\n",
      "Episode: 14, Steps: 1005, eps: 0.997, total rewards: 132.0\n",
      "Episode: 15, Steps: 1011, eps: 0.997, total rewards: 220.0\n",
      "Episode: 16, Steps: 1150, eps: 0.997, total rewards: 308.0\n",
      "Episode: 17, Steps: 815, eps: 0.997, total rewards: 220.0\n",
      "Episode: 18, Steps: 1770, eps: 0.997, total rewards: 396.0\n",
      "Episode: 19, Steps: 1863, eps: 0.996, total rewards: 616.0\n",
      "Episode: 20, Steps: 1562, eps: 0.996, total rewards: 396.0\n",
      "Episode: 21, Steps: 1233, eps: 0.996, total rewards: 396.0\n",
      "Episode: 22, Steps: 1134, eps: 0.996, total rewards: 352.0\n",
      "Episode: 23, Steps: 1333, eps: 0.996, total rewards: 308.0\n",
      "Episode: 24, Steps: 1624, eps: 0.995, total rewards: 528.0\n",
      "Episode: 25, Steps: 1449, eps: 0.995, total rewards: 220.0\n",
      "Episode: 26, Steps: 1680, eps: 0.995, total rewards: 396.0\n",
      "Episode: 27, Steps: 1812, eps: 0.995, total rewards: 484.0\n",
      "Episode: 28, Steps: 1292, eps: 0.995, total rewards: 396.0\n",
      "Episode: 29, Steps: 1082, eps: 0.994, total rewards: 264.0\n",
      "Episode: 30, Steps: 1309, eps: 0.994, total rewards: 352.0\n",
      "Episode: 31, Steps: 1882, eps: 0.994, total rewards: 708.0\n",
      "Episode: 32, Steps: 1877, eps: 0.994, total rewards: 528.0\n"
     ]
    }
   ],
   "source": [
    "beamrider_rewards, beamrider_max_steps, beamrider_q_values, beamrider_losses, beamrider_model = train_dqn(\"ALE/BeamRider-v5\", method=\"ddqn\")"
   ],
   "metadata": {
    "collapsed": false,
    "is_executing": true,
    "ExecuteTime": {
     "start_time": "2024-04-18T15:55:45.066460Z"
    }
   },
   "id": "ee1e4f74a4f1e4ff",
   "execution_count": null
  },
  {
   "cell_type": "code",
   "outputs": [],
   "source": [
    "plot_rewards(beamrider_losses, title=\"Losses\")"
   ],
   "metadata": {
    "collapsed": false,
    "is_executing": true
   },
   "id": "c86fd5ec76fa405b",
   "execution_count": null
  },
  {
   "cell_type": "code",
   "outputs": [],
   "source": [
    "plot_rewards(beamrider_rewards, title='Beam Rider Rewards Over Episodes')"
   ],
   "metadata": {
    "collapsed": false,
    "is_executing": true
   },
   "id": "13a98172540d165",
   "execution_count": null
  },
  {
   "cell_type": "code",
   "outputs": [],
   "source": [
    "plot_q(beamrider_q_values, title='Beam Rider Q Values Over Episodes')"
   ],
   "metadata": {
    "collapsed": false,
    "is_executing": true
   },
   "id": "2deaca4cf8339db2",
   "execution_count": null
  },
  {
   "cell_type": "code",
   "outputs": [],
   "source": [
    "np.save(\"../data/save/beamrider_rewards_ddqn.npy\", np.array(beamrider_rewards))\n",
    "np.save(\"../data/save/beamrider_max_steps_ddqn.npy\", np.array(beamrider_max_steps))\n",
    "np.save(\"../data/save/beamrider_q_values_ddqn.npy\", np.array(beamrider_q_values))\n",
    "np.save(\"../data/save/beamrider_losses_ddqn.npy\", np.array(beamrider_losses))"
   ],
   "metadata": {
    "collapsed": false,
    "is_executing": true
   },
   "id": "4885229421864b50",
   "execution_count": null
  },
  {
   "cell_type": "code",
   "outputs": [],
   "source": [
    "beamrider_model.save(\"../data/saved_models/beamrider_model_ddqn.keras\")"
   ],
   "metadata": {
    "collapsed": false,
    "is_executing": true
   },
   "id": "4df1a99e7d74fa6",
   "execution_count": null
  },
  {
   "cell_type": "code",
   "outputs": [],
   "source": [],
   "metadata": {
    "collapsed": false,
    "is_executing": true
   },
   "id": "c7a80b2b199dde5c",
   "execution_count": null
  }
 ],
 "metadata": {
  "kernelspec": {
   "display_name": "Python 3",
   "language": "python",
   "name": "python3"
  },
  "language_info": {
   "codemirror_mode": {
    "name": "ipython",
    "version": 2
   },
   "file_extension": ".py",
   "mimetype": "text/x-python",
   "name": "python",
   "nbconvert_exporter": "python",
   "pygments_lexer": "ipython2",
   "version": "2.7.6"
  }
 },
 "nbformat": 4,
 "nbformat_minor": 5
}
