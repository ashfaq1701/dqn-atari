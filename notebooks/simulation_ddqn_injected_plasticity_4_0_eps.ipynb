{
 "cells": [
  {
   "cell_type": "code",
   "execution_count": 8,
   "id": "initial_id",
   "metadata": {
    "collapsed": true,
    "ExecuteTime": {
     "end_time": "2024-04-15T11:46:48.377979Z",
     "start_time": "2024-04-15T11:46:48.375819Z"
    }
   },
   "outputs": [],
   "source": [
    "import numpy as np\n",
    "\n",
    "from src.main import train_dqn\n",
    "from src.visualization import plot_rewards, plot_q, plot_all_rewards"
   ]
  },
  {
   "cell_type": "code",
   "outputs": [],
   "source": [
    "beamrider_rewards, beamrider_max_steps, beamrider_q_values, beamrider_losses,beamrider_model = train_dqn(\"ALE/BeamRider-v5\", method=\"ddqn_injected_plasticity\")"
   ],
   "metadata": {
    "collapsed": false
   },
   "id": "6ea3e38895176ae5"
  },
  {
   "cell_type": "code",
   "outputs": [],
   "source": [
    "plot_rewards(beamrider_rewards, title='Beam Rider Rewards Over Episodes')"
   ],
   "metadata": {
    "collapsed": false
   },
   "id": "c213f10593cee848"
  },
  {
   "cell_type": "code",
   "outputs": [],
   "source": [
    "plot_q(beamrider_q_values, title='Beam Rider Q Values Over Episodes')"
   ],
   "metadata": {
    "collapsed": false
   },
   "id": "32f33e42051ed7b5"
  },
  {
   "cell_type": "code",
   "outputs": [],
   "source": [
    "np.save(\"../data/save/beamrider_rewards_ddqn_injected_plasticity_0_eps.npy\", np.array(beamrider_rewards))\n",
    "np.save(\"../data/save/beamrider_max_steps_ddqn_injected_plasticity_0_eps.npy\", np.array(beamrider_max_steps))\n",
    "np.save(\"../data/save/beamrider_q_values_ddqn_injected_plasticity_0_eps.npy\", np.array(beamrider_q_values))\n",
    "np.save(\"../data/save/beamrider_losses_ddqn_injected_plasticity_0_eps.npy\", np.array(beamrider_losses))"
   ],
   "metadata": {
    "collapsed": false
   },
   "id": "42a0676b80319c5"
  },
  {
   "cell_type": "code",
   "outputs": [],
   "source": [
    "beamrider_model.save(\"../data/saved_models/beamrider_model_ddqn_injected_plasticity_0_eps.keras\")"
   ],
   "metadata": {
    "collapsed": false
   },
   "id": "d6885bba15cea2d0"
  },
  {
   "cell_type": "code",
   "outputs": [],
   "source": [],
   "metadata": {
    "collapsed": false
   },
   "id": "8bf992ee04b25e46"
  }
 ],
 "metadata": {
  "kernelspec": {
   "display_name": "Python 3",
   "language": "python",
   "name": "python3"
  },
  "language_info": {
   "codemirror_mode": {
    "name": "ipython",
    "version": 2
   },
   "file_extension": ".py",
   "mimetype": "text/x-python",
   "name": "python",
   "nbconvert_exporter": "python",
   "pygments_lexer": "ipython2",
   "version": "2.7.6"
  }
 },
 "nbformat": 4,
 "nbformat_minor": 5
}
