{
 "cells": [
  {
   "cell_type": "code",
   "execution_count": 1,
   "id": "initial_id",
   "metadata": {
    "collapsed": true,
    "ExecuteTime": {
     "end_time": "2024-04-18T15:55:47.421410Z",
     "start_time": "2024-04-18T15:55:45.322498Z"
    }
   },
   "outputs": [],
   "source": [
    "import numpy as np\n",
    "\n",
    "from src.main import train_dqn\n",
    "from src.visualization import plot_rewards, plot_q, plot_all_rewards"
   ]
  },
  {
   "cell_type": "code",
   "outputs": [
    {
     "name": "stderr",
     "output_type": "stream",
     "text": [
      "A.L.E: Arcade Learning Environment (version 0.8.1+53f58b7)\n",
      "[Powered by Stella]\n",
      "2024-04-18 16:55:47.482706: I metal_plugin/src/device/metal_device.cc:1154] Metal device set to: Apple M2 Max\n",
      "2024-04-18 16:55:47.482726: I metal_plugin/src/device/metal_device.cc:296] systemMemory: 32.00 GB\n",
      "2024-04-18 16:55:47.482729: I metal_plugin/src/device/metal_device.cc:313] maxCacheSize: 10.67 GB\n",
      "2024-04-18 16:55:47.482747: I tensorflow/core/common_runtime/pluggable_device/pluggable_device_factory.cc:305] Could not identify NUMA node of platform GPU ID 0, defaulting to 0. Your kernel may not have been built with NUMA support.\n",
      "2024-04-18 16:55:47.482757: I tensorflow/core/common_runtime/pluggable_device/pluggable_device_factory.cc:271] Created TensorFlow device (/job:localhost/replica:0/task:0/device:GPU:0 with 0 MB memory) -> physical PluggableDevice (device: 0, name: METAL, pci bus id: <undefined>)\n"
     ]
    },
    {
     "name": "stdout",
     "output_type": "stream",
     "text": [
      "Episode: 1, Steps: 399, eps: 1.000, total rewards: 60.0\n",
      "Episode: 2, Steps: 631, eps: 1.000, total rewards: 210.0\n",
      "Episode: 3, Steps: 304, eps: 1.000, total rewards: 75.0\n"
     ]
    },
    {
     "name": "stderr",
     "output_type": "stream",
     "text": [
      "2024-04-18 16:55:48.285945: I tensorflow/core/grappler/optimizers/custom_graph_optimizer_registry.cc:117] Plugin optimizer for device_type GPU is enabled.\n"
     ]
    },
    {
     "name": "stdout",
     "output_type": "stream",
     "text": [
      "Episode: 4, Steps: 491, eps: 0.999, total rewards: 120.0\n",
      "Episode: 5, Steps: 626, eps: 0.999, total rewards: 165.0\n",
      "Episode: 6, Steps: 303, eps: 0.999, total rewards: 55.0\n",
      "Episode: 7, Steps: 458, eps: 0.999, total rewards: 105.0\n",
      "Episode: 8, Steps: 421, eps: 0.999, total rewards: 155.0\n",
      "Episode: 9, Steps: 492, eps: 0.998, total rewards: 135.0\n",
      "Episode: 10, Steps: 317, eps: 0.998, total rewards: 45.0\n",
      "Episode: 11, Steps: 469, eps: 0.998, total rewards: 105.0\n",
      "Episode: 12, Steps: 512, eps: 0.998, total rewards: 105.0\n",
      "Episode: 13, Steps: 454, eps: 0.998, total rewards: 185.0\n",
      "Episode: 14, Steps: 373, eps: 0.997, total rewards: 65.0\n",
      "Episode: 15, Steps: 528, eps: 0.997, total rewards: 150.0\n",
      "Episode: 16, Steps: 392, eps: 0.997, total rewards: 30.0\n",
      "Episode: 17, Steps: 534, eps: 0.997, total rewards: 135.0\n",
      "Episode: 18, Steps: 322, eps: 0.997, total rewards: 100.0\n",
      "Episode: 19, Steps: 618, eps: 0.996, total rewards: 125.0\n",
      "Episode: 20, Steps: 623, eps: 0.996, total rewards: 210.0\n",
      "Episode: 21, Steps: 495, eps: 0.996, total rewards: 95.0\n",
      "Episode: 22, Steps: 395, eps: 0.996, total rewards: 135.0\n",
      "Episode: 23, Steps: 285, eps: 0.996, total rewards: 55.0\n",
      "Episode: 24, Steps: 455, eps: 0.995, total rewards: 90.0\n",
      "Episode: 25, Steps: 537, eps: 0.995, total rewards: 105.0\n",
      "Episode: 26, Steps: 539, eps: 0.995, total rewards: 150.0\n",
      "Episode: 27, Steps: 343, eps: 0.995, total rewards: 75.0\n",
      "Episode: 28, Steps: 373, eps: 0.995, total rewards: 10.0\n",
      "Episode: 29, Steps: 434, eps: 0.994, total rewards: 105.0\n",
      "Episode: 30, Steps: 515, eps: 0.994, total rewards: 180.0\n",
      "Episode: 31, Steps: 615, eps: 0.994, total rewards: 180.0\n",
      "Episode: 32, Steps: 453, eps: 0.994, total rewards: 105.0\n",
      "Episode: 33, Steps: 367, eps: 0.994, total rewards: 45.0\n",
      "Episode: 34, Steps: 754, eps: 0.993, total rewards: 155.0\n",
      "Episode: 35, Steps: 490, eps: 0.993, total rewards: 125.0\n",
      "Episode: 36, Steps: 491, eps: 0.993, total rewards: 120.0\n",
      "Episode: 37, Steps: 349, eps: 0.993, total rewards: 55.0\n",
      "Episode: 38, Steps: 287, eps: 0.993, total rewards: 60.0\n",
      "Episode: 39, Steps: 291, eps: 0.992, total rewards: 110.0\n",
      "Episode: 40, Steps: 490, eps: 0.992, total rewards: 95.0\n",
      "Episode: 41, Steps: 641, eps: 0.992, total rewards: 170.0\n",
      "Episode: 42, Steps: 585, eps: 0.992, total rewards: 165.0\n",
      "Episode: 43, Steps: 627, eps: 0.992, total rewards: 210.0\n",
      "Episode: 44, Steps: 505, eps: 0.991, total rewards: 185.0\n",
      "Episode: 45, Steps: 728, eps: 0.991, total rewards: 440.0\n",
      "Episode: 46, Steps: 587, eps: 0.991, total rewards: 130.0\n",
      "Episode: 47, Steps: 520, eps: 0.991, total rewards: 155.0\n",
      "Episode: 48, Steps: 341, eps: 0.991, total rewards: 35.0\n",
      "Episode: 49, Steps: 529, eps: 0.990, total rewards: 140.0\n",
      "Episode: 50, Steps: 397, eps: 0.990, total rewards: 180.0\n",
      "Episode: 51, Steps: 510, eps: 0.990, total rewards: 120.0\n",
      "Episode: 52, Steps: 317, eps: 0.990, total rewards: 110.0\n",
      "Episode: 53, Steps: 509, eps: 0.990, total rewards: 135.0\n",
      "Episode: 54, Steps: 610, eps: 0.989, total rewards: 125.0\n",
      "Episode: 55, Steps: 527, eps: 0.989, total rewards: 110.0\n",
      "Episode: 56, Steps: 439, eps: 0.989, total rewards: 105.0\n",
      "Episode: 57, Steps: 722, eps: 0.989, total rewards: 315.0\n",
      "Episode: 58, Steps: 326, eps: 0.989, total rewards: 110.0\n",
      "Episode: 59, Steps: 412, eps: 0.988, total rewards: 75.0\n",
      "Episode: 60, Steps: 562, eps: 0.988, total rewards: 150.0\n",
      "Episode: 61, Steps: 617, eps: 0.988, total rewards: 240.0\n"
     ]
    }
   ],
   "source": [
    "spaceinvaders_rewards, spaceinvaders_max_steps, spaceinvaders_q_values, spaceinvaders_losses, spaceinvaders_model = train_dqn(\"ALE/SpaceInvaders-v5\", method=\"dqn\")"
   ],
   "metadata": {
    "collapsed": false,
    "is_executing": true,
    "ExecuteTime": {
     "start_time": "2024-04-18T15:55:47.422634Z"
    }
   },
   "id": "c46b64e827b718ac",
   "execution_count": null
  },
  {
   "cell_type": "code",
   "outputs": [],
   "source": [
    "plot_rewards(spaceinvaders_rewards, title='SpaceInvaders Rewards Over Episodes')"
   ],
   "metadata": {
    "collapsed": false,
    "is_executing": true
   },
   "id": "c26e6ff8f46ed62a",
   "execution_count": null
  },
  {
   "cell_type": "code",
   "outputs": [],
   "source": [
    "plot_q(spaceinvaders_q_values, title='SpaceInvaders Q Values Over Episodes')"
   ],
   "metadata": {
    "collapsed": false,
    "is_executing": true
   },
   "id": "15b04636cf37c2e1",
   "execution_count": null
  },
  {
   "cell_type": "code",
   "outputs": [],
   "source": [
    "np.save(\"../data/save/spaceinvaders_rewards_dqn.npy\", np.array(spaceinvaders_rewards))\n",
    "np.save(\"../data/save/spaceinvaders_max_steps_dqn.npy\", np.array(spaceinvaders_max_steps))\n",
    "np.save(\"../data/save/spaceinvaders_q_values_dqn.npy\", np.array(spaceinvaders_q_values))\n",
    "np.save(\"../data/save/spaceinvaders_losses_dqn.npy\", np.array(spaceinvaders_losses))"
   ],
   "metadata": {
    "collapsed": false,
    "is_executing": true
   },
   "id": "f33d404abe907c6b",
   "execution_count": null
  },
  {
   "cell_type": "code",
   "outputs": [],
   "source": [
    "spaceinvaders_model.save(\"../data/saved_models/spaceinvaders_model_dqn.keras\")"
   ],
   "metadata": {
    "collapsed": false,
    "is_executing": true
   },
   "id": "3195f5c736fee7d8",
   "execution_count": null
  },
  {
   "cell_type": "code",
   "outputs": [],
   "source": [
    "breakout_rewards, breakout_max_steps, breakout_q_values, breakout_losses, breakout_model = train_dqn(\"ALE/Breakout-v5\", method=\"dqn\")"
   ],
   "metadata": {
    "collapsed": false,
    "is_executing": true
   },
   "id": "f82aa173445d6d66",
   "execution_count": null
  },
  {
   "cell_type": "code",
   "outputs": [],
   "source": [
    "plot_rewards(breakout_rewards, title='Breakout Rewards Over Episodes')"
   ],
   "metadata": {
    "collapsed": false,
    "is_executing": true
   },
   "id": "45dcd49a235a6154",
   "execution_count": null
  },
  {
   "cell_type": "code",
   "outputs": [],
   "source": [
    "plot_q(breakout_q_values, title='Breakout Q Values Over Episodes')"
   ],
   "metadata": {
    "collapsed": false,
    "is_executing": true
   },
   "id": "78854389b773bbb3",
   "execution_count": null
  },
  {
   "cell_type": "code",
   "outputs": [],
   "source": [
    "np.save(\"../data/save/breakout_rewards_dqn.npy\", np.array(breakout_rewards))\n",
    "np.save(\"../data/save/breakout_max_steps_dqn.npy\", np.array(breakout_max_steps))\n",
    "np.save(\"../data/save/breakout_q_values_dqn.npy\", np.array(breakout_q_values))\n",
    "np.save(\"../data/save/breakout_losses_dqn.npy\", np.array(breakout_losses))"
   ],
   "metadata": {
    "collapsed": false,
    "is_executing": true
   },
   "id": "d545abdb6356adc0",
   "execution_count": null
  },
  {
   "cell_type": "code",
   "outputs": [],
   "source": [
    "breakout_model.save(\"../data/saved_models/breakout_model_dqn.keras\")"
   ],
   "metadata": {
    "collapsed": false,
    "is_executing": true
   },
   "id": "b388e7fced5c305b",
   "execution_count": null
  },
  {
   "cell_type": "code",
   "outputs": [],
   "source": [
    "seaquest_rewards, seaquest_max_steps, seaquest_q_values, seaquest_losses, seaquest_model = train_dqn(\"ALE/Seaquest-v5\", method=\"dqn\")"
   ],
   "metadata": {
    "collapsed": false,
    "is_executing": true
   },
   "id": "f57d8cef77736078",
   "execution_count": null
  },
  {
   "cell_type": "code",
   "outputs": [],
   "source": [
    "plot_rewards(seaquest_rewards, title='SeaQuest Rewards Over Episodes')"
   ],
   "metadata": {
    "collapsed": false,
    "is_executing": true
   },
   "id": "8ee1de41cf3df084",
   "execution_count": null
  },
  {
   "cell_type": "code",
   "outputs": [],
   "source": [
    "plot_q(seaquest_q_values, title='SeaQuest Q Values Over Episodes')"
   ],
   "metadata": {
    "collapsed": false,
    "is_executing": true
   },
   "id": "ce310f77f13f3ef6",
   "execution_count": null
  },
  {
   "cell_type": "code",
   "outputs": [],
   "source": [
    "np.save(\"../data/save/seaquest_rewards_dqn.npy\", np.array(seaquest_rewards))\n",
    "np.save(\"../data/save/seaquest_max_steps_dqn.npy\", np.array(seaquest_max_steps))\n",
    "np.save(\"../data/save/seaquest_q_values_dqn.npy\", np.array(seaquest_q_values))\n",
    "np.save(\"../data/save/seaquest_losses_dqn.npy\", np.array(seaquest_losses))"
   ],
   "metadata": {
    "collapsed": false,
    "is_executing": true
   },
   "id": "c1945ab336b329ee",
   "execution_count": null
  },
  {
   "cell_type": "code",
   "outputs": [],
   "source": [
    "seaquest_model.save(\"../data/saved_models/seaquest_model_dqn.keras\")"
   ],
   "metadata": {
    "collapsed": false,
    "is_executing": true
   },
   "id": "33e1c69a2a749554",
   "execution_count": null
  },
  {
   "cell_type": "code",
   "outputs": [],
   "source": [],
   "metadata": {
    "collapsed": false,
    "is_executing": true
   },
   "id": "6ea3e38895176ae5"
  }
 ],
 "metadata": {
  "kernelspec": {
   "display_name": "Python 3",
   "language": "python",
   "name": "python3"
  },
  "language_info": {
   "codemirror_mode": {
    "name": "ipython",
    "version": 2
   },
   "file_extension": ".py",
   "mimetype": "text/x-python",
   "name": "python",
   "nbconvert_exporter": "python",
   "pygments_lexer": "ipython2",
   "version": "2.7.6"
  }
 },
 "nbformat": 4,
 "nbformat_minor": 5
}
